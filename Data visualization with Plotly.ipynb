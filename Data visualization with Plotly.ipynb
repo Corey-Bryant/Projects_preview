{
 "cells": [
  {
   "cell_type": "markdown",
   "metadata": {},
   "source": [
    "# This file contains various data visualizations using Plotly"
   ]
  },
  {
   "cell_type": "markdown",
   "metadata": {},
   "source": [
    "### Plotly with Python offers interactive maps and graphing options"
   ]
  },
  {
   "cell_type": "markdown",
   "metadata": {},
   "source": [
    "With Plotly, the visualizations can also be hosted on a dashboard online. However, I am using Github so those who are interested can see the code behind the graphs"
   ]
  },
  {
   "cell_type": "code",
   "execution_count": 1,
   "metadata": {
    "collapsed": false
   },
   "outputs": [
    {
     "data": {
      "text/html": [
       "<script>requirejs.config({paths: { 'plotly': ['https://cdn.plot.ly/plotly-latest.min']},});if(!window.Plotly) {{require(['plotly'],function(plotly) {window.Plotly=plotly;});}}</script>"
      ],
      "text/plain": [
       "<IPython.core.display.HTML object>"
      ]
     },
     "metadata": {},
     "output_type": "display_data"
    }
   ],
   "source": [
    "# Getting the needed libraries for the tasks at hand\n",
    "\n",
    "import pandas as pd\n",
    "from pandas import Series, DataFrame\n",
    "\n",
    "import seaborn as sns\n",
    "\n",
    "# Useing this one\n",
    "import plotly\n",
    "plotly.tools.set_credentials_file(username='CoreyBryant', api_key='xhyucfe7aa') #Only needed for online hosting\n",
    "\n",
    "from plotly import __version__\n",
    "from plotly.offline import download_plotlyjs, init_notebook_mode, plot, iplot\n",
    "\n",
    "init_notebook_mode(connected=True) # run at the start of every ipython notebook to use plotly.offline\n",
    "\n",
    "from plotly.graph_objs import *"
   ]
  },
  {
   "cell_type": "markdown",
   "metadata": {},
   "source": [
    "## An interactive map of the USA is displayed first"
   ]
  },
  {
   "cell_type": "code",
   "execution_count": 2,
   "metadata": {
    "collapsed": true
   },
   "outputs": [],
   "source": [
    "# Loading the dataset that has already been cleaned and processed\n",
    "df = pd.read_csv('organic_farms_2011.csv')"
   ]
  },
  {
   "cell_type": "code",
   "execution_count": 3,
   "metadata": {
    "collapsed": false,
    "scrolled": false
   },
   "outputs": [
    {
     "data": {
      "text/html": [
       "<div id=\"186499d0-0c9c-4897-a0e0-fa96b20b0b1f\" style=\"height: 525px; width: 100%;\" class=\"plotly-graph-div\"></div><script type=\"text/javascript\">require([\"plotly\"], function(Plotly) { window.PLOTLYENV=window.PLOTLYENV || {};window.PLOTLYENV.BASE_URL=\"https://plot.ly\";Plotly.newPlot(\"186499d0-0c9c-4897-a0e0-fa96b20b0b1f\", [{\"autocolorscale\": true, \"colorscale\": [[0.0, \"rgb(242,240,247)\"], [0.2, \"rgb(218,218,235)\"], [0.4, \"rgb(188,189,220)\"], [0.6, \"rgb(158,154,200)\"], [0.8, \"rgb(117,107,177)\"], [1.0, \"rgb(84,39,143)\"]], \"text\": [\"Alabama<br>Certified Operations 12<br>Crops 1,529<br>Pasture & Rangeland 211<br>Total 1740.01\", \"Alaska<br>Certified Operations 1<br>Crops 51,256<br>Pasture & Rangeland nan<br>Total 51256.0\", \"Arizona<br>Certified Operations 56<br>Crops 24,485<br>Pasture & Rangeland 15,700<br>Total 40185.29\", \"Arkansas<br>Certified Operations 28<br>Crops 14,546<br>Pasture & Rangeland 540<br>Total 15086.37\", \"California<br>Certified Operations 2,530<br>Crops 405,473<br>Pasture & Rangeland 545,883<br>Total 951356.18\", \"Colorado<br>Certified Operations 217<br>Crops 78,583<br>Pasture & Rangeland 85,424<br>Total 164007.24\", \"Connecticut<br>Certified Operations 48<br>Crops 69,438<br>Pasture & Rangeland 111<br>Total 69549.42\", \"Delaware<br>Certified Operations 7<br>Crops 291<br>Pasture & Rangeland 37<br>Total 328.01\", \"Florida<br>Certified Operations 153<br>Crops 31,029<br>Pasture & Rangeland 753<br>Total 31782.71\", \"Georgia<br>Certified Operations 75<br>Crops 3,310<br>Pasture & Rangeland 2,173<br>Total 5482.93\", \"Hawaii<br>Certified Operations 98<br>Crops 4,741<br>Pasture & Rangeland 2,079<br>Total 6819.45\", \"Idaho<br>Certified Operations 168<br>Crops 88,663<br>Pasture & Rangeland 27,324<br>Total 115986.99\", \"Illinois<br>Certified Operations 150<br>Crops 30,805<br>Pasture & Rangeland 5,082<br>Total 35887.38\", \"Indiana<br>Certified Operations 212<br>Crops 12,189<br>Pasture & Rangeland 11,518<br>Total 23707.75\", \"Iowa<br>Certified Operations 593<br>Crops 84,427<br>Pasture & Rangeland 42,561<br>Total 126988.87\", \"Kansas<br>Certified Operations 75<br>Crops 44,104<br>Pasture & Rangeland 3,670<br>Total 47773.69\", \"Kentucky<br>Certified Operations 60<br>Crops 1,721<br>Pasture & Rangeland 4,566<br>Total 6286.25\", \"Louisiana<br>Certified Operations 14<br>Crops 1,086<br>Pasture & Rangeland 599<br>Total 1684.5\", \"Maine<br>Certified Operations 404<br>Crops 30,975<br>Pasture & Rangeland 8,252<br>Total 39227.09\", \"Maryland<br>Certified Operations 90<br>Crops 9,099<br>Pasture & Rangeland 2,481<br>Total 11580.39\", \"Massachusetts<br>Certified Operations 125<br>Crops 3,832<br>Pasture & Rangeland 1,162<br>Total 4993.54\", \"Michigan<br>Certified Operations 318<br>Crops 62,044<br>Pasture & Rangeland 7,818<br>Total 69861.24\", \"Minnesota<br>Certified Operations 555<br>Crops 131,005<br>Pasture & Rangeland 22,009<br>Total 153013.86\", \"Mississippi<br>Certified Operations 24<br>Crops 1,266<br>Pasture & Rangeland 240<br>Total 1505.8\", \"Missouri<br>Certified Operations 175<br>Crops 42,360<br>Pasture & Rangeland 14,151<br>Total 56511.48\", \"Montana<br>Certified Operations 154<br>Crops 167,915<br>Pasture & Rangeland 50,107<br>Total 218021.45\", \"Nebraska<br>Certified Operations 162<br>Crops 78,394<br>Pasture & Rangeland 35,848<br>Total 114242.32\", \"Nevada<br>Certified Operations 32<br>Crops 10,706<br>Pasture & Rangeland 186,970<br>Total 197675.92\", \"New Hampshire<br>Certified Operations 133<br>Crops 7,242<br>Pasture & Rangeland 1,000<br>Total 8241.6\", \"New Jersey<br>Certified Operations 67<br>Crops 2,283<br>Pasture & Rangeland 830<br>Total 3112.65\", \"New Mexico<br>Certified Operations 215<br>Crops 70,025<br>Pasture & Rangeland 195,694<br>Total 265719.49\", \"New York<br>Certified Operations 842<br>Crops 158,618<br>Pasture & Rangeland 46,995<br>Total 205613.63\", \"North Carolina<br>Certified Operations 174<br>Crops 18,807<br>Pasture & Rangeland 1,786<br>Total 20593.48\", \"North Dakota<br>Certified Operations 156<br>Crops 144,007<br>Pasture & Rangeland 25,556<br>Total 169562.92\", \"Ohio<br>Certified Operations 505<br>Crops 42,125<br>Pasture & Rangeland 14,991<br>Total 57116.51\", \"Oklahoma<br>Certified Operations 62<br>Crops 12,440<br>Pasture & Rangeland 8,584<br>Total 21024.02\", \"Oregon<br>Certified Operations 486<br>Crops 326,115<br>Pasture & Rangeland 32,665<br>Total 358779.45\", \"Pennsylvania<br>Certified Operations 665<br>Crops 51,335<br>Pasture & Rangeland 19,334<br>Total 70668.98\", \"Rhode Island<br>Certified Operations 27<br>Crops 196<br>Pasture & Rangeland 88<br>Total 284.14\", \"South Carolina<br>Certified Operations 26<br>Crops 394<br>Pasture & Rangeland 408<br>Total 802.4\", \"South Dakota<br>Certified Operations 93<br>Crops 76,916<br>Pasture & Rangeland 78,395<br>Total 155311.22\", \"Tennessee<br>Certified Operations 28<br>Crops 948<br>Pasture & Rangeland 61<br>Total 1008.8\", \"Texas<br>Certified Operations 222<br>Crops 136,806<br>Pasture & Rangeland 130,740<br>Total 267546.0\", \"Utah<br>Certified Operations 48<br>Crops 88,259<br>Pasture & Rangeland 1,788<br>Total 90046.7\", \"Vermont<br>Certified Operations 583<br>Crops 80,381<br>Pasture & Rangeland 24,679<br>Total 105059.8\", \"Virginia<br>Certified Operations 93<br>Crops 16,900<br>Pasture & Rangeland 6,461<br>Total 23360.91\", \"Washington<br>Certified Operations 737<br>Crops 83,772<br>Pasture & Rangeland 8,311<br>Total 92083.45\", \"West Virginia<br>Certified Operations 5<br>Crops 313<br>Pasture & Rangeland 24<br>Total 337.48\", \"Wisconsin<br>Certified Operations 1,124<br>Crops 158,271<br>Pasture & Rangeland 49,810<br>Total 208080.86\", \"Wyoming<br>Certified Operations 53<br>Crops 123,563<br>Pasture & Rangeland 572,659<br>Total 696222.21\", \"nan<br>Certified Operations nan<br>Crops nan<br>Pasture & Rangeland nan<br>Total nan\", \"nan<br>Certified Operations nan<br>Crops nan<br>Pasture & Rangeland nan<br>Total nan\"], \"locations\": [\"AL\", \"AK\", \"AZ\", \"AR\", \"CA\", \"CO\", \"CT\", \"DE\", \"FL\", \"GA\", \"HI\", \"ID\", \"IL\", \"IN\", \"IA\", \"KS\", \"KY\", \"LA\", \"ME\", \"MD\", \"MA\", \"MI\", \"MN\", \"MS\", \"MO\", \"MT\", \"NE\", \"NV\", \"NH\", \"NJ\", \"NM\", \"NY\", \"NC\", \"ND\", \"OH\", \"OK\", \"OR\", \"PA\", \"RI\", \"SC\", \"SD\", \"TN\", \"TX\", \"UT\", \"VT\", \"VA\", \"WA\", \"WV\", \"WI\", \"WY\", \"nan\", \"nan\"], \"colorbar\": {\"title\": \"Total Acres\"}, \"type\": \"choropleth\", \"marker\": {\"line\": {\"color\": \"rgb(255,255,255)\", \"width\": 2}}, \"z\": [1740.01, 51256.0, 40185.29, 15086.37, 951356.18, 164007.24, 69549.42, 328.01, 31782.71, 5482.93, 6819.45, 115986.99, 35887.38, 23707.75, 126988.87, 47773.69, 6286.25, 1684.5, 39227.09, 11580.39, 4993.54, 69861.24, 153013.86, 1505.8, 56511.48, 218021.45, 114242.32, 197675.92, 8241.6, 3112.65, 265719.49, 205613.63, 20593.48, 169562.92, 57116.51, 21024.02, 358779.45, 70668.98, 284.14, 802.4, 155311.22, 1008.8, 267546.0, 90046.7, 105059.8, 23360.91, 92083.45, 337.48, 208080.86, 696222.21, null, null], \"locationmode\": \"USA-states\"}], {\"geo\": {\"showlakes\": true, \"scope\": \"usa\", \"projection\": {\"type\": \"albers usa\"}, \"lakecolor\": \"rgb(255, 255, 255)\"}, \"title\": \"2011 State Organic Farm Acreage by State<br>(Hover for breakdown)\"}, {\"linkText\": \"Export to plot.ly\", \"showLink\": true})});</script>"
      ],
      "text/plain": [
       "<IPython.core.display.HTML object>"
      ]
     },
     "metadata": {},
     "output_type": "display_data"
    }
   ],
   "source": [
    "# This is all the code that is required to set up the USA map, and plot the data inside the map\n",
    "# If not interested, feel free to scoll past for the interactive map!\n",
    "\n",
    "# Data source: USDA, Economic Research Service, based on information from USDA-accredited State and private organic certifiers.  \n",
    "\n",
    "for col in df.columns:\n",
    "    df[col] = df[col].astype(str)\n",
    "\n",
    "scl = [[0.0, 'rgb(242,240,247)'],[0.2, 'rgb(218,218,235)'],[0.4, 'rgb(188,189,220)'],\\\n",
    "            [0.6, 'rgb(158,154,200)'],[0.8, 'rgb(117,107,177)'],[1.0, 'rgb(84,39,143)']]\n",
    "\n",
    "df['text'] = df['States'] + '<br>' +\\\n",
    "    'Certified Operations '+df['Number of certified operations*']+'<br>'+\\\n",
    "    'Crops '+df['Crops']+'<br>'+\\\n",
    "    'Pasture & Rangeland '+df['Pasture & rangeland']+'<br>'+\\\n",
    "    'Total ' + df['Total']\n",
    "\n",
    "data = [ dict(\n",
    "        type='choropleth',\n",
    "        colorscale = scl,\n",
    "        autocolorscale = True,\n",
    "        locations = df['Code'],\n",
    "        z = df['Total'].astype(float),\n",
    "        locationmode = 'USA-states',\n",
    "        text = df['text'],\n",
    "        marker = dict(\n",
    "            line = dict (\n",
    "                color = 'rgb(255,255,255)',\n",
    "                width = 2\n",
    "            )\n",
    "        ),\n",
    "        colorbar = dict(\n",
    "            title = \"Total Acres\"\n",
    "        )\n",
    "    ) ]\n",
    "\n",
    "layout = dict(\n",
    "        title = '2011 State Organic Farm Acreage by State<br>(Hover for breakdown)',\n",
    "        geo = dict(\n",
    "            scope='usa',\n",
    "            projection=dict( type='albers usa' ),\n",
    "            showlakes = True,\n",
    "            lakecolor = 'rgb(255, 255, 255)',\n",
    "        ),\n",
    "    )\n",
    "\n",
    "fig = dict(data=data, layout=layout)\n",
    "\n",
    "iplot(fig)"
   ]
  },
  {
   "cell_type": "markdown",
   "metadata": {
    "collapsed": true
   },
   "source": []
  },
  {
   "cell_type": "markdown",
   "metadata": {},
   "source": [
    "### Let's simulate the financial gain and loss of 4 companies."
   ]
  },
  {
   "cell_type": "code",
   "execution_count": 4,
   "metadata": {
    "collapsed": false
   },
   "outputs": [],
   "source": [
    "# Importing another module for this next visulaztion with Plotly\n",
    "import cufflinks as cf"
   ]
  },
  {
   "cell_type": "code",
   "execution_count": 5,
   "metadata": {
    "collapsed": false
   },
   "outputs": [
    {
     "data": {
      "text/html": [
       "<div>\n",
       "<table border=\"1\" class=\"dataframe\">\n",
       "  <thead>\n",
       "    <tr style=\"text-align: right;\">\n",
       "      <th></th>\n",
       "      <th>All Tek Company</th>\n",
       "      <th>Data Driver</th>\n",
       "      <th>Paper and Pencil</th>\n",
       "      <th>All Brains</th>\n",
       "    </tr>\n",
       "  </thead>\n",
       "  <tbody>\n",
       "    <tr>\n",
       "      <th>2015-01-01</th>\n",
       "      <td>137.632720</td>\n",
       "      <td>-124.539646</td>\n",
       "      <td>-88.676392</td>\n",
       "      <td>-0.193408</td>\n",
       "    </tr>\n",
       "    <tr>\n",
       "      <th>2015-01-02</th>\n",
       "      <td>177.438726</td>\n",
       "      <td>-81.584834</td>\n",
       "      <td>-222.790145</td>\n",
       "      <td>13.176973</td>\n",
       "    </tr>\n",
       "    <tr>\n",
       "      <th>2015-01-03</th>\n",
       "      <td>195.494692</td>\n",
       "      <td>-123.690313</td>\n",
       "      <td>-292.989625</td>\n",
       "      <td>62.905726</td>\n",
       "    </tr>\n",
       "    <tr>\n",
       "      <th>2015-01-04</th>\n",
       "      <td>332.432473</td>\n",
       "      <td>-76.557190</td>\n",
       "      <td>-232.643615</td>\n",
       "      <td>272.955290</td>\n",
       "    </tr>\n",
       "    <tr>\n",
       "      <th>2015-01-05</th>\n",
       "      <td>301.639623</td>\n",
       "      <td>-218.499620</td>\n",
       "      <td>-83.809729</td>\n",
       "      <td>198.592428</td>\n",
       "    </tr>\n",
       "  </tbody>\n",
       "</table>\n",
       "</div>"
      ],
      "text/plain": [
       "            All Tek Company  Data Driver  Paper and Pencil  All Brains\n",
       "2015-01-01       137.632720  -124.539646        -88.676392   -0.193408\n",
       "2015-01-02       177.438726   -81.584834       -222.790145   13.176973\n",
       "2015-01-03       195.494692  -123.690313       -292.989625   62.905726\n",
       "2015-01-04       332.432473   -76.557190       -232.643615  272.955290\n",
       "2015-01-05       301.639623  -218.499620        -83.809729  198.592428"
      ]
     },
     "execution_count": 5,
     "metadata": {},
     "output_type": "execute_result"
    }
   ],
   "source": [
    "# Creating a dataset to be used\n",
    "\n",
    "dataset = cf.datagen.lines(4, columns = ['All Tek Company', 'Data Driver',\n",
    "                                        'Paper and Pencil', 'All Brains'])\n",
    "\n",
    "dataset[:] = dataset[:] * 100\n",
    "\n",
    "\n",
    "# Let's take a sneak peek at our random dataset\n",
    "dataset.head()"
   ]
  },
  {
   "cell_type": "code",
   "execution_count": 6,
   "metadata": {
    "collapsed": false
   },
   "outputs": [
    {
     "data": {
      "text/html": [
       "<iframe id=\"igraph\" scrolling=\"no\" style=\"border:none;\" seamless=\"seamless\" src=\"https://plot.ly/~CoreyBryant/6.embed\" height=\"525px\" width=\"100%\"></iframe>"
      ],
      "text/plain": [
       "<plotly.tools.PlotlyDisplay object>"
      ]
     },
     "execution_count": 6,
     "metadata": {},
     "output_type": "execute_result"
    }
   ],
   "source": [
    "# Plottin the interactive graph\n",
    "dataset.iplot(title='Company Gains and Losses', xTitle = 'Month', yTitle = 'Amount in Thousands')"
   ]
  },
  {
   "cell_type": "markdown",
   "metadata": {},
   "source": [
    "### Let's create a dataset so make an interactive piechart!"
   ]
  },
  {
   "cell_type": "code",
   "execution_count": 7,
   "metadata": {
    "collapsed": false
   },
   "outputs": [
    {
     "data": {
      "text/html": [
       "<div>\n",
       "<table border=\"1\" class=\"dataframe\">\n",
       "  <thead>\n",
       "    <tr style=\"text-align: right;\">\n",
       "      <th></th>\n",
       "      <th>labels</th>\n",
       "      <th>values</th>\n",
       "    </tr>\n",
       "  </thead>\n",
       "  <tbody>\n",
       "    <tr>\n",
       "      <th>0</th>\n",
       "      <td>JJX.GJ</td>\n",
       "      <td>39</td>\n",
       "    </tr>\n",
       "    <tr>\n",
       "      <th>1</th>\n",
       "      <td>QPX.KE</td>\n",
       "      <td>46</td>\n",
       "    </tr>\n",
       "    <tr>\n",
       "      <th>2</th>\n",
       "      <td>URX.OV</td>\n",
       "      <td>18</td>\n",
       "    </tr>\n",
       "    <tr>\n",
       "      <th>3</th>\n",
       "      <td>SVL.LW</td>\n",
       "      <td>9</td>\n",
       "    </tr>\n",
       "    <tr>\n",
       "      <th>4</th>\n",
       "      <td>BRS.ZM</td>\n",
       "      <td>37</td>\n",
       "    </tr>\n",
       "  </tbody>\n",
       "</table>\n",
       "</div>"
      ],
      "text/plain": [
       "   labels  values\n",
       "0  JJX.GJ      39\n",
       "1  QPX.KE      46\n",
       "2  URX.OV      18\n",
       "3  SVL.LW       9\n",
       "4  BRS.ZM      37"
      ]
     },
     "execution_count": 7,
     "metadata": {},
     "output_type": "execute_result"
    }
   ],
   "source": [
    "# Generating random dataset for pie chart\n",
    "# If dataset exists, all that would be needed is to use .groupyby() function to add data up by catagories\n",
    "\n",
    "pie = cf.datagen.pie()\n",
    "pie.head()"
   ]
  },
  {
   "cell_type": "code",
   "execution_count": 8,
   "metadata": {
    "collapsed": false
   },
   "outputs": [
    {
     "data": {
      "text/html": [
       "<iframe id=\"igraph\" scrolling=\"no\" style=\"border:none;\" seamless=\"seamless\" src=\"https://plot.ly/~CoreyBryant/12.embed\" height=\"525px\" width=\"100%\"></iframe>"
      ],
      "text/plain": [
       "<plotly.tools.PlotlyDisplay object>"
      ]
     },
     "execution_count": 8,
     "metadata": {},
     "output_type": "execute_result"
    }
   ],
   "source": [
    "pie.iplot(kind = 'pie', title= 'East Regional Scores', labels = 'labels', values = 'values', textinfo = 'value', colorscale = 'reds')"
   ]
  },
  {
   "cell_type": "markdown",
   "metadata": {},
   "source": [
    "### Next let's make a donut piechart for fun"
   ]
  },
  {
   "cell_type": "code",
   "execution_count": 9,
   "metadata": {
    "collapsed": false
   },
   "outputs": [
    {
     "data": {
      "text/html": [
       "<div>\n",
       "<table border=\"1\" class=\"dataframe\">\n",
       "  <thead>\n",
       "    <tr style=\"text-align: right;\">\n",
       "      <th></th>\n",
       "      <th>labels</th>\n",
       "      <th>values</th>\n",
       "    </tr>\n",
       "  </thead>\n",
       "  <tbody>\n",
       "    <tr>\n",
       "      <th>0</th>\n",
       "      <td>BXP.SD</td>\n",
       "      <td>52</td>\n",
       "    </tr>\n",
       "    <tr>\n",
       "      <th>1</th>\n",
       "      <td>ASJ.WC</td>\n",
       "      <td>4</td>\n",
       "    </tr>\n",
       "    <tr>\n",
       "      <th>2</th>\n",
       "      <td>XVG.SX</td>\n",
       "      <td>13</td>\n",
       "    </tr>\n",
       "    <tr>\n",
       "      <th>3</th>\n",
       "      <td>JSQ.BY</td>\n",
       "      <td>89</td>\n",
       "    </tr>\n",
       "    <tr>\n",
       "      <th>4</th>\n",
       "      <td>LDA.FK</td>\n",
       "      <td>39</td>\n",
       "    </tr>\n",
       "  </tbody>\n",
       "</table>\n",
       "</div>"
      ],
      "text/plain": [
       "   labels  values\n",
       "0  BXP.SD      52\n",
       "1  ASJ.WC       4\n",
       "2  XVG.SX      13\n",
       "3  JSQ.BY      89\n",
       "4  LDA.FK      39"
      ]
     },
     "execution_count": 9,
     "metadata": {},
     "output_type": "execute_result"
    }
   ],
   "source": [
    "# Generating another ranodom dataset\n",
    "pie2 = cf.datagen.pie()\n",
    "pie2.head()"
   ]
  },
  {
   "cell_type": "code",
   "execution_count": 10,
   "metadata": {
    "collapsed": false
   },
   "outputs": [
    {
     "data": {
      "text/html": [
       "<iframe id=\"igraph\" scrolling=\"no\" style=\"border:none;\" seamless=\"seamless\" src=\"https://plot.ly/~CoreyBryant/14.embed\" height=\"525px\" width=\"100%\"></iframe>"
      ],
      "text/plain": [
       "<plotly.tools.PlotlyDisplay object>"
      ]
     },
     "execution_count": 10,
     "metadata": {},
     "output_type": "execute_result"
    }
   ],
   "source": [
    "pie2.iplot(kind = 'pie', title= 'West Regional Scores', labels = 'labels', values = 'values', textinfo = 'value',\n",
    "           colorscale = 'blues', hole = .8)"
   ]
  },
  {
   "cell_type": "markdown",
   "metadata": {},
   "source": [
    "### Let's do a heatmap visualization next!"
   ]
  },
  {
   "cell_type": "markdown",
   "metadata": {},
   "source": [
    "### This dataset will be using the airplane dataset from seaborn"
   ]
  },
  {
   "cell_type": "code",
   "execution_count": 11,
   "metadata": {
    "collapsed": false
   },
   "outputs": [
    {
     "data": {
      "text/html": [
       "<div>\n",
       "<table border=\"1\" class=\"dataframe\">\n",
       "  <thead>\n",
       "    <tr style=\"text-align: right;\">\n",
       "      <th></th>\n",
       "      <th>year</th>\n",
       "      <th>month</th>\n",
       "      <th>passengers</th>\n",
       "    </tr>\n",
       "  </thead>\n",
       "  <tbody>\n",
       "    <tr>\n",
       "      <th>0</th>\n",
       "      <td>1949</td>\n",
       "      <td>January</td>\n",
       "      <td>112</td>\n",
       "    </tr>\n",
       "    <tr>\n",
       "      <th>1</th>\n",
       "      <td>1949</td>\n",
       "      <td>February</td>\n",
       "      <td>118</td>\n",
       "    </tr>\n",
       "    <tr>\n",
       "      <th>2</th>\n",
       "      <td>1949</td>\n",
       "      <td>March</td>\n",
       "      <td>132</td>\n",
       "    </tr>\n",
       "    <tr>\n",
       "      <th>3</th>\n",
       "      <td>1949</td>\n",
       "      <td>April</td>\n",
       "      <td>129</td>\n",
       "    </tr>\n",
       "    <tr>\n",
       "      <th>4</th>\n",
       "      <td>1949</td>\n",
       "      <td>May</td>\n",
       "      <td>121</td>\n",
       "    </tr>\n",
       "  </tbody>\n",
       "</table>\n",
       "</div>"
      ],
      "text/plain": [
       "   year     month  passengers\n",
       "0  1949   January         112\n",
       "1  1949  February         118\n",
       "2  1949     March         132\n",
       "3  1949     April         129\n",
       "4  1949       May         121"
      ]
     },
     "execution_count": 11,
     "metadata": {},
     "output_type": "execute_result"
    }
   ],
   "source": [
    "# Loading the dataset\n",
    "\n",
    "flight_dframe = sns.load_dataset('flights')\n",
    "flight_dframe.head()"
   ]
  },
  {
   "cell_type": "code",
   "execution_count": 12,
   "metadata": {
    "collapsed": false
   },
   "outputs": [
    {
     "data": {
      "text/html": [
       "<iframe id=\"igraph\" scrolling=\"no\" style=\"border:none;\" seamless=\"seamless\" src=\"https://plot.ly/~CoreyBryant/31.embed\" height=\"525px\" width=\"100%\"></iframe>"
      ],
      "text/plain": [
       "<plotly.tools.PlotlyDisplay object>"
      ]
     },
     "execution_count": 12,
     "metadata": {},
     "output_type": "execute_result"
    }
   ],
   "source": [
    "# Plotting the interactive heatmap\n",
    "\n",
    "data = [ dict(\n",
    "        type='heatmap',\n",
    "        colorscale = scl,\n",
    "        autocolorscale = False,\n",
    "        x = flight_dframe['year'],\n",
    "        z = flight_dframe['passengers'].astype(float),\n",
    "        y = flight_dframe['month'],\n",
    "        colorbar = dict(\n",
    "            title = \"Number of Passengers\"\n",
    "        )\n",
    "    ) ]\n",
    "\n",
    "\n",
    "flight_dframe.iplot(data= data, kind = 'heatmap', colorscale='spectral', xTitle= 'Year', yTitle = 'Month', \n",
    "                    title= 'Busiest times to Fly')"
   ]
  },
  {
   "cell_type": "code",
   "execution_count": null,
   "metadata": {
    "collapsed": true
   },
   "outputs": [],
   "source": []
  }
 ],
 "metadata": {
  "kernelspec": {
   "display_name": "Python 2",
   "language": "python",
   "name": "python2"
  },
  "language_info": {
   "codemirror_mode": {
    "name": "ipython",
    "version": 2
   },
   "file_extension": ".py",
   "mimetype": "text/x-python",
   "name": "python",
   "nbconvert_exporter": "python",
   "pygments_lexer": "ipython2",
   "version": "2.7.12"
  }
 },
 "nbformat": 4,
 "nbformat_minor": 0
}
