{
 "cells": [
  {
   "cell_type": "code",
   "execution_count": 1,
   "metadata": {
    "collapsed": true
   },
   "outputs": [],
   "source": [
    "# Importing libraries\n",
    "\n",
    "import numpy as np\n",
    "import pandas as pd\n",
    "from pandas import Series, DataFrame\n",
    "from pandas.tools import plotting\n",
    "\n",
    "# Stats\n",
    "from scipy import stats\n",
    "import statsmodels.formula.api as sm\n",
    "from statsmodels.formula.api import ols\n",
    "\n",
    "# Plotting\n",
    "import matplotlib as mpl\n",
    "import matplotlib.pyplot as plt\n",
    "import seaborn as sns\n",
    "\n",
    "# Allows plotting viewed in the notebook\n",
    "%matplotlib inline"
   ]
  },
  {
   "cell_type": "code",
   "execution_count": 2,
   "metadata": {
    "collapsed": false
   },
   "outputs": [
    {
     "data": {
      "text/html": [
       "<div>\n",
       "<table border=\"1\" class=\"dataframe\">\n",
       "  <thead>\n",
       "    <tr style=\"text-align: right;\">\n",
       "      <th></th>\n",
       "      <th>Gender</th>\n",
       "      <th>FSIQ</th>\n",
       "      <th>VIQ</th>\n",
       "      <th>PIQ</th>\n",
       "      <th>Weight</th>\n",
       "      <th>Height</th>\n",
       "      <th>MRI_Count</th>\n",
       "    </tr>\n",
       "  </thead>\n",
       "  <tbody>\n",
       "    <tr>\n",
       "      <th>0</th>\n",
       "      <td>Female</td>\n",
       "      <td>133</td>\n",
       "      <td>132</td>\n",
       "      <td>124</td>\n",
       "      <td>118.0</td>\n",
       "      <td>64.5</td>\n",
       "      <td>816932</td>\n",
       "    </tr>\n",
       "    <tr>\n",
       "      <th>2</th>\n",
       "      <td>Male</td>\n",
       "      <td>139</td>\n",
       "      <td>123</td>\n",
       "      <td>150</td>\n",
       "      <td>143.0</td>\n",
       "      <td>73.3</td>\n",
       "      <td>1038437</td>\n",
       "    </tr>\n",
       "    <tr>\n",
       "      <th>3</th>\n",
       "      <td>Male</td>\n",
       "      <td>133</td>\n",
       "      <td>129</td>\n",
       "      <td>128</td>\n",
       "      <td>172.0</td>\n",
       "      <td>68.8</td>\n",
       "      <td>965353</td>\n",
       "    </tr>\n",
       "    <tr>\n",
       "      <th>4</th>\n",
       "      <td>Female</td>\n",
       "      <td>137</td>\n",
       "      <td>132</td>\n",
       "      <td>134</td>\n",
       "      <td>147.0</td>\n",
       "      <td>65.0</td>\n",
       "      <td>951545</td>\n",
       "    </tr>\n",
       "    <tr>\n",
       "      <th>5</th>\n",
       "      <td>Female</td>\n",
       "      <td>99</td>\n",
       "      <td>90</td>\n",
       "      <td>110</td>\n",
       "      <td>146.0</td>\n",
       "      <td>69.0</td>\n",
       "      <td>928799</td>\n",
       "    </tr>\n",
       "  </tbody>\n",
       "</table>\n",
       "</div>"
      ],
      "text/plain": [
       "   Gender  FSIQ  VIQ  PIQ  Weight  Height  MRI_Count\n",
       "0  Female   133  132  124   118.0    64.5     816932\n",
       "2    Male   139  123  150   143.0    73.3    1038437\n",
       "3    Male   133  129  128   172.0    68.8     965353\n",
       "4  Female   137  132  134   147.0    65.0     951545\n",
       "5  Female    99   90  110   146.0    69.0     928799"
      ]
     },
     "execution_count": 2,
     "metadata": {},
     "output_type": "execute_result"
    }
   ],
   "source": [
    "# Loading data\n",
    "data = pd.read_csv('brain_size.csv', sep=';', na_values = \".\")\n",
    "\n",
    "# Cleaning the data and removing any missing values\n",
    "del data['Unnamed: 0']\n",
    "data= data.dropna()\n",
    "\n",
    "# Taking a quick look at the data\n",
    "data.head()"
   ]
  },
  {
   "cell_type": "markdown",
   "metadata": {
    "collapsed": true
   },
   "source": [
    "##### Now that we have an idea of what's in out data set let's ask some questions."
   ]
  },
  {
   "cell_type": "code",
   "execution_count": 3,
   "metadata": {
    "collapsed": false
   },
   "outputs": [
    {
     "data": {
      "text/plain": [
       "38"
      ]
     },
     "execution_count": 3,
     "metadata": {},
     "output_type": "execute_result"
    }
   ],
   "source": [
    "# How many people were in this study?\n",
    "\n",
    "len(data)"
   ]
  },
  {
   "cell_type": "code",
   "execution_count": 4,
   "metadata": {
    "collapsed": false
   },
   "outputs": [
    {
     "data": {
      "text/plain": [
       "Female    20\n",
       "Male      18\n",
       "Name: Gender, dtype: int64"
      ]
     },
     "execution_count": 4,
     "metadata": {},
     "output_type": "execute_result"
    }
   ],
   "source": [
    "# How many were male and how many were females?\n",
    "\n",
    "data['Gender'].value_counts()"
   ]
  },
  {
   "cell_type": "code",
   "execution_count": 5,
   "metadata": {
    "collapsed": false
   },
   "outputs": [],
   "source": [
    "# Now let's group the data by gender so we can run some statistics broken down by sex if wanted\n",
    "grouped_gender = data.groupby('Gender')"
   ]
  },
  {
   "cell_type": "code",
   "execution_count": 17,
   "metadata": {
    "collapsed": false
   },
   "outputs": [
    {
     "data": {
      "text/plain": [
       "{'boxes': [<matplotlib.lines.Line2D at 0x10e508d0>,\n",
       "  <matplotlib.lines.Line2D at 0x10e6cb70>,\n",
       "  <matplotlib.lines.Line2D at 0x10ed6240>,\n",
       "  <matplotlib.lines.Line2D at 0x10e08be0>,\n",
       "  <matplotlib.lines.Line2D at 0x103ec7f0>],\n",
       " 'caps': [<matplotlib.lines.Line2D at 0x10e5f550>,\n",
       "  <matplotlib.lines.Line2D at 0x10e5fac8>,\n",
       "  <matplotlib.lines.Line2D at 0x10ebcbe0>,\n",
       "  <matplotlib.lines.Line2D at 0x10ec7198>,\n",
       "  <matplotlib.lines.Line2D at 0x10ee42b0>,\n",
       "  <matplotlib.lines.Line2D at 0x10ee4828>,\n",
       "  <matplotlib.lines.Line2D at 0x10cfa198>,\n",
       "  <matplotlib.lines.Line2D at 0x10c10cf8>,\n",
       "  <matplotlib.lines.Line2D at 0x10f42128>,\n",
       "  <matplotlib.lines.Line2D at 0x10f426a0>],\n",
       " 'fliers': [<matplotlib.lines.Line2D at 0x10e6c5f8>,\n",
       "  <matplotlib.lines.Line2D at 0x10ec7c88>,\n",
       "  <matplotlib.lines.Line2D at 0x10e12b00>,\n",
       "  <matplotlib.lines.Line2D at 0x10ce6b00>,\n",
       "  <matplotlib.lines.Line2D at 0x10f4a1d0>],\n",
       " 'means': [],\n",
       " 'medians': [<matplotlib.lines.Line2D at 0x10e6c080>,\n",
       "  <matplotlib.lines.Line2D at 0x10ec7710>,\n",
       "  <matplotlib.lines.Line2D at 0x10ee4da0>,\n",
       "  <matplotlib.lines.Line2D at 0x10cda080>,\n",
       "  <matplotlib.lines.Line2D at 0x10f42c18>],\n",
       " 'whiskers': [<matplotlib.lines.Line2D at 0x10e50a90>,\n",
       "  <matplotlib.lines.Line2D at 0x10e5f0b8>,\n",
       "  <matplotlib.lines.Line2D at 0x10ebc160>,\n",
       "  <matplotlib.lines.Line2D at 0x10ebc668>,\n",
       "  <matplotlib.lines.Line2D at 0x10ed67f0>,\n",
       "  <matplotlib.lines.Line2D at 0x10ed6cf8>,\n",
       "  <matplotlib.lines.Line2D at 0x10d7de10>,\n",
       "  <matplotlib.lines.Line2D at 0x10e01438>,\n",
       "  <matplotlib.lines.Line2D at 0x10f2f668>,\n",
       "  <matplotlib.lines.Line2D at 0x10f2fb70>]}"
      ]
     },
     "execution_count": 17,
     "metadata": {},
     "output_type": "execute_result"
    },
    {
     "data": {
      "image/png": "[encoded data removed]",
      "text/plain": [
       "<matplotlib.figure.Figure at 0x10c417f0>"
      ]
     },
     "metadata": {},
     "output_type": "display_data"
    }
   ],
   "source": [
    "# Let's take a look at the overall data on a few factors\n",
    "\n",
    "\n",
    "data.boxplot(column=['FSIQ','VIQ','PIQ', 'Weight', 'Height'], return_type= 'dict')"
   ]
  },
  {
   "cell_type": "markdown",
   "metadata": {},
   "source": [
    "This provides a visualization of the spread in the data within each variable measured."
   ]
  },
  {
   "cell_type": "code",
   "execution_count": 18,
   "metadata": {
    "collapsed": false
   },
   "outputs": [
    {
     "data": {
      "text/plain": [
       "OrderedDict([('Female',\n",
       "              {'boxes': [<matplotlib.lines.Line2D at 0x112294e0>,\n",
       "                <matplotlib.lines.Line2D at 0x112434a8>,\n",
       "                <matplotlib.lines.Line2D at 0x10fdc9e8>,\n",
       "                <matplotlib.lines.Line2D at 0x112f3e10>,\n",
       "                <matplotlib.lines.Line2D at 0x1131b4e0>],\n",
       "               'caps': [<matplotlib.lines.Line2D at 0x11237198>,\n",
       "                <matplotlib.lines.Line2D at 0x11237710>,\n",
       "                <matplotlib.lines.Line2D at 0x112e2518>,\n",
       "                <matplotlib.lines.Line2D at 0x1121ea90>,\n",
       "                <matplotlib.lines.Line2D at 0xf67b208>,\n",
       "                <matplotlib.lines.Line2D at 0x112e2d68>,\n",
       "                <matplotlib.lines.Line2D at 0x112fee80>,\n",
       "                <matplotlib.lines.Line2D at 0x1130c438>,\n",
       "                <matplotlib.lines.Line2D at 0x11329550>,\n",
       "                <matplotlib.lines.Line2D at 0x11329ac8>],\n",
       "               'fliers': [<matplotlib.lines.Line2D at 0x11237ef0>,\n",
       "                <matplotlib.lines.Line2D at 0x111cffd0>,\n",
       "                <matplotlib.lines.Line2D at 0x112f3898>,\n",
       "                <matplotlib.lines.Line2D at 0x1130cf28>,\n",
       "                <matplotlib.lines.Line2D at 0x113365f8>],\n",
       "               'means': [],\n",
       "               'medians': [<matplotlib.lines.Line2D at 0x11237c88>,\n",
       "                <matplotlib.lines.Line2D at 0x1121e710>,\n",
       "                <matplotlib.lines.Line2D at 0x112f3320>,\n",
       "                <matplotlib.lines.Line2D at 0x1130c9b0>,\n",
       "                <matplotlib.lines.Line2D at 0x11336080>],\n",
       "               'whiskers': [<matplotlib.lines.Line2D at 0x112295f8>,\n",
       "                <matplotlib.lines.Line2D at 0x11229be0>,\n",
       "                <matplotlib.lines.Line2D at 0x11243a58>,\n",
       "                <matplotlib.lines.Line2D at 0x11243f60>,\n",
       "                <matplotlib.lines.Line2D at 0x10fd3278>,\n",
       "                <matplotlib.lines.Line2D at 0x10fbe940>,\n",
       "                <matplotlib.lines.Line2D at 0x112fe400>,\n",
       "                <matplotlib.lines.Line2D at 0x112fe908>,\n",
       "                <matplotlib.lines.Line2D at 0x1131ba90>,\n",
       "                <matplotlib.lines.Line2D at 0x1131bf98>]}),\n",
       "             ('Male',\n",
       "              {'boxes': [<matplotlib.lines.Line2D at 0x1134e5c0>,\n",
       "                <matplotlib.lines.Line2D at 0x1135af60>,\n",
       "                <matplotlib.lines.Line2D at 0x11383630>,\n",
       "                <matplotlib.lines.Line2D at 0x13636cc0>,\n",
       "                <matplotlib.lines.Line2D at 0x1365e390>],\n",
       "               'caps': [<matplotlib.lines.Line2D at 0x1134ee80>,\n",
       "                <matplotlib.lines.Line2D at 0x1135a438>,\n",
       "                <matplotlib.lines.Line2D at 0x11368fd0>,\n",
       "                <matplotlib.lines.Line2D at 0x11375588>,\n",
       "                <matplotlib.lines.Line2D at 0x113916a0>,\n",
       "                <matplotlib.lines.Line2D at 0x11391c18>,\n",
       "                <matplotlib.lines.Line2D at 0x13642d30>,\n",
       "                <matplotlib.lines.Line2D at 0x136512e8>,\n",
       "                <matplotlib.lines.Line2D at 0x1366a400>,\n",
       "                <matplotlib.lines.Line2D at 0x1366a978>],\n",
       "               'fliers': [<matplotlib.lines.Line2D at 0x1135a978>,\n",
       "                <matplotlib.lines.Line2D at 0x113830b8>,\n",
       "                <matplotlib.lines.Line2D at 0x13636748>,\n",
       "                <matplotlib.lines.Line2D at 0x13651dd8>,\n",
       "                <matplotlib.lines.Line2D at 0x136c84a8>],\n",
       "               'means': [],\n",
       "               'medians': [<matplotlib.lines.Line2D at 0x11229320>,\n",
       "                <matplotlib.lines.Line2D at 0x11375b00>,\n",
       "                <matplotlib.lines.Line2D at 0x136361d0>,\n",
       "                <matplotlib.lines.Line2D at 0x13651860>,\n",
       "                <matplotlib.lines.Line2D at 0x1366aef0>],\n",
       "               'whiskers': [<matplotlib.lines.Line2D at 0x1134e6a0>,\n",
       "                <matplotlib.lines.Line2D at 0x1134e940>,\n",
       "                <matplotlib.lines.Line2D at 0x11368550>,\n",
       "                <matplotlib.lines.Line2D at 0x11368a58>,\n",
       "                <matplotlib.lines.Line2D at 0x11383be0>,\n",
       "                <matplotlib.lines.Line2D at 0x11391128>,\n",
       "                <matplotlib.lines.Line2D at 0x136422b0>,\n",
       "                <matplotlib.lines.Line2D at 0x136427b8>,\n",
       "                <matplotlib.lines.Line2D at 0x1365e940>,\n",
       "                <matplotlib.lines.Line2D at 0x1365ee48>]})])"
      ]
     },
     "execution_count": 18,
     "metadata": {},
     "output_type": "execute_result"
    },
    {
     "data": {
      "image/png": "[encoded data removed]",
      "text/plain": [
       "<matplotlib.figure.Figure at 0x1105d208>"
      ]
     },
     "metadata": {},
     "output_type": "display_data"
    }
   ],
   "source": [
    "# Let's see if gender has an effect of those variables\n",
    "\n",
    "grouped_gender.boxplot(column=['FSIQ','VIQ','PIQ', 'Weight', 'Height'], return_type= 'dict')"
   ]
  },
  {
   "cell_type": "markdown",
   "metadata": {},
   "source": [
    "This provides a visualization of the spread in the data within each variable measured brokendown by sex."
   ]
  },
  {
   "cell_type": "code",
   "execution_count": 8,
   "metadata": {
    "collapsed": false
   },
   "outputs": [
    {
     "data": {
      "text/html": [
       "<div>\n",
       "<table border=\"1\" class=\"dataframe\">\n",
       "  <thead>\n",
       "    <tr style=\"text-align: right;\">\n",
       "      <th></th>\n",
       "      <th></th>\n",
       "      <th>FSIQ</th>\n",
       "      <th>Height</th>\n",
       "      <th>MRI_Count</th>\n",
       "      <th>PIQ</th>\n",
       "      <th>VIQ</th>\n",
       "      <th>Weight</th>\n",
       "    </tr>\n",
       "    <tr>\n",
       "      <th>Gender</th>\n",
       "      <th></th>\n",
       "      <th></th>\n",
       "      <th></th>\n",
       "      <th></th>\n",
       "      <th></th>\n",
       "      <th></th>\n",
       "      <th></th>\n",
       "    </tr>\n",
       "  </thead>\n",
       "  <tbody>\n",
       "    <tr>\n",
       "      <th rowspan=\"8\" valign=\"top\">Female</th>\n",
       "      <th>count</th>\n",
       "      <td>20.000000</td>\n",
       "      <td>20.000000</td>\n",
       "      <td>2.000000e+01</td>\n",
       "      <td>20.000000</td>\n",
       "      <td>20.000000</td>\n",
       "      <td>20.000000</td>\n",
       "    </tr>\n",
       "    <tr>\n",
       "      <th>mean</th>\n",
       "      <td>111.900000</td>\n",
       "      <td>65.765000</td>\n",
       "      <td>8.626546e+05</td>\n",
       "      <td>110.450000</td>\n",
       "      <td>109.450000</td>\n",
       "      <td>137.200000</td>\n",
       "    </tr>\n",
       "    <tr>\n",
       "      <th>std</th>\n",
       "      <td>23.686327</td>\n",
       "      <td>2.288248</td>\n",
       "      <td>5.589356e+04</td>\n",
       "      <td>21.946046</td>\n",
       "      <td>21.670924</td>\n",
       "      <td>16.953807</td>\n",
       "    </tr>\n",
       "    <tr>\n",
       "      <th>min</th>\n",
       "      <td>77.000000</td>\n",
       "      <td>62.000000</td>\n",
       "      <td>7.906190e+05</td>\n",
       "      <td>72.000000</td>\n",
       "      <td>71.000000</td>\n",
       "      <td>106.000000</td>\n",
       "    </tr>\n",
       "    <tr>\n",
       "      <th>25%</th>\n",
       "      <td>90.250000</td>\n",
       "      <td>64.500000</td>\n",
       "      <td>8.280620e+05</td>\n",
       "      <td>93.000000</td>\n",
       "      <td>90.000000</td>\n",
       "      <td>125.750000</td>\n",
       "    </tr>\n",
       "    <tr>\n",
       "      <th>50%</th>\n",
       "      <td>115.500000</td>\n",
       "      <td>66.000000</td>\n",
       "      <td>8.553650e+05</td>\n",
       "      <td>115.000000</td>\n",
       "      <td>116.000000</td>\n",
       "      <td>138.500000</td>\n",
       "    </tr>\n",
       "    <tr>\n",
       "      <th>75%</th>\n",
       "      <td>133.000000</td>\n",
       "      <td>66.875000</td>\n",
       "      <td>8.826685e+05</td>\n",
       "      <td>128.750000</td>\n",
       "      <td>129.000000</td>\n",
       "      <td>146.250000</td>\n",
       "    </tr>\n",
       "    <tr>\n",
       "      <th>max</th>\n",
       "      <td>140.000000</td>\n",
       "      <td>70.500000</td>\n",
       "      <td>9.913050e+05</td>\n",
       "      <td>147.000000</td>\n",
       "      <td>136.000000</td>\n",
       "      <td>175.000000</td>\n",
       "    </tr>\n",
       "    <tr>\n",
       "      <th rowspan=\"8\" valign=\"top\">Male</th>\n",
       "      <th>count</th>\n",
       "      <td>18.000000</td>\n",
       "      <td>18.000000</td>\n",
       "      <td>1.800000e+01</td>\n",
       "      <td>18.000000</td>\n",
       "      <td>18.000000</td>\n",
       "      <td>18.000000</td>\n",
       "    </tr>\n",
       "    <tr>\n",
       "      <th>mean</th>\n",
       "      <td>115.388889</td>\n",
       "      <td>71.372222</td>\n",
       "      <td>9.557537e+05</td>\n",
       "      <td>112.333333</td>\n",
       "      <td>115.111111</td>\n",
       "      <td>166.444444</td>\n",
       "    </tr>\n",
       "    <tr>\n",
       "      <th>std</th>\n",
       "      <td>24.507235</td>\n",
       "      <td>3.367807</td>\n",
       "      <td>5.601591e+04</td>\n",
       "      <td>23.899299</td>\n",
       "      <td>24.547406</td>\n",
       "      <td>20.047656</td>\n",
       "    </tr>\n",
       "    <tr>\n",
       "      <th>min</th>\n",
       "      <td>80.000000</td>\n",
       "      <td>66.300000</td>\n",
       "      <td>8.799870e+05</td>\n",
       "      <td>74.000000</td>\n",
       "      <td>77.000000</td>\n",
       "      <td>132.000000</td>\n",
       "    </tr>\n",
       "    <tr>\n",
       "      <th>25%</th>\n",
       "      <td>91.750000</td>\n",
       "      <td>68.850000</td>\n",
       "      <td>9.255482e+05</td>\n",
       "      <td>86.750000</td>\n",
       "      <td>96.000000</td>\n",
       "      <td>148.750000</td>\n",
       "    </tr>\n",
       "    <tr>\n",
       "      <th>50%</th>\n",
       "      <td>118.000000</td>\n",
       "      <td>70.250000</td>\n",
       "      <td>9.472415e+05</td>\n",
       "      <td>117.000000</td>\n",
       "      <td>110.500000</td>\n",
       "      <td>172.000000</td>\n",
       "    </tr>\n",
       "    <tr>\n",
       "      <th>75%</th>\n",
       "      <td>139.000000</td>\n",
       "      <td>73.875000</td>\n",
       "      <td>9.628812e+05</td>\n",
       "      <td>128.000000</td>\n",
       "      <td>141.000000</td>\n",
       "      <td>180.750000</td>\n",
       "    </tr>\n",
       "    <tr>\n",
       "      <th>max</th>\n",
       "      <td>144.000000</td>\n",
       "      <td>77.000000</td>\n",
       "      <td>1.079549e+06</td>\n",
       "      <td>150.000000</td>\n",
       "      <td>150.000000</td>\n",
       "      <td>192.000000</td>\n",
       "    </tr>\n",
       "  </tbody>\n",
       "</table>\n",
       "</div>"
      ],
      "text/plain": [
       "                    FSIQ     Height     MRI_Count         PIQ         VIQ  \\\n",
       "Gender                                                                      \n",
       "Female count   20.000000  20.000000  2.000000e+01   20.000000   20.000000   \n",
       "       mean   111.900000  65.765000  8.626546e+05  110.450000  109.450000   \n",
       "       std     23.686327   2.288248  5.589356e+04   21.946046   21.670924   \n",
       "       min     77.000000  62.000000  7.906190e+05   72.000000   71.000000   \n",
       "       25%     90.250000  64.500000  8.280620e+05   93.000000   90.000000   \n",
       "       50%    115.500000  66.000000  8.553650e+05  115.000000  116.000000   \n",
       "       75%    133.000000  66.875000  8.826685e+05  128.750000  129.000000   \n",
       "       max    140.000000  70.500000  9.913050e+05  147.000000  136.000000   \n",
       "Male   count   18.000000  18.000000  1.800000e+01   18.000000   18.000000   \n",
       "       mean   115.388889  71.372222  9.557537e+05  112.333333  115.111111   \n",
       "       std     24.507235   3.367807  5.601591e+04   23.899299   24.547406   \n",
       "       min     80.000000  66.300000  8.799870e+05   74.000000   77.000000   \n",
       "       25%     91.750000  68.850000  9.255482e+05   86.750000   96.000000   \n",
       "       50%    118.000000  70.250000  9.472415e+05  117.000000  110.500000   \n",
       "       75%    139.000000  73.875000  9.628812e+05  128.000000  141.000000   \n",
       "       max    144.000000  77.000000  1.079549e+06  150.000000  150.000000   \n",
       "\n",
       "                  Weight  \n",
       "Gender                    \n",
       "Female count   20.000000  \n",
       "       mean   137.200000  \n",
       "       std     16.953807  \n",
       "       min    106.000000  \n",
       "       25%    125.750000  \n",
       "       50%    138.500000  \n",
       "       75%    146.250000  \n",
       "       max    175.000000  \n",
       "Male   count   18.000000  \n",
       "       mean   166.444444  \n",
       "       std     20.047656  \n",
       "       min    132.000000  \n",
       "       25%    148.750000  \n",
       "       50%    172.000000  \n",
       "       75%    180.750000  \n",
       "       max    192.000000  "
      ]
     },
     "execution_count": 8,
     "metadata": {},
     "output_type": "execute_result"
    }
   ],
   "source": [
    "# Let's see the numbers of the visualization we just conducted\n",
    "\n",
    "grouped_gender.describe()"
   ]
  },
  {
   "cell_type": "code",
   "execution_count": 9,
   "metadata": {
    "collapsed": false
   },
   "outputs": [
    {
     "data": {
      "text/html": [
       "<div>\n",
       "<table border=\"1\" class=\"dataframe\">\n",
       "  <thead>\n",
       "    <tr style=\"text-align: right;\">\n",
       "      <th></th>\n",
       "      <th>FSIQ</th>\n",
       "      <th>VIQ</th>\n",
       "      <th>PIQ</th>\n",
       "      <th>Weight</th>\n",
       "      <th>Height</th>\n",
       "      <th>MRI_Count</th>\n",
       "    </tr>\n",
       "  </thead>\n",
       "  <tbody>\n",
       "    <tr>\n",
       "      <th>FSIQ</th>\n",
       "      <td>1.000000</td>\n",
       "      <td>0.945114</td>\n",
       "      <td>0.934427</td>\n",
       "      <td>-0.051483</td>\n",
       "      <td>-0.118448</td>\n",
       "      <td>0.333714</td>\n",
       "    </tr>\n",
       "    <tr>\n",
       "      <th>VIQ</th>\n",
       "      <td>0.945114</td>\n",
       "      <td>1.000000</td>\n",
       "      <td>0.776020</td>\n",
       "      <td>-0.076088</td>\n",
       "      <td>-0.118976</td>\n",
       "      <td>0.300279</td>\n",
       "    </tr>\n",
       "    <tr>\n",
       "      <th>PIQ</th>\n",
       "      <td>0.934427</td>\n",
       "      <td>0.776020</td>\n",
       "      <td>1.000000</td>\n",
       "      <td>0.002512</td>\n",
       "      <td>-0.093156</td>\n",
       "      <td>0.377782</td>\n",
       "    </tr>\n",
       "    <tr>\n",
       "      <th>Weight</th>\n",
       "      <td>-0.051483</td>\n",
       "      <td>-0.076088</td>\n",
       "      <td>0.002512</td>\n",
       "      <td>1.000000</td>\n",
       "      <td>0.699614</td>\n",
       "      <td>0.513378</td>\n",
       "    </tr>\n",
       "    <tr>\n",
       "      <th>Height</th>\n",
       "      <td>-0.118448</td>\n",
       "      <td>-0.118976</td>\n",
       "      <td>-0.093156</td>\n",
       "      <td>0.699614</td>\n",
       "      <td>1.000000</td>\n",
       "      <td>0.588377</td>\n",
       "    </tr>\n",
       "    <tr>\n",
       "      <th>MRI_Count</th>\n",
       "      <td>0.333714</td>\n",
       "      <td>0.300279</td>\n",
       "      <td>0.377782</td>\n",
       "      <td>0.513378</td>\n",
       "      <td>0.588377</td>\n",
       "      <td>1.000000</td>\n",
       "    </tr>\n",
       "  </tbody>\n",
       "</table>\n",
       "</div>"
      ],
      "text/plain": [
       "               FSIQ       VIQ       PIQ    Weight    Height  MRI_Count\n",
       "FSIQ       1.000000  0.945114  0.934427 -0.051483 -0.118448   0.333714\n",
       "VIQ        0.945114  1.000000  0.776020 -0.076088 -0.118976   0.300279\n",
       "PIQ        0.934427  0.776020  1.000000  0.002512 -0.093156   0.377782\n",
       "Weight    -0.051483 -0.076088  0.002512  1.000000  0.699614   0.513378\n",
       "Height    -0.118448 -0.118976 -0.093156  0.699614  1.000000   0.588377\n",
       "MRI_Count  0.333714  0.300279  0.377782  0.513378  0.588377   1.000000"
      ]
     },
     "execution_count": 9,
     "metadata": {},
     "output_type": "execute_result"
    }
   ],
   "source": [
    "# Let's see if any of the variables correlate with each other\n",
    "\n",
    "data.corr()"
   ]
  },
  {
   "cell_type": "code",
   "execution_count": 10,
   "metadata": {
    "collapsed": false
   },
   "outputs": [
    {
     "data": {
      "text/plain": [
       "<seaborn.axisgrid.PairGrid at 0xc43f208>"
      ]
     },
     "execution_count": 10,
     "metadata": {},
     "output_type": "execute_result"
    },
    {
     "data": {
      "image/png": "[encoded data removed]",
      "text/plain": [
       "<matplotlib.figure.Figure at 0xc43f278>"
      ]
     },
     "metadata": {},
     "output_type": "display_data"
    }
   ],
   "source": [
    "# Let's visualize that\n",
    "\n",
    "sns.pairplot(data, vars= ['FSIQ','PIQ','VIQ'], size = 3.0)"
   ]
  },
  {
   "cell_type": "markdown",
   "metadata": {},
   "source": [
    "The IQ types appear to have a binomial distribution. This could be due to a difference between males and females. We will investigate that further."
   ]
  },
  {
   "cell_type": "code",
   "execution_count": 11,
   "metadata": {
    "collapsed": false
   },
   "outputs": [
    {
     "data": {
      "text/html": [
       "<div>\n",
       "<table border=\"1\" class=\"dataframe\">\n",
       "  <thead>\n",
       "    <tr style=\"text-align: right;\">\n",
       "      <th></th>\n",
       "      <th></th>\n",
       "      <th>FSIQ</th>\n",
       "      <th>Height</th>\n",
       "      <th>MRI_Count</th>\n",
       "      <th>PIQ</th>\n",
       "      <th>VIQ</th>\n",
       "      <th>Weight</th>\n",
       "    </tr>\n",
       "    <tr>\n",
       "      <th>Gender</th>\n",
       "      <th></th>\n",
       "      <th></th>\n",
       "      <th></th>\n",
       "      <th></th>\n",
       "      <th></th>\n",
       "      <th></th>\n",
       "      <th></th>\n",
       "    </tr>\n",
       "  </thead>\n",
       "  <tbody>\n",
       "    <tr>\n",
       "      <th rowspan=\"6\" valign=\"top\">Female</th>\n",
       "      <th>FSIQ</th>\n",
       "      <td>1.000000</td>\n",
       "      <td>-0.059011</td>\n",
       "      <td>0.325697</td>\n",
       "      <td>0.939382</td>\n",
       "      <td>0.955717</td>\n",
       "      <td>0.038192</td>\n",
       "    </tr>\n",
       "    <tr>\n",
       "      <th>Height</th>\n",
       "      <td>-0.059011</td>\n",
       "      <td>1.000000</td>\n",
       "      <td>0.174541</td>\n",
       "      <td>-0.001242</td>\n",
       "      <td>-0.146453</td>\n",
       "      <td>0.552357</td>\n",
       "    </tr>\n",
       "    <tr>\n",
       "      <th>MRI_Count</th>\n",
       "      <td>0.325697</td>\n",
       "      <td>0.174541</td>\n",
       "      <td>1.000000</td>\n",
       "      <td>0.396157</td>\n",
       "      <td>0.254933</td>\n",
       "      <td>0.446271</td>\n",
       "    </tr>\n",
       "    <tr>\n",
       "      <th>PIQ</th>\n",
       "      <td>0.939382</td>\n",
       "      <td>-0.001242</td>\n",
       "      <td>0.396157</td>\n",
       "      <td>1.000000</td>\n",
       "      <td>0.802652</td>\n",
       "      <td>0.113901</td>\n",
       "    </tr>\n",
       "    <tr>\n",
       "      <th>VIQ</th>\n",
       "      <td>0.955717</td>\n",
       "      <td>-0.146453</td>\n",
       "      <td>0.254933</td>\n",
       "      <td>0.802652</td>\n",
       "      <td>1.000000</td>\n",
       "      <td>-0.021889</td>\n",
       "    </tr>\n",
       "    <tr>\n",
       "      <th>Weight</th>\n",
       "      <td>0.038192</td>\n",
       "      <td>0.552357</td>\n",
       "      <td>0.446271</td>\n",
       "      <td>0.113901</td>\n",
       "      <td>-0.021889</td>\n",
       "      <td>1.000000</td>\n",
       "    </tr>\n",
       "    <tr>\n",
       "      <th rowspan=\"6\" valign=\"top\">Male</th>\n",
       "      <th>FSIQ</th>\n",
       "      <td>1.000000</td>\n",
       "      <td>-0.385862</td>\n",
       "      <td>0.431388</td>\n",
       "      <td>0.930669</td>\n",
       "      <td>0.938321</td>\n",
       "      <td>-0.278140</td>\n",
       "    </tr>\n",
       "    <tr>\n",
       "      <th>Height</th>\n",
       "      <td>-0.385862</td>\n",
       "      <td>1.000000</td>\n",
       "      <td>0.292849</td>\n",
       "      <td>-0.299593</td>\n",
       "      <td>-0.402762</td>\n",
       "      <td>0.406542</td>\n",
       "    </tr>\n",
       "    <tr>\n",
       "      <th>MRI_Count</th>\n",
       "      <td>0.431388</td>\n",
       "      <td>0.292849</td>\n",
       "      <td>1.000000</td>\n",
       "      <td>0.528423</td>\n",
       "      <td>0.326555</td>\n",
       "      <td>-0.076875</td>\n",
       "    </tr>\n",
       "    <tr>\n",
       "      <th>PIQ</th>\n",
       "      <td>0.930669</td>\n",
       "      <td>-0.299593</td>\n",
       "      <td>0.528423</td>\n",
       "      <td>1.000000</td>\n",
       "      <td>0.755048</td>\n",
       "      <td>-0.156863</td>\n",
       "    </tr>\n",
       "    <tr>\n",
       "      <th>VIQ</th>\n",
       "      <td>0.938321</td>\n",
       "      <td>-0.402762</td>\n",
       "      <td>0.326555</td>\n",
       "      <td>0.755048</td>\n",
       "      <td>1.000000</td>\n",
       "      <td>-0.350453</td>\n",
       "    </tr>\n",
       "    <tr>\n",
       "      <th>Weight</th>\n",
       "      <td>-0.278140</td>\n",
       "      <td>0.406542</td>\n",
       "      <td>-0.076875</td>\n",
       "      <td>-0.156863</td>\n",
       "      <td>-0.350453</td>\n",
       "      <td>1.000000</td>\n",
       "    </tr>\n",
       "  </tbody>\n",
       "</table>\n",
       "</div>"
      ],
      "text/plain": [
       "                      FSIQ    Height  MRI_Count       PIQ       VIQ    Weight\n",
       "Gender                                                                       \n",
       "Female FSIQ       1.000000 -0.059011   0.325697  0.939382  0.955717  0.038192\n",
       "       Height    -0.059011  1.000000   0.174541 -0.001242 -0.146453  0.552357\n",
       "       MRI_Count  0.325697  0.174541   1.000000  0.396157  0.254933  0.446271\n",
       "       PIQ        0.939382 -0.001242   0.396157  1.000000  0.802652  0.113901\n",
       "       VIQ        0.955717 -0.146453   0.254933  0.802652  1.000000 -0.021889\n",
       "       Weight     0.038192  0.552357   0.446271  0.113901 -0.021889  1.000000\n",
       "Male   FSIQ       1.000000 -0.385862   0.431388  0.930669  0.938321 -0.278140\n",
       "       Height    -0.385862  1.000000   0.292849 -0.299593 -0.402762  0.406542\n",
       "       MRI_Count  0.431388  0.292849   1.000000  0.528423  0.326555 -0.076875\n",
       "       PIQ        0.930669 -0.299593   0.528423  1.000000  0.755048 -0.156863\n",
       "       VIQ        0.938321 -0.402762   0.326555  0.755048  1.000000 -0.350453\n",
       "       Weight    -0.278140  0.406542  -0.076875 -0.156863 -0.350453  1.000000"
      ]
     },
     "execution_count": 11,
     "metadata": {},
     "output_type": "execute_result"
    }
   ],
   "source": [
    "# Now let's start to test the difference in sexes.\n",
    "# First we will start with the correlations.\n",
    "\n",
    "grouped_gender.corr()"
   ]
  },
  {
   "cell_type": "code",
   "execution_count": 12,
   "metadata": {
    "collapsed": false
   },
   "outputs": [
    {
     "data": {
      "text/plain": [
       "<seaborn.axisgrid.PairGrid at 0xddd2278>"
      ]
     },
     "execution_count": 12,
     "metadata": {},
     "output_type": "execute_result"
    },
    {
     "data": {
      "image/png": "[encoded data removed]",
      "text/plain": [
       "<matplotlib.figure.Figure at 0xddd2b38>"
      ]
     },
     "metadata": {},
     "output_type": "display_data"
    }
   ],
   "source": [
    "# Let's visualize those numbers\n",
    "\n",
    "sns.pairplot(data, vars= ['FSIQ','Height','PIQ','VIQ'], hue= 'Gender', palette = 'Set2',size=3)"
   ]
  },
  {
   "cell_type": "markdown",
   "metadata": {},
   "source": [
    "###### Let's test if the population mean of the VIQ test is 0."
   ]
  },
  {
   "cell_type": "code",
   "execution_count": 13,
   "metadata": {
    "collapsed": false
   },
   "outputs": [
    {
     "data": {
      "text/plain": [
       "Ttest_1sampResult(statistic=30.132405743476752, pvalue=1.2294004595027533e-27)"
      ]
     },
     "execution_count": 13,
     "metadata": {},
     "output_type": "execute_result"
    }
   ],
   "source": [
    "stats.ttest_1samp(data['VIQ'], 0)"
   ]
  },
  {
   "cell_type": "markdown",
   "metadata": {},
   "source": [
    "With a p value = 1.229e-28, we can state that the population mean for the VIQ measure is not 0."
   ]
  },
  {
   "cell_type": "markdown",
   "metadata": {},
   "source": [
    "###### To test if this is significant, we need to conduct a 2-sample t-test."
   ]
  },
  {
   "cell_type": "code",
   "execution_count": 14,
   "metadata": {
    "collapsed": false
   },
   "outputs": [
    {
     "data": {
      "text/plain": [
       "Ttest_indResult(statistic=-0.75515898492875122, pvalue=0.45506603948583713)"
      ]
     },
     "execution_count": 14,
     "metadata": {},
     "output_type": "execute_result"
    }
   ],
   "source": [
    "# Separating the VIQ category into males and female data sets.\n",
    "\n",
    "female_viq = data[data['Gender'] == 'Female']['VIQ']\n",
    "male_viq = data[data['Gender'] == 'Male']['VIQ']\n",
    "\n",
    "# Running the test\n",
    "stats.ttest_ind(female_viq, male_viq)"
   ]
  },
  {
   "cell_type": "markdown",
   "metadata": {},
   "source": [
    "With the p value = 0.455, the seen result is not significant"
   ]
  },
  {
   "cell_type": "code",
   "execution_count": 15,
   "metadata": {
    "collapsed": false,
    "scrolled": true
   },
   "outputs": [
    {
     "name": "stdout",
     "output_type": "stream",
     "text": [
      "                            OLS Regression Results                            \n",
      "==============================================================================\n",
      "Dep. Variable:                    VIQ   R-squared:                       0.016\n",
      "Model:                            OLS   Adj. R-squared:                 -0.012\n",
      "Method:                 Least Squares   F-statistic:                    0.5703\n",
      "Date:                Sun, 24 Jul 2016   Prob (F-statistic):              0.455\n",
      "Time:                        21:39:02   Log-Likelihood:                -172.16\n",
      "No. Observations:                  38   AIC:                             348.3\n",
      "Df Residuals:                      36   BIC:                             351.6\n",
      "Df Model:                           1                                         \n",
      "Covariance Type:            nonrobust                                         \n",
      "==================================================================================\n",
      "                     coef    std err          t      P>|t|      [95.0% Conf. Int.]\n",
      "----------------------------------------------------------------------------------\n",
      "Intercept        109.4500      5.160     21.213      0.000        98.986   119.914\n",
      "Gender[T.Male]     5.6611      7.497      0.755      0.455        -9.543    20.865\n",
      "==============================================================================\n",
      "Omnibus:                       21.889   Durbin-Watson:                   1.891\n",
      "Prob(Omnibus):                  0.000   Jarque-Bera (JB):                3.421\n",
      "Skew:                           0.002   Prob(JB):                        0.181\n",
      "Kurtosis:                       1.530   Cond. No.                         2.56\n",
      "==============================================================================\n",
      "\n",
      "Warnings:\n",
      "[1] Standard Errors assume that the covariance matrix of the errors is correctly specified.\n"
     ]
    }
   ],
   "source": [
    "# Let's compare IQ of male and female using a linear model\n",
    "\n",
    "model = ols(\"VIQ ~ Gender + 1\", data).fit()\n",
    "print model.summary()"
   ]
  },
  {
   "cell_type": "markdown",
   "metadata": {},
   "source": [
    "You can see this gives more statistical insight to the relationship, however the results are the same. There is no statistical signifance between VIQ and sex."
   ]
  },
  {
   "cell_type": "markdown",
   "metadata": {
    "collapsed": false
   },
   "source": [
    "#### Now let's compare different types of IQ\n",
    "* Let's test FISQ against PIQ"
   ]
  },
  {
   "cell_type": "code",
   "execution_count": 16,
   "metadata": {
    "collapsed": false
   },
   "outputs": [
    {
     "name": "stdout",
     "output_type": "stream",
     "text": [
      "                            OLS Regression Results                            \n",
      "==============================================================================\n",
      "Dep. Variable:                     iq   R-squared:                       0.002\n",
      "Model:                            OLS   Adj. R-squared:                 -0.011\n",
      "Method:                 Least Squares   F-statistic:                    0.1723\n",
      "Date:                Sun, 24 Jul 2016   Prob (F-statistic):              0.679\n",
      "Time:                        21:39:02   Log-Likelihood:                -345.83\n",
      "No. Observations:                  76   AIC:                             695.7\n",
      "Df Residuals:                      74   BIC:                             700.3\n",
      "Df Model:                           1                                         \n",
      "Covariance Type:            nonrobust                                         \n",
      "===============================================================================\n",
      "                  coef    std err          t      P>|t|      [95.0% Conf. Int.]\n",
      "-------------------------------------------------------------------------------\n",
      "Intercept     113.5526      3.766     30.153      0.000       106.049   121.056\n",
      "type[T.piq]    -2.2105      5.326     -0.415      0.679       -12.822     8.401\n",
      "==============================================================================\n",
      "Omnibus:                      121.916   Durbin-Watson:                   1.626\n",
      "Prob(Omnibus):                  0.000   Jarque-Bera (JB):                7.492\n",
      "Skew:                          -0.119   Prob(JB):                       0.0236\n",
      "Kurtosis:                       1.480   Cond. No.                         2.62\n",
      "==============================================================================\n",
      "\n",
      "Warnings:\n",
      "[1] Standard Errors assume that the covariance matrix of the errors is correctly specified.\n"
     ]
    }
   ],
   "source": [
    "# Separating the data so I can compare them against each other\n",
    "data_fisq = DataFrame({'iq': data['FSIQ'], 'type': 'fsiq'})\n",
    "data_piq = DataFrame({'iq': data['PIQ'], 'type': 'piq'})\n",
    "data_comb = pd.concat((data_fisq, data_piq))\n",
    "\n",
    "mod = ols(\"iq ~ type\", data_comb).fit()\n",
    "print mod.summary()"
   ]
  },
  {
   "cell_type": "markdown",
   "metadata": {
    "collapsed": false
   },
   "source": [
    "With the p value= 0.697, there is no significant statistical difference."
   ]
  }
 ],
 "metadata": {
  "kernelspec": {
   "display_name": "Python 2",
   "language": "python",
   "name": "python2"
  },
  "language_info": {
   "codemirror_mode": {
    "name": "ipython",
    "version": 2
   },
   "file_extension": ".py",
   "mimetype": "text/x-python",
   "name": "python",
   "nbconvert_exporter": "python",
   "pygments_lexer": "ipython2",
   "version": "2.7.12"
  }
 },
 "nbformat": 4,
 "nbformat_minor": 0
}
