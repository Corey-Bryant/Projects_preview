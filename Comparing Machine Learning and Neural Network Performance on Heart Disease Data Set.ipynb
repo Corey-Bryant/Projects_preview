{
 "cells": [
  {
   "cell_type": "markdown",
   "metadata": {},
   "source": [
    "# Classification using Heart Disease Data Set\n",
    "\n",
    "This notebook compares the different classification techniques of a logistic regression model, a support vector machine model, and a 3-layer neural network that uses a sigmoid activator in Python on a Heart Disease dataset that has the outcome being classified as having heart disease (indicated by a \"1\") or not (indicates by a \"0\"). \n",
    "\n",
    "Since many models are being compared, a train, validate, test split will be used with a respective split of 60%, 20%, and 20%. Performance will be assessed by comparing accuracy and F1 scores.\n",
    "\n",
    "More information about the dataset is under **The Data Source** section.Now to load the libraries and data."
   ]
  },
  {
   "cell_type": "code",
   "execution_count": 1,
   "metadata": {},
   "outputs": [],
   "source": [
    "import pandas as pd\n",
    "import researchpy as rp\n",
    "import numpy as np\n",
    "\n",
    "from sklearn import svm\n",
    "from sklearn.neural_network import MLPClassifier\n",
    "from sklearn.linear_model import LogisticRegression\n",
    "\n",
    "from sklearn.model_selection import train_test_split # Fast way for splitting data into train, validate, and test sets\n",
    "from sklearn.metrics import accuracy_score, f1_score\n",
    "\n",
    "import matplotlib.pyplot as plt\n",
    "%matplotlib inline\n",
    "#plt.style.use('ggplot')"
   ]
  },
  {
   "cell_type": "code",
   "execution_count": 2,
   "metadata": {},
   "outputs": [
    {
     "name": "stdout",
     "output_type": "stream",
     "text": [
      "<class 'pandas.core.frame.DataFrame'>\n",
      "RangeIndex: 303 entries, 0 to 302\n",
      "Data columns (total 14 columns):\n",
      "age         303 non-null int64\n",
      "sex         303 non-null int64\n",
      "cp          303 non-null int64\n",
      "trestbps    303 non-null int64\n",
      "chol        303 non-null int64\n",
      "fbs         303 non-null int64\n",
      "restecg     303 non-null int64\n",
      "thalach     303 non-null int64\n",
      "exang       303 non-null int64\n",
      "oldpeak     303 non-null float64\n",
      "slope       303 non-null int64\n",
      "ca          303 non-null int64\n",
      "thal        303 non-null int64\n",
      "target      303 non-null int64\n",
      "dtypes: float64(1), int64(13)\n",
      "memory usage: 33.2 KB\n"
     ]
    }
   ],
   "source": [
    "#df = pd.read_csv(\"C:\\\\Users\\\\CoreySSD\\\\Downloads\\\\heart.csv\")\n",
    "df = pd.read_csv(\"C:\\\\Users\\\\bryantcm\\\\Downloads\\\\heart.csv\")\n",
    "\n",
    "df.info()"
   ]
  },
  {
   "cell_type": "markdown",
   "metadata": {},
   "source": [
    "### The Data Source\n",
    "\n",
    "The data is from [Kaggle](https://www.kaggle.com/ronitf/heart-disease-uci) and was uploaded by the user <i>ronit</i>. The data contains attributes, that are a subset from a larger database, that are believed to predict the presence of heart disease. The variables in the data are:\n",
    "\n",
    "* *age* = patients age\n",
    "* *sex* = patients sex (1 = male, 0 = female)\n",
    "* *cp* = chest pain type\n",
    "    * 1 indicates typical angina\n",
    "    * 2 indicates atypical angina\n",
    "    * 3 indicates non-anginal pain\n",
    "    * 4 indicates asympotmatic\n",
    "* *trestbps* = resting blood pressure (measured in mm/Hg at time of hospital admission)\n",
    "* *chol* = serum cholestoral measured in mh/dl\n",
    "* *fbs* = fasting blood sugar (1 = fbs > 120 mg/dl, 0 = fbs &le; 120 mg/dl)\n",
    "* *restecg* = resting electrocardiographic results\n",
    "    * 0 indicates normal results\n",
    "    * 1 indicates having ST-T wave abnormality (T wave inversion and/or ST elevation or depression of > 0.05 mV)\n",
    "    * 2 indicates showing probable or definite left ventricular hypertrophy using the Estes' criteria\n",
    "* *thalach* = maximum heart rate achieved\n",
    "* *exang* = exercise induced angina (1 = yes, 0 = no)\n",
    "* *oldpeak* = ST depression induced by exercise relative to rest\n",
    "* *slope* = the slope of the peak exercise ST segment\n",
    "    * 1 indicates upsloping\n",
    "    * 2 indicates flat\n",
    "    * 3 indicate downsloping\n",
    "* *ca* = number of major vessels (0-3) colored by flourosopy\n",
    "* *thal* = (no description provided; 3 = normal, 6 = fixed defect, 7 = reversable defect)\n",
    "* *target* = presence of heart disease (1 = yes, 0 = no; 1 is the collapsed measure of any level of heart disease which typically ranges on a measure from 0-4 where 0 indicates no heart disease present)"
   ]
  },
  {
   "cell_type": "code",
   "execution_count": 3,
   "metadata": {},
   "outputs": [
    {
     "name": "stdout",
     "output_type": "stream",
     "text": [
      "\n",
      "\n"
     ]
    },
    {
     "data": {
      "text/html": [
       "<div>\n",
       "<style scoped>\n",
       "    .dataframe tbody tr th:only-of-type {\n",
       "        vertical-align: middle;\n",
       "    }\n",
       "\n",
       "    .dataframe tbody tr th {\n",
       "        vertical-align: top;\n",
       "    }\n",
       "\n",
       "    .dataframe thead th {\n",
       "        text-align: right;\n",
       "    }\n",
       "</style>\n",
       "<table border=\"1\" class=\"dataframe\">\n",
       "  <thead>\n",
       "    <tr style=\"text-align: right;\">\n",
       "      <th></th>\n",
       "      <th>Variable</th>\n",
       "      <th>N</th>\n",
       "      <th>Mean</th>\n",
       "      <th>SD</th>\n",
       "      <th>SE</th>\n",
       "      <th>95% Conf.</th>\n",
       "      <th>Interval</th>\n",
       "    </tr>\n",
       "  </thead>\n",
       "  <tbody>\n",
       "    <tr>\n",
       "      <th>0</th>\n",
       "      <td>age</td>\n",
       "      <td>303.0</td>\n",
       "      <td>54.366337</td>\n",
       "      <td>9.082101</td>\n",
       "      <td>0.521753</td>\n",
       "      <td>53.339605</td>\n",
       "      <td>55.393069</td>\n",
       "    </tr>\n",
       "    <tr>\n",
       "      <th>1</th>\n",
       "      <td>trestbps</td>\n",
       "      <td>303.0</td>\n",
       "      <td>131.623762</td>\n",
       "      <td>17.538143</td>\n",
       "      <td>1.007540</td>\n",
       "      <td>129.641075</td>\n",
       "      <td>133.606450</td>\n",
       "    </tr>\n",
       "    <tr>\n",
       "      <th>2</th>\n",
       "      <td>chol</td>\n",
       "      <td>303.0</td>\n",
       "      <td>246.264026</td>\n",
       "      <td>51.830751</td>\n",
       "      <td>2.977599</td>\n",
       "      <td>240.404558</td>\n",
       "      <td>252.123495</td>\n",
       "    </tr>\n",
       "    <tr>\n",
       "      <th>3</th>\n",
       "      <td>thalach</td>\n",
       "      <td>303.0</td>\n",
       "      <td>149.646865</td>\n",
       "      <td>22.905161</td>\n",
       "      <td>1.315867</td>\n",
       "      <td>147.057435</td>\n",
       "      <td>152.236294</td>\n",
       "    </tr>\n",
       "    <tr>\n",
       "      <th>4</th>\n",
       "      <td>oldpeak</td>\n",
       "      <td>303.0</td>\n",
       "      <td>1.039604</td>\n",
       "      <td>1.161075</td>\n",
       "      <td>0.066702</td>\n",
       "      <td>0.908344</td>\n",
       "      <td>1.170864</td>\n",
       "    </tr>\n",
       "    <tr>\n",
       "      <th>5</th>\n",
       "      <td>ca</td>\n",
       "      <td>303.0</td>\n",
       "      <td>0.729373</td>\n",
       "      <td>1.022606</td>\n",
       "      <td>0.058747</td>\n",
       "      <td>0.613767</td>\n",
       "      <td>0.844979</td>\n",
       "    </tr>\n",
       "  </tbody>\n",
       "</table>\n",
       "</div>"
      ],
      "text/plain": [
       "   Variable      N        Mean         SD        SE   95% Conf.    Interval\n",
       "0       age  303.0   54.366337   9.082101  0.521753   53.339605   55.393069\n",
       "1  trestbps  303.0  131.623762  17.538143  1.007540  129.641075  133.606450\n",
       "2      chol  303.0  246.264026  51.830751  2.977599  240.404558  252.123495\n",
       "3   thalach  303.0  149.646865  22.905161  1.315867  147.057435  152.236294\n",
       "4   oldpeak  303.0    1.039604   1.161075  0.066702    0.908344    1.170864\n",
       "5        ca  303.0    0.729373   1.022606  0.058747    0.613767    0.844979"
      ]
     },
     "execution_count": 3,
     "metadata": {},
     "output_type": "execute_result"
    }
   ],
   "source": [
    "# Getting some information on the continuous variables\n",
    "\n",
    "rp.summary_cont(df[['age', 'trestbps', 'chol', 'thalach', 'oldpeak', 'ca']])"
   ]
  },
  {
   "cell_type": "code",
   "execution_count": 4,
   "metadata": {},
   "outputs": [
    {
     "data": {
      "text/html": [
       "<div>\n",
       "<style scoped>\n",
       "    .dataframe tbody tr th:only-of-type {\n",
       "        vertical-align: middle;\n",
       "    }\n",
       "\n",
       "    .dataframe tbody tr th {\n",
       "        vertical-align: top;\n",
       "    }\n",
       "\n",
       "    .dataframe thead th {\n",
       "        text-align: right;\n",
       "    }\n",
       "</style>\n",
       "<table border=\"1\" class=\"dataframe\">\n",
       "  <thead>\n",
       "    <tr style=\"text-align: right;\">\n",
       "      <th></th>\n",
       "      <th>Variable</th>\n",
       "      <th>Outcome</th>\n",
       "      <th>Count</th>\n",
       "      <th>Percent</th>\n",
       "    </tr>\n",
       "  </thead>\n",
       "  <tbody>\n",
       "    <tr>\n",
       "      <th>0</th>\n",
       "      <td>sex</td>\n",
       "      <td>1</td>\n",
       "      <td>207</td>\n",
       "      <td>68.32</td>\n",
       "    </tr>\n",
       "    <tr>\n",
       "      <th>1</th>\n",
       "      <td></td>\n",
       "      <td>0</td>\n",
       "      <td>96</td>\n",
       "      <td>31.68</td>\n",
       "    </tr>\n",
       "    <tr>\n",
       "      <th>2</th>\n",
       "      <td>cp</td>\n",
       "      <td>0</td>\n",
       "      <td>143</td>\n",
       "      <td>47.19</td>\n",
       "    </tr>\n",
       "    <tr>\n",
       "      <th>3</th>\n",
       "      <td></td>\n",
       "      <td>2</td>\n",
       "      <td>87</td>\n",
       "      <td>28.71</td>\n",
       "    </tr>\n",
       "    <tr>\n",
       "      <th>4</th>\n",
       "      <td></td>\n",
       "      <td>1</td>\n",
       "      <td>50</td>\n",
       "      <td>16.50</td>\n",
       "    </tr>\n",
       "    <tr>\n",
       "      <th>5</th>\n",
       "      <td></td>\n",
       "      <td>3</td>\n",
       "      <td>23</td>\n",
       "      <td>7.59</td>\n",
       "    </tr>\n",
       "    <tr>\n",
       "      <th>6</th>\n",
       "      <td>fbs</td>\n",
       "      <td>0</td>\n",
       "      <td>258</td>\n",
       "      <td>85.15</td>\n",
       "    </tr>\n",
       "    <tr>\n",
       "      <th>7</th>\n",
       "      <td></td>\n",
       "      <td>1</td>\n",
       "      <td>45</td>\n",
       "      <td>14.85</td>\n",
       "    </tr>\n",
       "    <tr>\n",
       "      <th>8</th>\n",
       "      <td>restecg</td>\n",
       "      <td>1</td>\n",
       "      <td>152</td>\n",
       "      <td>50.17</td>\n",
       "    </tr>\n",
       "    <tr>\n",
       "      <th>9</th>\n",
       "      <td></td>\n",
       "      <td>0</td>\n",
       "      <td>147</td>\n",
       "      <td>48.51</td>\n",
       "    </tr>\n",
       "    <tr>\n",
       "      <th>10</th>\n",
       "      <td></td>\n",
       "      <td>2</td>\n",
       "      <td>4</td>\n",
       "      <td>1.32</td>\n",
       "    </tr>\n",
       "    <tr>\n",
       "      <th>11</th>\n",
       "      <td>exang</td>\n",
       "      <td>0</td>\n",
       "      <td>204</td>\n",
       "      <td>67.33</td>\n",
       "    </tr>\n",
       "    <tr>\n",
       "      <th>12</th>\n",
       "      <td></td>\n",
       "      <td>1</td>\n",
       "      <td>99</td>\n",
       "      <td>32.67</td>\n",
       "    </tr>\n",
       "    <tr>\n",
       "      <th>13</th>\n",
       "      <td>slope</td>\n",
       "      <td>2</td>\n",
       "      <td>142</td>\n",
       "      <td>46.86</td>\n",
       "    </tr>\n",
       "    <tr>\n",
       "      <th>14</th>\n",
       "      <td></td>\n",
       "      <td>1</td>\n",
       "      <td>140</td>\n",
       "      <td>46.20</td>\n",
       "    </tr>\n",
       "    <tr>\n",
       "      <th>15</th>\n",
       "      <td></td>\n",
       "      <td>0</td>\n",
       "      <td>21</td>\n",
       "      <td>6.93</td>\n",
       "    </tr>\n",
       "    <tr>\n",
       "      <th>16</th>\n",
       "      <td>ca</td>\n",
       "      <td>0</td>\n",
       "      <td>175</td>\n",
       "      <td>57.76</td>\n",
       "    </tr>\n",
       "    <tr>\n",
       "      <th>17</th>\n",
       "      <td></td>\n",
       "      <td>1</td>\n",
       "      <td>65</td>\n",
       "      <td>21.45</td>\n",
       "    </tr>\n",
       "    <tr>\n",
       "      <th>18</th>\n",
       "      <td></td>\n",
       "      <td>2</td>\n",
       "      <td>38</td>\n",
       "      <td>12.54</td>\n",
       "    </tr>\n",
       "    <tr>\n",
       "      <th>19</th>\n",
       "      <td></td>\n",
       "      <td>3</td>\n",
       "      <td>20</td>\n",
       "      <td>6.60</td>\n",
       "    </tr>\n",
       "    <tr>\n",
       "      <th>20</th>\n",
       "      <td></td>\n",
       "      <td>4</td>\n",
       "      <td>5</td>\n",
       "      <td>1.65</td>\n",
       "    </tr>\n",
       "    <tr>\n",
       "      <th>21</th>\n",
       "      <td>thal</td>\n",
       "      <td>2</td>\n",
       "      <td>166</td>\n",
       "      <td>54.79</td>\n",
       "    </tr>\n",
       "    <tr>\n",
       "      <th>22</th>\n",
       "      <td></td>\n",
       "      <td>3</td>\n",
       "      <td>117</td>\n",
       "      <td>38.61</td>\n",
       "    </tr>\n",
       "    <tr>\n",
       "      <th>23</th>\n",
       "      <td></td>\n",
       "      <td>1</td>\n",
       "      <td>18</td>\n",
       "      <td>5.94</td>\n",
       "    </tr>\n",
       "    <tr>\n",
       "      <th>24</th>\n",
       "      <td></td>\n",
       "      <td>0</td>\n",
       "      <td>2</td>\n",
       "      <td>0.66</td>\n",
       "    </tr>\n",
       "    <tr>\n",
       "      <th>25</th>\n",
       "      <td>target</td>\n",
       "      <td>1</td>\n",
       "      <td>165</td>\n",
       "      <td>54.46</td>\n",
       "    </tr>\n",
       "    <tr>\n",
       "      <th>26</th>\n",
       "      <td></td>\n",
       "      <td>0</td>\n",
       "      <td>138</td>\n",
       "      <td>45.54</td>\n",
       "    </tr>\n",
       "  </tbody>\n",
       "</table>\n",
       "</div>"
      ],
      "text/plain": [
       "   Variable  Outcome  Count  Percent\n",
       "0       sex        1    207    68.32\n",
       "1                  0     96    31.68\n",
       "2        cp        0    143    47.19\n",
       "3                  2     87    28.71\n",
       "4                  1     50    16.50\n",
       "5                  3     23     7.59\n",
       "6       fbs        0    258    85.15\n",
       "7                  1     45    14.85\n",
       "8   restecg        1    152    50.17\n",
       "9                  0    147    48.51\n",
       "10                 2      4     1.32\n",
       "11    exang        0    204    67.33\n",
       "12                 1     99    32.67\n",
       "13    slope        2    142    46.86\n",
       "14                 1    140    46.20\n",
       "15                 0     21     6.93\n",
       "16       ca        0    175    57.76\n",
       "17                 1     65    21.45\n",
       "18                 2     38    12.54\n",
       "19                 3     20     6.60\n",
       "20                 4      5     1.65\n",
       "21     thal        2    166    54.79\n",
       "22                 3    117    38.61\n",
       "23                 1     18     5.94\n",
       "24                 0      2     0.66\n",
       "25   target        1    165    54.46\n",
       "26                 0    138    45.54"
      ]
     },
     "execution_count": 4,
     "metadata": {},
     "output_type": "execute_result"
    }
   ],
   "source": [
    "# Getting some information on the categorical variables\n",
    "rp.summary_cat(df[['sex', 'cp', 'fbs', 'restecg', 'exang', 'slope', \\\n",
    "                   'ca', 'thal', 'target']])"
   ]
  },
  {
   "cell_type": "markdown",
   "metadata": {},
   "source": [
    "There is a pretty even split of those with heart disease, 54.5%, and those without heart disease, 45.5%. Next, to split the data into our feature set and the outcome set."
   ]
  },
  {
   "cell_type": "code",
   "execution_count": 5,
   "metadata": {},
   "outputs": [],
   "source": [
    "features = df.iloc[:, :-1]\n",
    "target = df['target']"
   ]
  },
  {
   "cell_type": "markdown",
   "metadata": {},
   "source": [
    "### Feature Normalization\n",
    "The features are measured on different scales and have a range of variation present. This is a good case to normalize the features to remove the scale units from the measurement. I will use feature standardization method, this can be expressed using the following formula:\n",
    "\n",
    "$$\n",
    "x'= \\frac{x - average(x)}{\\sigma}\n",
    "$$"
   ]
  },
  {
   "cell_type": "code",
   "execution_count": 6,
   "metadata": {},
   "outputs": [],
   "source": [
    "def feature_normalization(x):\n",
    "    x_prime = (x - x.mean()) / x.std()\n",
    "    \n",
    "    return x_prime"
   ]
  },
  {
   "cell_type": "code",
   "execution_count": 7,
   "metadata": {},
   "outputs": [],
   "source": [
    "features_norm = features.apply(feature_normalization)"
   ]
  },
  {
   "cell_type": "markdown",
   "metadata": {},
   "source": [
    "### Splitting the Data \n",
    "When splitting data it is best practice to split the data randomly. Scikit learn has a built-in method that allows the data to be split into train and test sets, but doesn't include the splitting into a validation set. It's an easy fix, just have to run the method twice.\n",
    "\n",
    "The data will be split into a 60% train, 20% validate, and 20% test."
   ]
  },
  {
   "cell_type": "code",
   "execution_count": 8,
   "metadata": {},
   "outputs": [
    {
     "name": "stdout",
     "output_type": "stream",
     "text": [
      "Regular data set length= 303 \n",
      " Feature training set length= 181 which is 60% of the original \n",
      " Feature validate set length= 61 which is 20% of the original \n",
      " Feature test set length= 61 which is 20% of the original \n",
      "\n"
     ]
    }
   ],
   "source": [
    "# The first spit - 60% train and 40% test\n",
    "features_train, features_test, target_train, target_test \\\n",
    "    = train_test_split(features_norm, target, test_size=0.4, random_state=1)\n",
    "\n",
    "# The second split - 20% validate and 20% test\n",
    "features_validate, features_test, target_validate, target_test \\\n",
    "    = train_test_split(features_test, target_test, \n",
    "                       test_size=0.5, random_state=1)\n",
    "\n",
    "print(\"Regular data set length=\", features.shape[0], \"\\n\", \n",
    "      \"Feature training set length=\", features_train.shape[0], f\"which is{features_train.shape[0]/features.shape[0]*100: .0f}% of the original\", \"\\n\",\n",
    "     \"Feature validate set length=\", features_validate.shape[0], f\"which is{features_validate.shape[0]/features.shape[0]*100: .0f}% of the original\", \"\\n\",\n",
    "     \"Feature test set length=\", features_test.shape[0], f\"which is{features_test.shape[0]/features.shape[0]*100: .0f}% of the original\", \"\\n\",)"
   ]
  },
  {
   "cell_type": "markdown",
   "metadata": {},
   "source": [
    "## Logistic Regression Model\n",
    "\n",
    "This logistic regression model will use the *newton-cg* solver with the default regularization penalty *l2*."
   ]
  },
  {
   "cell_type": "code",
   "execution_count": 9,
   "metadata": {},
   "outputs": [
    {
     "name": "stdout",
     "output_type": "stream",
     "text": [
      "Using a Logistic Regression model, the accuracy achieved on the validation set was  80.3% and the f1 score was 0.8125.\n"
     ]
    }
   ],
   "source": [
    "classifier = LogisticRegression(random_state= 1, solver= 'newton-cg')\n",
    "classifier.fit(features_train, target_train)\n",
    "\n",
    "LogReg_y_predict = classifier.predict(features_test)\n",
    "LogReg_accuracy = accuracy_score(target_validate, classifier.predict(features_validate))\n",
    "LogReg_f1_score = f1_score(target_validate, classifier.predict(features_validate))\n",
    "\n",
    "print(\"Using a Logistic Regression model, the accuracy achieved on the validation set\",\n",
    "      f\"was {LogReg_accuracy*100: 0.1f}% and the f1 score was {LogReg_f1_score}.\")"
   ]
  },
  {
   "cell_type": "markdown",
   "metadata": {},
   "source": [
    "## SVM Model\n",
    "There are various kernals that can be used in the support vector machine algorithms. Scikit learn accepts the kernal options of: 'rbf' (the default), 'linear', 'poly', 'sigmoid', 'precomputed', or a callable function that the user created. With the outcome being binary, I will use the sigmoid function and test varying penalization parameters of C and gamma."
   ]
  },
  {
   "cell_type": "markdown",
   "metadata": {},
   "source": [
    "### Setting up the SVM Model\n",
    "There are a couple parameters that need to be decided on when using a support vector machine, the parameter *C and gamma*. Finding a good combination of these can be tricky, but they each effect the model's bias and variance. Easy way to test the combined effect of this is to use a for loop and compare accuracy metrics. In general: <br>\n",
    "\n",
    "**The C parameter** <br>\n",
    "This parameter is a penality parameter that is applied to the formula. A value of 1 means no penality\n",
    "> Large C value = lower bias and higher variance (more prone to overfitting) <br>\n",
    "> Small C value = higher bias and low variance (more prone to underfitting)\n",
    "\n",
    "**The gamma parameter** <br>\n",
    "By default, scikit learn svm uses $\\frac{1}{\\text{# of features * $\\sigma$}}$. This parameter effect the smoothness and overall shape of the peak of the data."
   ]
  },
  {
   "cell_type": "code",
   "execution_count": 10,
   "metadata": {},
   "outputs": [
    {
     "name": "stdout",
     "output_type": "stream",
     "text": [
      "Using a SVM model, the accuracy achieved on the validation set was  80.3% and \n",
      "the f1 score was 0.8181818181818182.\n"
     ]
    }
   ],
   "source": [
    "clf = svm.SVC(gamma= 'scale', \n",
    "              C= 1, kernel= 'sigmoid', \n",
    "              max_iter= 3000)\n",
    "clf.fit(features_train, target_train)\n",
    "\n",
    "SVM_accuracy = accuracy_score(target_validate, clf.predict(features_validate))\n",
    "SVM_f1_score = f1_score(target_validate, clf.predict(features_validate))\n",
    "\n",
    "print(\"Using a SVM model, the accuracy achieved on the validation set\",\n",
    "      f\"was {SVM_accuracy*100: 0.1f}% and \\nthe f1 score was {SVM_f1_score}.\")"
   ]
  },
  {
   "cell_type": "markdown",
   "metadata": {},
   "source": [
    "The initial model achieved an accuracy of 80.3% with an F1 score of 0.82. Since the penalization parameter effects the cost of the function, I will test multiple C values and opt to use the best performing C value, in terms of accuracy and F1 score, in the final model selection. C values with an accuracy score $\\ge$ 80% will be displayed, and of those the best performing F1 score will be used to select the model for comparison against the logistic regression model and the 3-layer neural network."
   ]
  },
  {
   "cell_type": "code",
   "execution_count": 11,
   "metadata": {},
   "outputs": [
    {
     "name": "stdout",
     "output_type": "stream",
     "text": [
      "The C values that produced the largest accuracy score of  82.0% were: [24.84865656565657, 26.060737373737375, 27.272818181818185, 27.575838383838384, 27.878858585858588]. Of those C values, the best f1 score was 0.819672131147541 which was associated with the C value of 24.84865656565657\n"
     ]
    }
   ],
   "source": [
    "c = np.linspace(0.001, 30, num= 100)\n",
    "accuracy = {}\n",
    "f1 = {}\n",
    "\n",
    "for penality in c:\n",
    "    clf = svm.SVC(gamma= 'scale', \n",
    "                  C= penality, \n",
    "                  kernel= 'sigmoid', \n",
    "                  max_iter= 3000)\n",
    "    clf.fit(features_train, target_train)\n",
    "        \n",
    "    acc = accuracy_score(target_validate, clf.predict(features_validate))\n",
    "    f1_sc = f1_score(target_validate, clf.predict(features_validate))\n",
    "        \n",
    "    if acc >= 0.80000000:\n",
    "        accuracy.update({penality: acc})\n",
    "        f1.update({penality: f1_sc})\n",
    "            \n",
    "\n",
    "max_acc_value = max(accuracy.values())\n",
    "max_key = [key for key, value in accuracy.items() if value == max_acc_value]\n",
    "\n",
    "good_f1_values = [(value, key) for key, value in f1.items()]\n",
    "max_f1_value = max(good_f1_values)\n",
    "\n",
    "print(f\"The C values that produced the largest accuracy score of {max_acc_value*100: 0.1f}%\",\n",
    "      f\"were: {max_key}. Of those C values, the best f1 score was {max_f1_value[0]}\", \n",
    "      f\"which was associated with the C value of {max_f1_value[1]}\")"
   ]
  },
  {
   "cell_type": "markdown",
   "metadata": {},
   "source": [
    "There are several C values that produced accuracy scores that were greater than 80% - albeit not that much greater. More specifically, there were 5 C values that produced the maximum accuracy score of 82%. Of those C values, the best f1 score that was achieved corresponded to C = 24.85."
   ]
  },
  {
   "cell_type": "markdown",
   "metadata": {},
   "source": [
    "# Neural Network\n",
    "\n",
    "Here I will test a 3 layer neural network model on the data to see if it performs better than both the logistic regression and SVM models. In this neural network, I will use the sigmoid function as the activator again since the outcome is binary."
   ]
  },
  {
   "cell_type": "code",
   "execution_count": 12,
   "metadata": {},
   "outputs": [],
   "source": [
    "x_train = features_train.values # Converting Pandas Data Frame into Matrix\n",
    "x_train = np.append(np.ones([len(x_train), 1]), x_train, 1) # Adding bias paramter\n",
    "\n",
    "y_train = np.matrix(target_train) # Converting Pandas Data Frame into Matrix\n",
    "yVec_train = y_train.reshape((181,1)) # Reshape Marix"
   ]
  },
  {
   "cell_type": "code",
   "execution_count": 13,
   "metadata": {},
   "outputs": [],
   "source": [
    "# These functions are needed for the activation step (sigmoid) and\n",
    "#    for the gradient check in the neural network\n",
    "def sigmoid(z):\n",
    "    return 1 / (1 + np.exp(-z))\n",
    "\n",
    "def sigmoidGradient(z):\n",
    "    return np.multiply(sigmoid(z), (1 - sigmoid(z)))"
   ]
  },
  {
   "cell_type": "markdown",
   "metadata": {},
   "source": [
    "The next cell is creating a function to randomly initialize $\\theta$'s to the correct input layer size with the corresponding output layer size. It can take a seed that will be used for the randomized number generation for reproducability purposes."
   ]
  },
  {
   "cell_type": "code",
   "execution_count": 14,
   "metadata": {},
   "outputs": [],
   "source": [
    "## Randomly Initializing Weights Function\n",
    "def randInitializeWeights(layer_size_in, layer_size_out, seed= 0):\n",
    "    \"\"\"\n",
    "    Randomly initializes the weights of a layer with a specified number \n",
    "        of incoming connections and outgoing connections. Where:\n",
    "            layer_size_in is the number of incoming connections, and\n",
    "            layer_size_out is the number of outgoing connections\n",
    "    \"\"\"\n",
    "    \n",
    "    np.random.seed(seed)\n",
    "    \n",
    "    epi = (6**1/2) / (layer_size_in + layer_size_out)**1/2\n",
    "    \n",
    "    W = np.random.rand(layer_size_out, layer_size_in + 1) * (2*epi) - epi\n",
    "    \n",
    "    return W\n",
    "\n",
    "initial_Theta1 = randInitializeWeights(features_norm.shape[1], 25)\n",
    "initial_Theta2 = randInitializeWeights(25, 1)"
   ]
  },
  {
   "cell_type": "markdown",
   "metadata": {},
   "source": [
    "This next cell creates a function for a 3-layer neural network that can be regularized if desired. It calculates the forward propagation and backward error terms that will be used to train the network."
   ]
  },
  {
   "cell_type": "code",
   "execution_count": 15,
   "metadata": {},
   "outputs": [],
   "source": [
    "# Neural Network Cost Function\n",
    "def nnCostFunction(Theta1, Theta2, num_labels, x, y, lmbda):\n",
    "    \n",
    "    Theta1_grad = 0\n",
    "    Theta2_grad = 0\n",
    "    \n",
    "    x = np.matrix(x)\n",
    "    yVec = np.matrix(y)\n",
    "    \n",
    "    m = x.shape[0]\n",
    "    J = 0\n",
    "    \n",
    "    \n",
    "    ## Forward Propogation\n",
    "    layer_z2 = x*Theta1.T\n",
    "    layer_a2 = sigmoid(layer_z2)\n",
    "\n",
    "    layer_a2 = np.append(np.ones([len(layer_a2), 1]), layer_a2, 1)\n",
    "\n",
    "    layer_z3 = layer_a2*Theta2.T\n",
    "    layer_a3 = sigmoid(layer_z3)\n",
    "\n",
    "    ## Cost\n",
    "    J = (1/m) * np.sum(np.sum(np.multiply((-1*yVec), np.log(layer_a3)) - \\\n",
    "                          np.multiply((1 - yVec), np.log(1 - layer_a3)))) \\\n",
    "    + lmbda/(2*m) * (np.sum(np.sum(np.power(Theta1[:, 1:], 2))) + \\\n",
    "                     np.sum(np.sum(np.power(Theta2[:, 1:], 2))))\n",
    "    \n",
    "    \n",
    "\n",
    "    # This computes the error between the last layer (contains prediction) and the known output \n",
    "    delta_3 = layer_a3 - yVec\n",
    "\n",
    "    # This computes the error between layer 2 and layer 3\n",
    "    delta_2 = np.multiply((delta_3 * Theta2), \\\n",
    "                          np.append(np.ones([len(sigmoidGradient(layer_z2)), 1]), \\\n",
    "                                    sigmoidGradient(layer_z2), 1))\n",
    "    delta_2 = delta_2[:, 1:]\n",
    "\n",
    "    Theta1_grad = Theta1_grad + (1/m) * (delta_2.T * x) + (lmbda/m) * np.append(np.zeros([len(Theta1), 1]), Theta1[:, 1:], 1)\n",
    "    Theta2_grad = Theta2_grad + (1/m) * (delta_3.T * layer_a2) + (lmbda/m) * np.append(np.zeros([len(Theta2), 1]), Theta2[:, 1:], 1)\n",
    "    \n",
    "    \n",
    "    return J, Theta1_grad, Theta2_grad"
   ]
  },
  {
   "cell_type": "markdown",
   "metadata": {},
   "source": [
    "The gradient descent function in the next cell uses the previously created *nnCostFunction* to train the neural network using gradient descent."
   ]
  },
  {
   "cell_type": "code",
   "execution_count": 16,
   "metadata": {},
   "outputs": [],
   "source": [
    "def gradientDescentnn(x, y, Theta1, Theta2, alpha, num_iters,\n",
    "                     lmbda, num_labels):\n",
    "    \n",
    "    m = y.shape[0]\n",
    "    J_history = []\n",
    "    \n",
    "    for i in range(num_iters):\n",
    "        #nnCostFunction(theta1, theta2, num_labels, X, y, lmbda)\n",
    "        cost, Theta1_grad, Theta2_grad = nnCostFunction(Theta1, Theta2, \n",
    "                                                        num_labels, x, y, \n",
    "                                                        lmbda)\n",
    "        Theta1 = Theta1 - (alpha * Theta1_grad)\n",
    "        Theta2 = Theta2 - (alpha * Theta2_grad)\n",
    "        J_history.append(cost)\n",
    "    \n",
    "    return Theta1, Theta2, J_history"
   ]
  },
  {
   "cell_type": "markdown",
   "metadata": {},
   "source": [
    "Now to train the randomly initialized thetas."
   ]
  },
  {
   "cell_type": "code",
   "execution_count": 17,
   "metadata": {},
   "outputs": [],
   "source": [
    "# This works and runs\n",
    "Theta1_f, Theta2_f, J_history = \\\n",
    "    gradientDescentnn(x_train, yVec_train, \n",
    "                      initial_Theta1, initial_Theta2, \n",
    "                      0.8, 3000, 1, 2)"
   ]
  },
  {
   "cell_type": "markdown",
   "metadata": {},
   "source": [
    "Next step is to check that the algorithm learned through each iteration. If the algorithm learned properly there will be a clear decline in the cost function value (y-axis) as the number of iterations increased (x-axis)."
   ]
  },
  {
   "cell_type": "code",
   "execution_count": 18,
   "metadata": {},
   "outputs": [
    {
     "data": {
      "text/plain": [
       "Text(0.5,0,'Number of Iterations')"
      ]
     },
     "execution_count": 18,
     "metadata": {},
     "output_type": "execute_result"
    },
    {
     "data": {
      "image/png": "[encoded data removed]",
      "text/plain": [
       "<Figure size 432x288 with 1 Axes>"
      ]
     },
     "metadata": {
      "needs_background": "light"
     },
     "output_type": "display_data"
    }
   ],
   "source": [
    "ax = pd.DataFrame(J_history).plot(title= \"Plot of Training Cost Function for Neural Network\",\n",
    "                             legend= False)\n",
    "\n",
    "ax.set_ylabel(\"Training Neural Network Cost Function\")\n",
    "ax.set_xlabel(\"Number of Iterations\")"
   ]
  },
  {
   "cell_type": "markdown",
   "metadata": {},
   "source": [
    "Excellent, there is drastic decrease in the cost function and then a clear downward slope as each iteraction of the gradient descent neural network was completed; this indicates that the model was learning with each iteration.\n",
    "\n",
    "At the end of the 3,000 iterations, the cost of the neural network was $\\le$ 0.35. Next I test the trained theta values on the validation set for comparision to the other methods used."
   ]
  },
  {
   "cell_type": "code",
   "execution_count": 19,
   "metadata": {},
   "outputs": [
    {
     "name": "stdout",
     "output_type": "stream",
     "text": [
      "Neural network's accuracy score=  80.3% \n",
      " Neural network's f1 score= 0.8181818181818182\n"
     ]
    }
   ],
   "source": [
    "x_validate = features_validate.values # Converting Pandas Data Frame into Matrix\n",
    "x_validate = np.append(np.ones([len(x_validate), 1]), x_validate, 1) # Adding bias paramter\n",
    "\n",
    "y_validate = np.matrix(target_validate) # Converting Pandas Data Frame into Matrix\n",
    "yVec_validate = y_validate.reshape((y_validate.shape[1],1)) \n",
    "\n",
    "\n",
    "def predict(Theta1, Theta2, x):\n",
    "    m = x.shape[0]\n",
    "    x = np.matrix(x)\n",
    "    \n",
    "    layer_z2 = x*Theta1.T # 5000x25, good\n",
    "    layer_a2 = sigmoid(layer_z2) # 5000x25, good\n",
    "\n",
    "    layer_a2 = np.append(np.ones([len(layer_a2), 1]), layer_a2, 1) # 5000x26, good\n",
    "\n",
    "    layer_z3 = layer_a2*Theta2.T # 5000x10\n",
    "    layer_a3 = sigmoid(layer_z3) # 5000x10\n",
    "    \n",
    "    return layer_a3\n",
    "\n",
    "\n",
    "predictions = predict(Theta1_f, Theta2_f, x_validate).round(0)\n",
    "\n",
    "print(f\"Neural network's accuracy score= {accuracy_score(yVec_validate, predictions) * 100: 0.1f}%\", \"\\n\",\n",
    "      f\"Neural network's f1 score= {f1_score(yVec_validate, predictions)}\")"
   ]
  },
  {
   "cell_type": "markdown",
   "metadata": {},
   "source": [
    "## Comparison of Models on Image Classification Task\n",
    "\n",
    "Next is to create a nice table to easily compare the performance of the difference models on the cancer image classification task."
   ]
  },
  {
   "cell_type": "markdown",
   "metadata": {},
   "source": [
    "<table>\n",
    "  <tr>\n",
    "    <th>Model Algorithm</th>\n",
    "    <th>Accuracy Score</th> \n",
    "    <th>F1 Score</th>\n",
    "  </tr>\n",
    "  <tr>\n",
    "    <td>Logistic Regression</td>\n",
    "    <td>80.3%</td>\n",
    "    <td>0.8125</td>\n",
    "  </tr>\n",
    "  <tr>\n",
    "    <td>SVM (3k iterations) with <br> C = 24.8, and <br> gamma= 'scale'</td>\n",
    "    <td>82.0%</td>\n",
    "    <td>0.8197</td>\n",
    "  </tr>\n",
    "  <tr>\n",
    "    <td>3 Layer Neural Network (3k iterations)<br> w/ sigmoid activation</td>\n",
    "    <td>80.3%</td>\n",
    "    <td>0.8182</td>\n",
    "  </tr>\n",
    "</table>"
   ]
  },
  {
   "cell_type": "markdown",
   "metadata": {},
   "source": [
    "The SVM model performed the best in terms of accuracy and F1 score. This model will be selected to be used on the final test set. The accuracy scores are not really desirable for this task given the severity of the problem, but this is a demonstration and is good enough for this purpose.\n",
    "\n",
    "Some steps that could be taken to improve performance are:\n",
    "* Increase the number of samples used\n",
    "    * The current data set had only 303 oservations which were then split into a training set (60% of observations), a validation set (20% of observations), and a test set (20% of observations). The overall sample size was small for this kind of application purpose.\n",
    "* Could increase the number of layers in the neural network to see if that increase classification performance\n",
    "* Could try different activation functions, lambda values, scaling parameters, and/or the method of normalization"
   ]
  },
  {
   "cell_type": "markdown",
   "metadata": {},
   "source": [
    "## The SVM Model on the Final Test Set"
   ]
  },
  {
   "cell_type": "code",
   "execution_count": 20,
   "metadata": {},
   "outputs": [
    {
     "name": "stdout",
     "output_type": "stream",
     "text": [
      "Using a SVM model, the accuracy achieved on the validation set was  67.2% and \n",
      "the f1 score was 0.7142857142857144.\n"
     ]
    }
   ],
   "source": [
    "clf = svm.SVC(gamma= 'scale', \n",
    "              C= 24.8, \n",
    "              kernel= 'sigmoid', \n",
    "              max_iter= 3000)\n",
    "clf.fit(features_test, target_test)\n",
    "\n",
    "SVM_accuracy = accuracy_score(target_test, clf.predict(features_test))\n",
    "SVM_f1_score = f1_score(target_test, clf.predict(features_test))\n",
    "\n",
    "print(\"Using a SVM model, the accuracy achieved on the validation set\",\n",
    "      f\"was {SVM_accuracy*100: 0.1f}% and \\nthe f1 score was {SVM_f1_score}.\")"
   ]
  },
  {
   "cell_type": "markdown",
   "metadata": {},
   "source": [
    "The selected model did not perform well on the final test set. Given the small number of observations, I would first seek to increase the sample size."
   ]
  }
 ],
 "metadata": {
  "kernelspec": {
   "display_name": "Python 3",
   "language": "python",
   "name": "python3"
  },
  "language_info": {
   "codemirror_mode": {
    "name": "ipython",
    "version": 3
   },
   "file_extension": ".py",
   "mimetype": "text/x-python",
   "name": "python",
   "nbconvert_exporter": "python",
   "pygments_lexer": "ipython3",
   "version": "3.7.0"
  }
 },
 "nbformat": 4,
 "nbformat_minor": 2
}
