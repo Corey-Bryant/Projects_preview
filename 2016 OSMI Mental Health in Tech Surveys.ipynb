{
 "cells": [
  {
   "cell_type": "markdown",
   "metadata": {},
   "source": [
    "# Mental Health in Technology Fields (OSMI Survey, 2016)\n",
    "This data set was posted on [Kaggle.com](https://www.kaggle.com/) by Open Sourcing Mental Illness, LTD under a creative commons license which can be found [here](https://creativecommons.org/licenses/by-sa/4.0/). The primary goal of the data, as stated on the [page](https://www.kaggle.com/osmi/mental-health-in-tech-2016#mental-health-in-tech-2016-neo4j-20161114.zip) which this was upload too, is to use the data to raise awareness and to improve condition for those with mental health disorders in the IT workplace.\n",
    "\n",
    "*Disclosure* I, Corey Bryant, am not affiliated with this organization. All work here within is exploratory. All analyses will be conducted using Python; I will be using a Python package that I developed, *[researchpy](https://researchpy.readthedocs.io/en/latest/)*, for parts of this analysis.\n",
    "\n",
    "**Loading the Data**"
   ]
  },
  {
   "cell_type": "code",
   "execution_count": 1,
   "metadata": {},
   "outputs": [],
   "source": [
    "import pandas as pd\n",
    "import researchpy as rp\n",
    "import numpy as np\n",
    "\n",
    "# These are for running the model and conducting model diagnostics\n",
    "import statsmodels.formula.api as smf\n",
    "import statsmodels.stats.api as sms\n",
    "from scipy import stats\n",
    "from statsmodels.compat import lzip"
   ]
  },
  {
   "cell_type": "code",
   "execution_count": 2,
   "metadata": {},
   "outputs": [
    {
     "name": "stdout",
     "output_type": "stream",
     "text": [
      "(1433, 63) \n",
      "\n",
      " Index(['Are you self-employed?',\n",
      "       'How many employees does your company or organization have?',\n",
      "       'Is your employer primarily a tech company/organization?',\n",
      "       'Is your primary role within your company related to tech/IT?',\n",
      "       'Does your employer provide mental health benefits as part of healthcare coverage?',\n",
      "       'Do you know the options for mental health care available under your employer-provided coverage?',\n",
      "       'Has your employer ever formally discussed mental health (for example, as part of a wellness campaign or other official communication)?',\n",
      "       'Does your employer offer resources to learn more about mental health concerns and options for seeking help?',\n",
      "       'Is your anonymity protected if you choose to take advantage of mental health or substance abuse treatment resources provided by your employer?',\n",
      "       'If a mental health issue prompted you to request a medical leave from work, asking for that leave would be:',\n",
      "       'Do you think that discussing a mental health disorder with your employer would have negative consequences?',\n",
      "       'Do you think that discussing a physical health issue with your employer would have negative consequences?',\n",
      "       'Would you feel comfortable discussing a mental health disorder with your coworkers?',\n",
      "       'Would you feel comfortable discussing a mental health disorder with your direct supervisor(s)?',\n",
      "       'Do you feel that your employer takes mental health as seriously as physical health?',\n",
      "       'Have you heard of or observed negative consequences for co-workers who have been open about mental health issues in your workplace?',\n",
      "       'Do you have medical coverage (private insurance or state-provided) which includes treatment of  mental health issues?',\n",
      "       'Do you know local or online resources to seek help for a mental health disorder?',\n",
      "       'If you have been diagnosed or treated for a mental health disorder, do you ever reveal this to clients or business contacts?',\n",
      "       'If you have revealed a mental health issue to a client or business contact, do you believe this has impacted you negatively?',\n",
      "       'If you have been diagnosed or treated for a mental health disorder, do you ever reveal this to coworkers or employees?',\n",
      "       'If you have revealed a mental health issue to a coworker or employee, do you believe this has impacted you negatively?',\n",
      "       'Do you believe your productivity is ever affected by a mental health issue?',\n",
      "       'If yes, what percentage of your work time (time performing primary or secondary job functions) is affected by a mental health issue?',\n",
      "       'Do you have previous employers?',\n",
      "       'Have your previous employers provided mental health benefits?',\n",
      "       'Were you aware of the options for mental health care provided by your previous employers?',\n",
      "       'Did your previous employers ever formally discuss mental health (as part of a wellness campaign or other official communication)?',\n",
      "       'Did your previous employers provide resources to learn more about mental health issues and how to seek help?',\n",
      "       'Was your anonymity protected if you chose to take advantage of mental health or substance abuse treatment resources with previous employers?',\n",
      "       'Do you think that discussing a mental health disorder with previous employers would have negative consequences?',\n",
      "       'Do you think that discussing a physical health issue with previous employers would have negative consequences?',\n",
      "       'Would you have been willing to discuss a mental health issue with your previous co-workers?',\n",
      "       'Would you have been willing to discuss a mental health issue with your direct supervisor(s)?',\n",
      "       'Did you feel that your previous employers took mental health as seriously as physical health?',\n",
      "       'Did you hear of or observe negative consequences for co-workers with mental health issues in your previous workplaces?',\n",
      "       'Would you be willing to bring up a physical health issue with a potential employer in an interview?',\n",
      "       'Why or why not?',\n",
      "       'Would you bring up a mental health issue with a potential employer in an interview?',\n",
      "       'Why or why not?.1',\n",
      "       'Do you feel that being identified as a person with a mental health issue would hurt your career?',\n",
      "       'Do you think that team members/co-workers would view you more negatively if they knew you suffered from a mental health issue?',\n",
      "       'How willing would you be to share with friends and family that you have a mental illness?',\n",
      "       'Have you observed or experienced an unsupportive or badly handled response to a mental health issue in your current or previous workplace?',\n",
      "       'Have your observations of how another individual who discussed a mental health disorder made you less likely to reveal a mental health issue yourself in your current workplace?',\n",
      "       'Do you have a family history of mental illness?',\n",
      "       'Have you had a mental health disorder in the past?',\n",
      "       'Do you currently have a mental health disorder?',\n",
      "       'If yes, what condition(s) have you been diagnosed with?',\n",
      "       'If maybe, what condition(s) do you believe you have?',\n",
      "       'Have you been diagnosed with a mental health condition by a medical professional?',\n",
      "       'If so, what condition(s) were you diagnosed with?',\n",
      "       'Have you ever sought treatment for a mental health issue from a mental health professional?',\n",
      "       'If you have a mental health issue, do you feel that it interferes with your work when being treated effectively?',\n",
      "       'If you have a mental health issue, do you feel that it interferes with your work when NOT being treated effectively?',\n",
      "       'What is your age?', 'What is your gender?',\n",
      "       'What country do you live in?',\n",
      "       'What US state or territory do you live in?',\n",
      "       'What country do you work in?',\n",
      "       'What US state or territory do you work in?',\n",
      "       'Which of the following best describes your work position?',\n",
      "       'Do you work remotely?'],\n",
      "      dtype='object')\n"
     ]
    }
   ],
   "source": [
    "df = pd.read_csv(\"C:\\\\Users\\\\CoreySSD\\\\Google Drive\\\\Python for Data Science, LLC\\\\Data sets\\\\OSMI Mental Health in Tech Survey\\\\mental-heath-in-tech-2016.csv\")\n",
    "\n",
    "print(df.shape, \"\\n\"*2, df.columns)"
   ]
  },
  {
   "cell_type": "markdown",
   "metadata": {},
   "source": [
    "There are 63 columns with a total of 1,433 observations in the data. The column titles are the wording used in the survey question - pretty long. I will shorten the variables of interests for cleanliness. Also, most of the responses are categorical, so some recoding will be required as I go along."
   ]
  },
  {
   "cell_type": "markdown",
   "metadata": {},
   "source": [
    "## Questions to be Answered\n",
    "Reminder, the only insight I have to the questions are what is displayed above. I do not know if any scales are used within the survey, and I do not know if there are skip patterns present. Skip patterns could effect some statistical tests as I may be including individuals in the N that should not be there.\n",
    "\n",
    "Since this is an exploratory analysis, I will provide some questions I know that I want to explore below, but I will also allow for data driven questions to come about and be answered as I go along. Each question will be a subsection in this document.\n",
    "\n",
    "* General descriptives of the survey sample\n",
    "    * Demographic information such as age, gender, country, number cases of mental health disorder (MHD), family history of MHD, and number of individuals working in IT field\n",
    "\n",
    "* Is there a relationship between having a MHD and family history of MHD?\n",
    "    * There should be, most mental health disorders have a genetic component.\n",
    "    \n",
    "* Are those with a MHD more likely to talk to their supervisor than those without a MHD?\n",
    "    * My hypothesis is that those with a MHD will have more reservation than those without a MHD"
   ]
  },
  {
   "cell_type": "markdown",
   "metadata": {},
   "source": [
    "### Data Wrangling\n",
    "\n",
    "#### Renaming columns"
   ]
  },
  {
   "cell_type": "code",
   "execution_count": 3,
   "metadata": {},
   "outputs": [],
   "source": [
    "df.rename(columns= {\"What is your age?\": \"Age\",\n",
    "                   \"What is your gender?\": \"Gender\",\n",
    "                   \"Do you currently have a mental health disorder?\": \"Mental health disorder (MHD)\",\n",
    "                   \"Do you have a family history of mental illness?\": \"Family history of MHD\",\n",
    "                   \"What country do you work in?\": \"Country (Work)\",\n",
    "                   \"Have you been diagnosed with a mental health condition by a medical professional?\": \"Diagnosed by medical professional\",\n",
    "                   \"Is your employer primarily a tech company/organization?\": \"Employer primarily Tech\",\n",
    "                   \"Would you feel comfortable discussing a mental health disorder with your coworkers?\": \"Comfortable talking about MHD w/co-workers\",\n",
    "                   \"Would you feel comfortable discussing a mental health disorder with your direct supervisor(s)?\": \"Comfortable talking about MHD w/supervisor(s)\",\n",
    "                   \"Do you feel that your employer takes mental health as seriously as physical health?\": \"Employer takes MHD as serious as PH\"\n",
    "                   }, inplace= True\n",
    "         )"
   ]
  },
  {
   "cell_type": "markdown",
   "metadata": {},
   "source": [
    "#### Cleaning the Data\n",
    "This data is messy - which is good because it means it was uploaded in a pretty raw form. It's just going to take some time. I thought about having a seperate file to do the data cleaning, but decided to demonstrate everything in this document."
   ]
  },
  {
   "cell_type": "markdown",
   "metadata": {},
   "source": [
    "For gender, I have decided to collapse the response options into the categories of 'Male', 'Female', 'Other'. For individuals that responded that they transitioned from a gender to another, I classified them as the gender post-transition; all other gender identifications have been placed into the 'Other' category."
   ]
  },
  {
   "cell_type": "code",
   "execution_count": 4,
   "metadata": {},
   "outputs": [],
   "source": [
    "def clean_gender(series):\n",
    "    if type(series) is str:\n",
    "        if series.upper().strip() in ['MALE', 'M', 'MAN', 'MALE (CIS)', 'MAIL', 'SEX IS MALE', 'MALR', 'MALE.', 'CIS MALE',\n",
    "                                     'MALE (TRANS, FTM)', 'M|', 'CISDUDE', 'CIS MAN', 'DUDE',\n",
    "                                     \"I'm a man why didn't you make this a drop down question. You should of asked sex? And I would of answered yes please. Seriously how much text can this take?\"]:\n",
    "            return \"Male\" \n",
    "        \n",
    "        elif series.upper().strip() in ['FEMALE', 'F', 'WOMAN', 'Transitioned, M2F', 'TRANSGENDER WOMAN',\n",
    "                                       'FEMALE ASSIGNED AT BIRTH', 'CIS-WOMAN', 'GENDERQUEER WOMAN', 'FEMALE/WOMAN',\n",
    "                                       'FM', 'CIS FEMALE', 'FEMALE (PROPS FOR MAKING THIS A FREEFORM FIELD, THOUGH)',\n",
    "                                       'I IDENTIFY AS FEMALE.', 'CISGENDER FEMALE', 'FEM', 'MTF']:\n",
    "            return \"Female\"\n",
    "        \n",
    "        else:\n",
    "            return \"Other\"\n",
    "    \n",
    "    else:\n",
    "        return series\n",
    "    \n",
    "df['Gender'] = df['Gender'].apply(clean_gender)"
   ]
  },
  {
   "cell_type": "code",
   "execution_count": 5,
   "metadata": {},
   "outputs": [],
   "source": [
    "def clean_country(series):\n",
    "    if type(series) is str:\n",
    "        if series.upper().strip() == 'UNITED STATES OF AMERICA':\n",
    "            return 'USA'\n",
    "        else:\n",
    "            return 'Rest of the world'\n",
    "\n",
    "df['Country (Inhabit)'] = df['What country do you live in?'].apply(clean_country)"
   ]
  },
  {
   "cell_type": "markdown",
   "metadata": {},
   "source": [
    "## Descriptive Statistics of the Survey Population"
   ]
  },
  {
   "cell_type": "code",
   "execution_count": 6,
   "metadata": {},
   "outputs": [
    {
     "name": "stdout",
     "output_type": "stream",
     "text": [
      "count    1433.000000\n",
      "mean       34.286113\n",
      "std        11.290931\n",
      "min         3.000000\n",
      "25%        28.000000\n",
      "50%        33.000000\n",
      "75%        39.000000\n",
      "max       323.000000\n",
      "Name: Age, dtype: float64 \n",
      "\n",
      " Let's check for ages that could be considered as odd \n",
      "\n",
      " 372     99\n",
      "564    323\n",
      "Name: Age, dtype: int64\n"
     ]
    }
   ],
   "source": [
    "df['Age'].describe()\n",
    "\n",
    "print(df['Age'].describe(), \"\\n\"*2,\n",
    "      \"Let's check for ages that could be considered as odd\", \"\\n\"*2, df['Age'][df['Age'] >= 80])"
   ]
  },
  {
   "cell_type": "markdown",
   "metadata": {},
   "source": [
    "Well, there clearly are some incorrectly entered responses in this field - unless someone is a baby genius and the other has found the tree of life. I'm going to limit the analyses to individuals who are 19-80."
   ]
  },
  {
   "cell_type": "code",
   "execution_count": 7,
   "metadata": {},
   "outputs": [
    {
     "data": {
      "text/plain": [
       "count    1428.000000\n",
       "mean       34.086134\n",
       "std         8.086273\n",
       "min        19.000000\n",
       "25%        28.000000\n",
       "50%        33.000000\n",
       "75%        39.000000\n",
       "max        74.000000\n",
       "Name: Age, dtype: float64"
      ]
     },
     "execution_count": 7,
     "metadata": {},
     "output_type": "execute_result"
    }
   ],
   "source": [
    "df = df[(df['Age'] >= 19) & (df['Age'] <= 80)]\n",
    "\n",
    "df['Age'].describe()"
   ]
  },
  {
   "cell_type": "code",
   "execution_count": 8,
   "metadata": {},
   "outputs": [
    {
     "data": {
      "text/html": [
       "<div>\n",
       "<style scoped>\n",
       "    .dataframe tbody tr th:only-of-type {\n",
       "        vertical-align: middle;\n",
       "    }\n",
       "\n",
       "    .dataframe tbody tr th {\n",
       "        vertical-align: top;\n",
       "    }\n",
       "\n",
       "    .dataframe thead th {\n",
       "        text-align: right;\n",
       "    }\n",
       "</style>\n",
       "<table border=\"1\" class=\"dataframe\">\n",
       "  <thead>\n",
       "    <tr style=\"text-align: right;\">\n",
       "      <th></th>\n",
       "      <th>Variable</th>\n",
       "      <th>Outcome</th>\n",
       "      <th>Count</th>\n",
       "      <th>Percent</th>\n",
       "    </tr>\n",
       "  </thead>\n",
       "  <tbody>\n",
       "    <tr>\n",
       "      <th>0</th>\n",
       "      <td>Gender</td>\n",
       "      <td>Male</td>\n",
       "      <td>1053</td>\n",
       "      <td>73.89</td>\n",
       "    </tr>\n",
       "    <tr>\n",
       "      <th>1</th>\n",
       "      <td></td>\n",
       "      <td>Female</td>\n",
       "      <td>341</td>\n",
       "      <td>23.93</td>\n",
       "    </tr>\n",
       "    <tr>\n",
       "      <th>2</th>\n",
       "      <td></td>\n",
       "      <td>Other</td>\n",
       "      <td>31</td>\n",
       "      <td>2.18</td>\n",
       "    </tr>\n",
       "    <tr>\n",
       "      <th>3</th>\n",
       "      <td>Mental health disorder (MHD)</td>\n",
       "      <td>Yes</td>\n",
       "      <td>574</td>\n",
       "      <td>40.20</td>\n",
       "    </tr>\n",
       "    <tr>\n",
       "      <th>4</th>\n",
       "      <td></td>\n",
       "      <td>No</td>\n",
       "      <td>528</td>\n",
       "      <td>36.97</td>\n",
       "    </tr>\n",
       "    <tr>\n",
       "      <th>5</th>\n",
       "      <td></td>\n",
       "      <td>Maybe</td>\n",
       "      <td>326</td>\n",
       "      <td>22.83</td>\n",
       "    </tr>\n",
       "    <tr>\n",
       "      <th>6</th>\n",
       "      <td>Family history of MHD</td>\n",
       "      <td>Yes</td>\n",
       "      <td>668</td>\n",
       "      <td>46.78</td>\n",
       "    </tr>\n",
       "    <tr>\n",
       "      <th>7</th>\n",
       "      <td></td>\n",
       "      <td>No</td>\n",
       "      <td>486</td>\n",
       "      <td>34.03</td>\n",
       "    </tr>\n",
       "    <tr>\n",
       "      <th>8</th>\n",
       "      <td></td>\n",
       "      <td>I don't know</td>\n",
       "      <td>274</td>\n",
       "      <td>19.19</td>\n",
       "    </tr>\n",
       "    <tr>\n",
       "      <th>9</th>\n",
       "      <td>Country (Inhabit)</td>\n",
       "      <td>USA</td>\n",
       "      <td>838</td>\n",
       "      <td>58.68</td>\n",
       "    </tr>\n",
       "    <tr>\n",
       "      <th>10</th>\n",
       "      <td></td>\n",
       "      <td>Rest of the world</td>\n",
       "      <td>590</td>\n",
       "      <td>41.32</td>\n",
       "    </tr>\n",
       "    <tr>\n",
       "      <th>11</th>\n",
       "      <td>Employer primarily Tech</td>\n",
       "      <td>1</td>\n",
       "      <td>879</td>\n",
       "      <td>76.97</td>\n",
       "    </tr>\n",
       "    <tr>\n",
       "      <th>12</th>\n",
       "      <td></td>\n",
       "      <td>0</td>\n",
       "      <td>263</td>\n",
       "      <td>23.03</td>\n",
       "    </tr>\n",
       "    <tr>\n",
       "      <th>13</th>\n",
       "      <td>Comfortable talking about MHD w/co-workers</td>\n",
       "      <td>Maybe</td>\n",
       "      <td>477</td>\n",
       "      <td>41.77</td>\n",
       "    </tr>\n",
       "    <tr>\n",
       "      <th>14</th>\n",
       "      <td></td>\n",
       "      <td>No</td>\n",
       "      <td>391</td>\n",
       "      <td>34.24</td>\n",
       "    </tr>\n",
       "    <tr>\n",
       "      <th>15</th>\n",
       "      <td></td>\n",
       "      <td>Yes</td>\n",
       "      <td>274</td>\n",
       "      <td>23.99</td>\n",
       "    </tr>\n",
       "    <tr>\n",
       "      <th>16</th>\n",
       "      <td>Comfortable talking about MHD w/supervisor(s)</td>\n",
       "      <td>Yes</td>\n",
       "      <td>425</td>\n",
       "      <td>37.22</td>\n",
       "    </tr>\n",
       "    <tr>\n",
       "      <th>17</th>\n",
       "      <td></td>\n",
       "      <td>Maybe</td>\n",
       "      <td>381</td>\n",
       "      <td>33.36</td>\n",
       "    </tr>\n",
       "    <tr>\n",
       "      <th>18</th>\n",
       "      <td></td>\n",
       "      <td>No</td>\n",
       "      <td>336</td>\n",
       "      <td>29.42</td>\n",
       "    </tr>\n",
       "    <tr>\n",
       "      <th>19</th>\n",
       "      <td>Employer takes MHD as serious as PH</td>\n",
       "      <td>I don't know</td>\n",
       "      <td>491</td>\n",
       "      <td>42.99</td>\n",
       "    </tr>\n",
       "    <tr>\n",
       "      <th>20</th>\n",
       "      <td></td>\n",
       "      <td>Yes</td>\n",
       "      <td>349</td>\n",
       "      <td>30.56</td>\n",
       "    </tr>\n",
       "    <tr>\n",
       "      <th>21</th>\n",
       "      <td></td>\n",
       "      <td>No</td>\n",
       "      <td>302</td>\n",
       "      <td>26.44</td>\n",
       "    </tr>\n",
       "  </tbody>\n",
       "</table>\n",
       "</div>"
      ],
      "text/plain": [
       "                                         Variable            Outcome  Count  \\\n",
       "0                                          Gender               Male   1053   \n",
       "1                                                             Female    341   \n",
       "2                                                              Other     31   \n",
       "3                    Mental health disorder (MHD)                Yes    574   \n",
       "4                                                                 No    528   \n",
       "5                                                              Maybe    326   \n",
       "6                           Family history of MHD                Yes    668   \n",
       "7                                                                 No    486   \n",
       "8                                                       I don't know    274   \n",
       "9                               Country (Inhabit)                USA    838   \n",
       "10                                                 Rest of the world    590   \n",
       "11                        Employer primarily Tech                  1    879   \n",
       "12                                                                 0    263   \n",
       "13     Comfortable talking about MHD w/co-workers              Maybe    477   \n",
       "14                                                                No    391   \n",
       "15                                                               Yes    274   \n",
       "16  Comfortable talking about MHD w/supervisor(s)                Yes    425   \n",
       "17                                                             Maybe    381   \n",
       "18                                                                No    336   \n",
       "19            Employer takes MHD as serious as PH       I don't know    491   \n",
       "20                                                               Yes    349   \n",
       "21                                                                No    302   \n",
       "\n",
       "    Percent  \n",
       "0     73.89  \n",
       "1     23.93  \n",
       "2      2.18  \n",
       "3     40.20  \n",
       "4     36.97  \n",
       "5     22.83  \n",
       "6     46.78  \n",
       "7     34.03  \n",
       "8     19.19  \n",
       "9     58.68  \n",
       "10    41.32  \n",
       "11    76.97  \n",
       "12    23.03  \n",
       "13    41.77  \n",
       "14    34.24  \n",
       "15    23.99  \n",
       "16    37.22  \n",
       "17    33.36  \n",
       "18    29.42  \n",
       "19    42.99  \n",
       "20    30.56  \n",
       "21    26.44  "
      ]
     },
     "execution_count": 8,
     "metadata": {},
     "output_type": "execute_result"
    }
   ],
   "source": [
    "rp.summary_cat(df[['Gender', 'Mental health disorder (MHD)', 'Family history of MHD', \n",
    "                   'Country (Inhabit)', 'Employer primarily Tech', \n",
    "                   'Comfortable talking about MHD w/co-workers',\n",
    "                   'Comfortable talking about MHD w/supervisor(s)',\n",
    "                  'Employer takes MHD as serious as PH']])"
   ]
  },
  {
   "cell_type": "markdown",
   "metadata": {},
   "source": [
    "### Summary of Descriptive Statistics\n",
    "\n",
    "The majority of the sample is male, 73.89%, and lives in the United States of America, 58.68%. There are slightly higher more individuals who reported having a MHD compared to those that did not report having an MHD, (40.20% vs. 36.97% respectively) and slightly over a fifth of respondents stated they might have a MHD, 22.83%. Just under half, 46.78%, of the respondents reported having a family history of MHD with about a third, 34.03%, reporting no family history of MHD. I'm going to assume that a value of \"1\" indicates \"Yes\" and a value of \"0\" indicates \"No\". With that, about three-quarters, 76.97%, of the respondents work at a company that is primarily in the technology field.\n",
    "\n",
    "**MHD within the Workplace** <br>\n",
    "Majority of the respondents feel that they don't know if their employer takes mental health as serious as physical health, 42.99%, with a little under a third feels that their employer does take mental health as serious as physical health. 37.22% feel comfortable with talking about MHD with their direct supervisor(s) and 23.99% feel comfortable with talking about it with co-workers."
   ]
  },
  {
   "cell_type": "markdown",
   "metadata": {},
   "source": [
    "## Relationship between MHD and Family History of MHD\n",
    "\n",
    "Before the test for a relationship between self-reported cases of having a MHD and family history of MHD, I want to check the proportion of those that self-reported having a MHD and have been diagnosed by a medical professional."
   ]
  },
  {
   "cell_type": "code",
   "execution_count": 9,
   "metadata": {},
   "outputs": [
    {
     "data": {
      "text/html": [
       "<div>\n",
       "<style scoped>\n",
       "    .dataframe tbody tr th:only-of-type {\n",
       "        vertical-align: middle;\n",
       "    }\n",
       "\n",
       "    .dataframe tbody tr th {\n",
       "        vertical-align: top;\n",
       "    }\n",
       "\n",
       "    .dataframe thead tr th {\n",
       "        text-align: left;\n",
       "    }\n",
       "\n",
       "    .dataframe thead tr:last-of-type th {\n",
       "        text-align: right;\n",
       "    }\n",
       "</style>\n",
       "<table border=\"1\" class=\"dataframe\">\n",
       "  <thead>\n",
       "    <tr>\n",
       "      <th></th>\n",
       "      <th colspan=\"4\" halign=\"left\">Mental health disorder (MHD)</th>\n",
       "    </tr>\n",
       "    <tr>\n",
       "      <th></th>\n",
       "      <th>Maybe</th>\n",
       "      <th>No</th>\n",
       "      <th>Yes</th>\n",
       "      <th>All</th>\n",
       "    </tr>\n",
       "    <tr>\n",
       "      <th>Diagnosed by medical professional</th>\n",
       "      <th></th>\n",
       "      <th></th>\n",
       "      <th></th>\n",
       "      <th></th>\n",
       "    </tr>\n",
       "  </thead>\n",
       "  <tbody>\n",
       "    <tr>\n",
       "      <th>No</th>\n",
       "      <td>28.43</td>\n",
       "      <td>62.61</td>\n",
       "      <td>8.96</td>\n",
       "      <td>100.0</td>\n",
       "    </tr>\n",
       "    <tr>\n",
       "      <th>Yes</th>\n",
       "      <td>17.23</td>\n",
       "      <td>11.34</td>\n",
       "      <td>71.43</td>\n",
       "      <td>100.0</td>\n",
       "    </tr>\n",
       "    <tr>\n",
       "      <th>All</th>\n",
       "      <td>22.83</td>\n",
       "      <td>36.97</td>\n",
       "      <td>40.20</td>\n",
       "      <td>100.0</td>\n",
       "    </tr>\n",
       "  </tbody>\n",
       "</table>\n",
       "</div>"
      ],
      "text/plain": [
       "                                  Mental health disorder (MHD)                \\\n",
       "                                                         Maybe     No    Yes   \n",
       "Diagnosed by medical professional                                              \n",
       "No                                                       28.43  62.61   8.96   \n",
       "Yes                                                      17.23  11.34  71.43   \n",
       "All                                                      22.83  36.97  40.20   \n",
       "\n",
       "                                          \n",
       "                                     All  \n",
       "Diagnosed by medical professional         \n",
       "No                                 100.0  \n",
       "Yes                                100.0  \n",
       "All                                100.0  "
      ]
     },
     "execution_count": 9,
     "metadata": {},
     "output_type": "execute_result"
    }
   ],
   "source": [
    "rp.crosstab(df['Diagnosed by medical professional'], \n",
    "            df['Mental health disorder (MHD)'], prop= 'row')"
   ]
  },
  {
   "cell_type": "markdown",
   "metadata": {},
   "source": [
    "Interestingly, 17.23% of those that have been diagnosed by a medical professional self-reported they might have a MHD and 8.96% of those that stated they have a MHD has not been diagnosed by a medical professional.\n",
    "\n",
    "I'm going use the self-reported measure of having a MHD and limit the relationship test between those who did not respond with \"Maybe\" and \"I don't know\"."
   ]
  },
  {
   "cell_type": "code",
   "execution_count": 10,
   "metadata": {},
   "outputs": [
    {
     "name": "stdout",
     "output_type": "stream",
     "text": [
      "                      Mental health disorder (MHD)               \n",
      "                                                No    Yes     All\n",
      "Family history of MHD                                            \n",
      "No                                           32.58  10.11   42.69\n",
      "Yes                                          15.59  41.72   57.31\n",
      "All                                          48.17  51.83  100.00 \n",
      "\n",
      "                 Chi-square test   results\n",
      "0  Pearson Chi-square ( 1.0) =   219.8647\n",
      "1                    p-value =     0.0000\n",
      "2               Cramer's phi =     0.4862\n"
     ]
    }
   ],
   "source": [
    "crosstab, results = rp.crosstab(df['Family history of MHD'][df['Family history of MHD'] != \"I don't know\"], \n",
    "            df['Mental health disorder (MHD)'][df['Mental health disorder (MHD)'] != 'Maybe'], \n",
    "            test= 'chi-square', prop= 'cell')\n",
    "\n",
    "print(crosstab, \"\\n\"*2, results)"
   ]
  },
  {
   "cell_type": "markdown",
   "metadata": {},
   "source": [
    "As expected, there is a strong relationship present between currently having a mental health disorder and having a family history of a mental health disorder, $\\chi^2$(1) = 219.8647, p< 0.0001, $\\phi$= 0.4862; 41.72% of the respondents who have a MHD have a family history of MHD."
   ]
  },
  {
   "cell_type": "markdown",
   "metadata": {},
   "source": [
    "## Work taking Mental Health as Serious as Physical Health\n",
    "\n",
    "Again, I will be limiting these analysis to those that did not respond with \"Maybe\" to having a MHD."
   ]
  },
  {
   "cell_type": "code",
   "execution_count": 11,
   "metadata": {},
   "outputs": [
    {
     "name": "stdout",
     "output_type": "stream",
     "text": [
      "                                    Mental health disorder (MHD)              \n",
      "                                                              No    Yes    All\n",
      "Employer takes MHD as serious as PH                                           \n",
      "DK                                                          45.6   38.2   41.8\n",
      "No                                                          18.7   32.9   25.9\n",
      "Yes                                                         35.8   28.9   32.3\n",
      "All                                                        100.0  100.0  100.0 \n",
      "\n",
      "                 Chi-square test  results\n",
      "0  Pearson Chi-square ( 2.0) =   23.4542\n",
      "1                    p-value =    0.0000\n",
      "2                 Cramer's V =    0.1624\n"
     ]
    }
   ],
   "source": [
    "df['Employer takes MHD as serious as PH'].replace(\"I don't know\", \"DK\", inplace= True)\n",
    "\n",
    "crosstab, results = rp.crosstab(df['Employer takes MHD as serious as PH'], \n",
    "                                df['Mental health disorder (MHD)'][df['Mental health disorder (MHD)'] != 'Maybe'],\n",
    "                                test= 'chi-square', prop= 'col')\n",
    "\n",
    "print(crosstab.round(1), \"\\n\"*2, results)"
   ]
  },
  {
   "cell_type": "markdown",
   "metadata": {},
   "source": [
    "There is a relationship between having a MHD and feeling that their employer takes mental health as serious as physical health, $\\chi^2$(2)= 23.4542, p< 0.001, V= 0.1624. Since this is a 3x2 table, a post-hoc analysis will need to be conducted to further explore this. I'm interested in those that either state 'Yes' or 'No' to feeling like their employer takes mental health as serious as physical health."
   ]
  },
  {
   "cell_type": "code",
   "execution_count": 12,
   "metadata": {},
   "outputs": [
    {
     "name": "stdout",
     "output_type": "stream",
     "text": [
      "                                    Mental health disorder (MHD)              \n",
      "                                                              No    Yes    All\n",
      "Employer takes MHD as serious as PH                                           \n",
      "No                                                          34.3   53.2   44.5\n",
      "Yes                                                         65.7   46.8   55.5\n",
      "All                                                        100.0  100.0  100.0 \n",
      "\n",
      "                 Chi-square test  results\n",
      "0  Pearson Chi-square ( 1.0) =   18.6433\n",
      "1                    p-value =    0.0000\n",
      "2               Cramer's phi =    0.1899\n"
     ]
    }
   ],
   "source": [
    "crosstab, results = rp.crosstab(df['Employer takes MHD as serious as PH'][df['Employer takes MHD as serious as PH'] != \"DK\"], \n",
    "                                df['Mental health disorder (MHD)'][df['Mental health disorder (MHD)'] != 'Maybe'],\n",
    "                                test= 'chi-square', prop= 'col')\n",
    "\n",
    "print(crosstab.round(1), \"\\n\"*2, results)"
   ]
  },
  {
   "cell_type": "code",
   "execution_count": 13,
   "metadata": {},
   "outputs": [
    {
     "data": {
      "text/html": [
       "<div>\n",
       "<style scoped>\n",
       "    .dataframe tbody tr th:only-of-type {\n",
       "        vertical-align: middle;\n",
       "    }\n",
       "\n",
       "    .dataframe tbody tr th {\n",
       "        vertical-align: top;\n",
       "    }\n",
       "\n",
       "    .dataframe thead tr th {\n",
       "        text-align: left;\n",
       "    }\n",
       "\n",
       "    .dataframe thead tr:last-of-type th {\n",
       "        text-align: right;\n",
       "    }\n",
       "</style>\n",
       "<table border=\"1\" class=\"dataframe\">\n",
       "  <thead>\n",
       "    <tr>\n",
       "      <th></th>\n",
       "      <th colspan=\"3\" halign=\"left\">Mental health disorder (MHD)</th>\n",
       "    </tr>\n",
       "    <tr>\n",
       "      <th></th>\n",
       "      <th>No</th>\n",
       "      <th>Yes</th>\n",
       "      <th>All</th>\n",
       "    </tr>\n",
       "    <tr>\n",
       "      <th>Employer takes MHD as serious as PH</th>\n",
       "      <th></th>\n",
       "      <th></th>\n",
       "      <th></th>\n",
       "    </tr>\n",
       "  </thead>\n",
       "  <tbody>\n",
       "    <tr>\n",
       "      <th>No</th>\n",
       "      <td>82</td>\n",
       "      <td>148</td>\n",
       "      <td>230</td>\n",
       "    </tr>\n",
       "    <tr>\n",
       "      <th>Yes</th>\n",
       "      <td>157</td>\n",
       "      <td>130</td>\n",
       "      <td>287</td>\n",
       "    </tr>\n",
       "    <tr>\n",
       "      <th>All</th>\n",
       "      <td>239</td>\n",
       "      <td>278</td>\n",
       "      <td>517</td>\n",
       "    </tr>\n",
       "  </tbody>\n",
       "</table>\n",
       "</div>"
      ],
      "text/plain": [
       "                                    Mental health disorder (MHD)          \n",
       "                                                              No  Yes  All\n",
       "Employer takes MHD as serious as PH                                       \n",
       "No                                                            82  148  230\n",
       "Yes                                                          157  130  287\n",
       "All                                                          239  278  517"
      ]
     },
     "execution_count": 13,
     "metadata": {},
     "output_type": "execute_result"
    }
   ],
   "source": [
    "rp.crosstab(df['Employer takes MHD as serious as PH'][df['Employer takes MHD as serious as PH'] != \"DK\"], \n",
    "                                df['Mental health disorder (MHD)'][df['Mental health disorder (MHD)'] != 'Maybe'])"
   ]
  },
  {
   "cell_type": "code",
   "execution_count": 14,
   "metadata": {},
   "outputs": [
    {
     "name": "stdout",
     "output_type": "stream",
     "text": [
      "Odds ratio=  0.46\n"
     ]
    }
   ],
   "source": [
    "print(f\"Odds ratio= {(130 * 82) / (157 * 148): .2f}\")"
   ]
  },
  {
   "cell_type": "markdown",
   "metadata": {},
   "source": [
    "As with before, the relationship exists, $\\chi^2$(1)= 18.6433, p< 0.0001, $\\phi$= 0.1899; compared to those without a MHD, those with a MHD are less likely to feel that their employer takes mental health as serious as physical health, OR= 0.46."
   ]
  },
  {
   "cell_type": "markdown",
   "metadata": {},
   "source": [
    "## Comfort in Discussing Mental Health Disorder at place of Employment\n",
    "\n",
    "### Talking with Co-workers"
   ]
  },
  {
   "cell_type": "code",
   "execution_count": 85,
   "metadata": {},
   "outputs": [
    {
     "name": "stdout",
     "output_type": "stream",
     "text": [
      "                                  Mental health disorder (MHD)              \n",
      "                                                            No    Yes    All\n",
      "Comfortable talking to co-workers                                           \n",
      "No                                                        52.9   57.5   55.2\n",
      "Yes                                                       47.1   42.5   44.8\n",
      "All                                                      100.0  100.0  100.0 \n",
      "\n",
      "                 Chi-square test  results\n",
      "0  Pearson Chi-square ( 1.0) =    1.1343\n",
      "1                    p-value =    0.2869\n",
      "2               Cramer's phi =    0.0465\n"
     ]
    }
   ],
   "source": [
    "df['Comfortable talking to co-workers'] = df['Comfortable talking about MHD w/co-workers']\n",
    "\n",
    "crosstab, results = rp.crosstab(df['Comfortable talking to co-workers'][df['Comfortable talking to co-workers'] != 'Maybe'],\n",
    "                                df['Mental health disorder (MHD)'][df['Mental health disorder (MHD)'] != 'Maybe'],\n",
    "                                test= 'chi-square', prop= 'col')\n",
    "\n",
    "print(crosstab.round(1), \"\\n\"*2, results)"
   ]
  },
  {
   "cell_type": "markdown",
   "metadata": {},
   "source": [
    "No relationship is present between having a MHD and feeling comfortable enough to talk to co-workers about it, $\\chi^2$(1)= 1.1343, p= 0.2869."
   ]
  },
  {
   "cell_type": "markdown",
   "metadata": {},
   "source": [
    "### Talking with Supervisor"
   ]
  },
  {
   "cell_type": "code",
   "execution_count": 87,
   "metadata": {},
   "outputs": [
    {
     "name": "stdout",
     "output_type": "stream",
     "text": [
      "                                  Mental health disorder (MHD)              \n",
      "                                                            No    Yes    All\n",
      "Comfortable talking to supervisor                                           \n",
      "No                                                        38.9   46.0   42.6\n",
      "Yes                                                       61.1   54.0   57.4\n",
      "All                                                      100.0  100.0  100.0 \n",
      "\n",
      "                 Chi-square test  results\n",
      "0  Pearson Chi-square ( 1.0) =    3.0874\n",
      "1                    p-value =    0.0789\n",
      "2               Cramer's phi =    0.0715\n"
     ]
    }
   ],
   "source": [
    "df['Comfortable talking to supervisor'] = df['Comfortable talking about MHD w/supervisor(s)']\n",
    "\n",
    "crosstab, results = rp.crosstab(df['Comfortable talking to supervisor'][df['Comfortable talking to supervisor'] != 'Maybe'],\n",
    "                                df['Mental health disorder (MHD)'][df['Mental health disorder (MHD)'] != 'Maybe'],\n",
    "                                test= 'chi-square', prop= 'col')\n",
    "\n",
    "print(crosstab.round(1), \"\\n\"*2, results)"
   ]
  },
  {
   "cell_type": "markdown",
   "metadata": {},
   "source": [
    "No statistically significant relationship is present between having a MHD and feeling comfortable enough to talk to a supervisor about it, $\\chi^2$(1)= 3.0874, p= 0.0789. Since there appears to be some relationship present, I want to explore this further in a multivariate model.\n",
    "\n",
    "Due to the requirements of variable names using patsy, I have to make the variable names have no spaces. During this time, I will also be removing \"Don't know\", \"Other\", and \"Maybe\" responses from co-variates in my model."
   ]
  },
  {
   "cell_type": "code",
   "execution_count": 142,
   "metadata": {},
   "outputs": [
    {
     "name": "stdout",
     "output_type": "stream",
     "text": [
      "Optimization terminated successfully.\n",
      "         Current function value: 0.441062\n",
      "         Iterations 6\n",
      "\n",
      " Number of observations= 259 \n",
      " F( 11, 247) \n",
      " Log-likelihood p-value =  0.0000 \n",
      " Pseudo R-squared=  0.3118 \n",
      "\n",
      "\n",
      "                                     OR  p-value      2.5%      97.5%\n",
      "Intercept                       0.4034   0.4582  0.036662   4.439455\n",
      "C(MHD)[T.Yes]                   0.8492   0.6458  0.422892   1.705223\n",
      "C(MH_PH)[T.Yes]                18.3860   0.0000  8.855960  38.171411\n",
      "C(Emp_in_tech)[T.1.0]           1.1018   0.8203  0.477364   2.542991\n",
      "C(Gender2)[T.Male]              1.1834   0.6742  0.539686   2.595103\n",
      "C(Emp_size)[T.100-500]          1.1181   0.9072  0.171205   7.301672\n",
      "C(Emp_size)[T.26-100]           0.6233   0.6059  0.103478   3.755012\n",
      "C(Emp_size)[T.500-1000]         0.3780   0.3800  0.043083   3.316590\n",
      "C(Emp_size)[T.6-25]             0.4320   0.3674  0.069623   2.679937\n",
      "C(Emp_size)[T.More than 1000]   0.3732   0.2834  0.061634   2.259862\n",
      "C(Emp_MH_benefits)[T.Yes]       1.3458   0.4671  0.604451   2.996437\n",
      "Age                             1.0155   0.4412  0.976530   1.056014\n"
     ]
    }
   ],
   "source": [
    "df['MH_PH'] = df['Employer takes MHD as serious as PH'].replace({\"DK\": np.nan})\n",
    "df['MHD'] = df['Mental health disorder (MHD)'].replace({\"Maybe\": np.nan})\n",
    "df['Emp_in_tech'] = df['Employer primarily Tech']\n",
    "df['Emp_size'] = df['How many employees does your company or organization have?']\n",
    "df['Emp_MH_benefits'] = df['Does your employer provide mental health benefits as part of healthcare coverage?'].replace({\"I don't know\": np.nan,\n",
    "                                                                                                                        \"Not eligible for coverage / N/A\": np.nan})\n",
    "df['Talk_to_sup'] = df['Comfortable talking about MHD w/supervisor(s)'].replace({\"Yes\": 1, \"No\": 0, \"Maybe\": np.nan})\n",
    "df['Talk_to_coworkers'] = df['Comfortable talking about MHD w/co-workers'].replace({\"Maybe\": np.nan})\n",
    "df['Gender2'] = df[\"Gender\"].replace('Other', np.nan) # Dropping group due to low sample size\n",
    "\n",
    "model = smf.logit('Talk_to_sup ~ C(MHD) + C(MH_PH) + C(Emp_in_tech) + C(Gender2) + Age + C(Emp_size) + C(Emp_MH_benefits)', data= df).fit(maxiter= 3000)\n",
    "\n",
    "\n",
    "# Coefficients in logistic regression models are not that intuitive to interprete. I will convert them to odds ratios so it will be easier.\n",
    "model_odds = pd.DataFrame(np.exp(model.params), columns= ['OR']) # Converting coef. to odds ratios for easier interpretation\n",
    "model_odds['OR'] = model_odds['OR'].round(4)\n",
    "model_odds['p-value']= model.pvalues\n",
    "model_odds['p-value'] = model_odds['p-value'].round(4)\n",
    "model_odds[['2.5%', '97.5%']] = np.exp(model.conf_int())\n",
    "\n",
    "print(\"\\n\", f\"Number of observations= {model.nobs}\", \"\\n\",\n",
    "      f\"F({model.df_model: .0f},{model.df_resid: .0f})\", \"\\n\",\n",
    "      f\"Log-likelihood p-value = {model.llr_pvalue: .4f}\", \"\\n\",\n",
    "      f\"Pseudo R-squared= {model.prsquared: .4f}\", \"\\n\"*3, \n",
    "     model_odds)"
   ]
  },
  {
   "cell_type": "markdown",
   "metadata": {},
   "source": [
    "The current model accounts for approximately 31.18% of the variance associated with feeling comfortable enough to talk to the direct supervisor(s) about a mental health disorder. The only significant predictor is feeling that the employer takes mental health as serious as physical health, aOR= 18.39 (8.9, 38.17), p< 0.0001.\n",
    "\n",
    "I did some exploration with this variable earlier, but given this result, I want to explore it further. However for now, I am taking a break from this data and am going to eat some delicious gallahba."
   ]
  },
  {
   "cell_type": "markdown",
   "metadata": {},
   "source": [
    "## What makes Exmployees feel that Work takes Mental Health as Serious as Physical Health\n",
    "\n",
    "Again, I will be limiting these analysis to those that did not respond with \"Maybe\" to having a MHD."
   ]
  }
 ],
 "metadata": {
  "kernelspec": {
   "display_name": "Python 3",
   "language": "python",
   "name": "python3"
  },
  "language_info": {
   "codemirror_mode": {
    "name": "ipython",
    "version": 3
   },
   "file_extension": ".py",
   "mimetype": "text/x-python",
   "name": "python",
   "nbconvert_exporter": "python",
   "pygments_lexer": "ipython3",
   "version": "3.7.2"
  }
 },
 "nbformat": 4,
 "nbformat_minor": 2
}
