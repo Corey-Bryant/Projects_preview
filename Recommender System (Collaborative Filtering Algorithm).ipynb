{
 "cells": [
  {
   "cell_type": "markdown",
   "metadata": {},
   "source": [
    "# Purpose\n",
    "\n",
    "This is a demonstration of building a recommender system for movies based on ratings. Now to load the example data and the needed libraries."
   ]
  },
  {
   "cell_type": "code",
   "execution_count": 1,
   "metadata": {},
   "outputs": [],
   "source": [
    "import pandas as pd\n",
    "import numpy as np\n",
    "from scipy.io import loadmat\n",
    "\n",
    "import matplotlib.pyplot as plt\n",
    "%matplotlib inline\n",
    "\n",
    "\n",
    "moviesRates = loadmat(\"C:\\\\Users\\\\CoreySSD\\\\Downloads\\\\ex8_movies.mat\") # Ratings of each of the movies\n",
    "moviesFets = loadmat(\"C:\\\\Users\\\\CoreySSD\\\\Downloads\\\\ex8_movieParams.mat\") # Features of the movies\n",
    "movieList = open(\"C:\\\\Users\\\\CoreySSD\\\\Downloads\\\\movie_ids.txt\",\"r\").read().split(\"\\n\")[:-1] # Movie titles\n",
    "\n",
    "Y = moviesRates[\"Y\"] # 1682 X 943 matrix, containing ratings (1-5) of 1,682 movies from 943 users\n",
    "R = moviesRates[\"R\"] # 1682 X 943 matrix, where R(i,j) = 1 if and only if user j give rating to movie i\n",
    "\n",
    "X = moviesFets[\"X\"] # 1682 X 10 matrix , num_movies X num_features matrix of movie features\n",
    "Theta = moviesFets[\"Theta\"] # 943 X 10 matrix, num_users X num_features matrix of user features"
   ]
  },
  {
   "cell_type": "markdown",
   "metadata": {},
   "source": [
    "Let's just take a quick look at some of the movies that are in the data."
   ]
  },
  {
   "cell_type": "code",
   "execution_count": 2,
   "metadata": {},
   "outputs": [
    {
     "name": "stdout",
     "output_type": "stream",
     "text": [
      "['1 Toy Story (1995)', '2 GoldenEye (1995)', '3 Four Rooms (1995)', '4 Get Shorty (1995)', '5 Copycat (1995)']\n"
     ]
    }
   ],
   "source": [
    "print(movieList[:5])"
   ]
  },
  {
   "cell_type": "markdown",
   "metadata": {},
   "source": [
    "Ignore the value in front of the movie title, this will be handled later on. Now there is nothing really to do but to start programming the cost function and gradient."
   ]
  },
  {
   "cell_type": "code",
   "execution_count": 3,
   "metadata": {},
   "outputs": [],
   "source": [
    "def  cofiCostFunc(params, Y, R, num_users, num_movies, num_features, Lambda):\n",
    "    \"\"\"\n",
    "    Returns the cost and gradient for the collaborative filtering problem\n",
    "    \"\"\"\n",
    "    \n",
    "    # Unfold the params\n",
    "    X = params[:num_movies*num_features].reshape(num_movies,num_features)\n",
    "    Theta = params[num_movies*num_features:].reshape(num_users,num_features)\n",
    "    \n",
    "    predictions =  X @ Theta.T\n",
    "    err = (predictions - Y)\n",
    "    J = 1/2 * np.sum((err**2) * R)\n",
    "    \n",
    "    # Computing the regularized cost function\n",
    "    reg_X =  Lambda/2 * np.sum(Theta**2)\n",
    "    reg_Theta = Lambda/2 *np.sum(X**2)\n",
    "    reg_J = J + reg_X + reg_Theta\n",
    "    \n",
    "    # Computing the gradient\n",
    "    X_grad = err * R @ Theta\n",
    "    Theta_grad = (err * R).T @ X\n",
    "    grad = np.append(X_grad.flatten(), Theta_grad.flatten())\n",
    "    \n",
    "    # Computing the regularized gradient\n",
    "    reg_X_grad = X_grad + Lambda * X\n",
    "    reg_Theta_grad = Theta_grad + Lambda * Theta\n",
    "    reg_grad = np.append(reg_X_grad.flatten(), reg_Theta_grad.flatten())\n",
    "    \n",
    "    return J, grad, reg_J, reg_grad"
   ]
  },
  {
   "cell_type": "markdown",
   "metadata": {},
   "source": [
    "I will randomly rate some movies as a 'new user' to this system."
   ]
  },
  {
   "cell_type": "code",
   "execution_count": 4,
   "metadata": {},
   "outputs": [
    {
     "name": "stdout",
     "output_type": "stream",
     "text": [
      "New user ratings:\n",
      "\n",
      "Rated 4 for index 2 GoldenEye (1995)\n",
      "Rated 3 for index 4 Get Shorty (1995)\n",
      "Rated 5 for index 5 Copycat (1995)\n",
      "Rated 3 for index 7 Twelve Monkeys (1995)\n",
      "Rated 5 for index 9 Dead Man Walking (1995)\n",
      "Rated 5 for index 55 Professional, The (1994)\n",
      "Rated 4 for index 68 Crow, The (1994)\n",
      "Rated 5 for index 79 Fugitive, The (1993)\n",
      "Rated 5 for index 655 Stand by Me (1986)\n",
      "Rated 2 for index 790 Tommy Boy (1995)\n"
     ]
    }
   ],
   "source": [
    "# Initialize my ratings\n",
    "my_ratings = np.zeros((1682,1))\n",
    "\n",
    "# Creating some random ratings for myself\n",
    "my_ratings[1] = 4 \n",
    "my_ratings[789] = 2\n",
    "my_ratings[6] = 3\n",
    "my_ratings[4]= 5\n",
    "my_ratings[54] = 4\n",
    "my_ratings[78]= 5\n",
    "my_ratings[3]= 3\n",
    "my_ratings[654] = 5\n",
    "my_ratings[67]= 4\n",
    "my_ratings[54] = 5\n",
    "my_ratings[8]= 5\n",
    "\n",
    "# Let's see what I rated randomly\n",
    "print(\"New user ratings:\\n\")\n",
    "for i in range(len(my_ratings)):\n",
    "    if my_ratings[i] > 0:\n",
    "        print(\"Rated\", int(my_ratings[i]), \"for index\", movieList[i])"
   ]
  },
  {
   "cell_type": "markdown",
   "metadata": {},
   "source": [
    "The next cell will create a function to normalize the ratings, and the other will conduct batch gradient descent."
   ]
  },
  {
   "cell_type": "code",
   "execution_count": 5,
   "metadata": {},
   "outputs": [],
   "source": [
    "def normalizeRatings(Y, R):\n",
    "    \"\"\"\n",
    "    normalized Y so that each movie has a rating of 0 on average, and returns the mean rating in Ymean.\n",
    "    \"\"\"\n",
    "    \n",
    "    m, n = Y.shape[0], Y.shape[1]\n",
    "    Ymean = np.zeros((m,1))\n",
    "    Ynorm = np.zeros((m,n))\n",
    "    \n",
    "    for i in range(m):\n",
    "        Ymean[i] = np.sum(Y[i,:]) / np.count_nonzero(R[i,:])\n",
    "        Ynorm[i,R[i,:] == 1] = Y[i,R[i,:] == 1] - Ymean[i]\n",
    "        \n",
    "    return Ynorm, Ymean\n",
    "\n",
    "def gradientDescent(initial_parameters, Y, R, num_users, num_movies, num_features, alpha, num_iters, Lambda):\n",
    "    \"\"\"\n",
    "    Optimize X and Theta\n",
    "    \"\"\"\n",
    "    # Unfolding the parameters\n",
    "    X = initial_parameters[:num_movies * num_features].reshape(num_movies, num_features)\n",
    "    Theta = initial_parameters[num_movies * num_features:].reshape(num_users, num_features)\n",
    "    \n",
    "    J_history =[]\n",
    "    \n",
    "    for i in range(num_iters):\n",
    "        params = np.append(X.flatten(), Theta.flatten())\n",
    "        cost, grad = cofiCostFunc(params, Y, R, num_users, num_movies, num_features, Lambda)[2:]\n",
    "        \n",
    "        # unfold grad\n",
    "        X_grad = grad[:num_movies * num_features].reshape(num_movies, num_features)\n",
    "        Theta_grad = grad[num_movies * num_features:].reshape(num_users, num_features)\n",
    "        X = X - (alpha * X_grad)\n",
    "        Theta = Theta - (alpha * Theta_grad)\n",
    "        J_history.append(cost)\n",
    "    \n",
    "    paramsFinal = np.append(X.flatten(),Theta.flatten())\n",
    "    return paramsFinal , J_history"
   ]
  },
  {
   "cell_type": "code",
   "execution_count": 6,
   "metadata": {},
   "outputs": [],
   "source": [
    "Y = np.hstack((my_ratings,Y))\n",
    "R = np.hstack((my_ratings != 0, R))\n",
    "\n",
    "# Normalize Ratings\n",
    "Ynorm, Ymean = normalizeRatings(Y, R)\n",
    "num_users = Y.shape[1]\n",
    "num_movies = Y.shape[0]\n",
    "num_features = 10\n",
    "\n",
    "# Set initial Parameters (Theta,X)\n",
    "X = np.random.randn(num_movies, num_features)\n",
    "Theta = np.random.randn(num_users, num_features)\n",
    "initial_parameters = np.append(X.flatten(),Theta.flatten())\n",
    "Lambda = 10\n",
    "\n",
    "# Optimize parameters using Gradient Descent\n",
    "paramsFinal, J_history = gradientDescent(initial_parameters,Y,R,num_users,num_movies,num_features,0.001,400,Lambda)"
   ]
  },
  {
   "cell_type": "markdown",
   "metadata": {},
   "source": [
    "For a sanity check, I will graph the cost function to ensure the gradient descent algorithm is working properly."
   ]
  },
  {
   "cell_type": "code",
   "execution_count": 7,
   "metadata": {},
   "outputs": [
    {
     "data": {
      "text/plain": [
       "Text(0.5,1,'Cost function using Gradient Descent')"
      ]
     },
     "execution_count": 7,
     "metadata": {},
     "output_type": "execute_result"
    },
    {
     "data": {
      "image/png": "[encoded data removed]",
      "text/plain": [
       "<Figure size 432x288 with 1 Axes>"
      ]
     },
     "metadata": {
      "needs_background": "light"
     },
     "output_type": "display_data"
    }
   ],
   "source": [
    "plt.plot(J_history)\n",
    "plt.xlabel(\"Iteration\")\n",
    "plt.ylabel(\"$J(\\Theta)$\")\n",
    "plt.title(\"Cost function using Gradient Descent\")"
   ]
  },
  {
   "cell_type": "markdown",
   "metadata": {},
   "source": [
    "Excellent, the algorithm learned and was able to decrease the cost associated with the $\\theta$s. Next is to make predictions that have not been rated yet. Since the ratings were normalized, I will add the mean back to the value to produce a correct un-normalized predicted rating."
   ]
  },
  {
   "cell_type": "code",
   "execution_count": 8,
   "metadata": {},
   "outputs": [
    {
     "name": "stdout",
     "output_type": "stream",
     "text": [
      "Top recommendations for you:\n",
      "\n",
      "Predicting rating 8.7  for index 64 Shawshank Redemption, The (1994)\n",
      "Predicting rating 8.7  for index 313 Titanic (1997)\n",
      "Predicting rating 8.6  for index 318 Schindler's List (1993)\n",
      "Predicting rating 8.6  for index 272 Good Will Hunting (1997)\n",
      "Predicting rating 8.4  for index 12 Usual Suspects, The (1995)\n",
      "Predicting rating 8.4  for index 127 Godfather, The (1972)\n",
      "Predicting rating 8.4  for index 408 Close Shave, A (1995)\n",
      "Predicting rating 8.3  for index 169 Wrong Trousers, The (1993)\n",
      "Predicting rating 8.3  for index 483 Casablanca (1942)\n",
      "Predicting rating 8.3  for index 302 L.A. Confidential (1997)\n"
     ]
    }
   ],
   "source": [
    "# unfold paramaters\n",
    "X = paramsFinal[:num_movies*num_features].reshape(num_movies,num_features)\n",
    "Theta = paramsFinal[num_movies*num_features:].reshape(num_users,num_features)\n",
    "\n",
    "# Predict rating\n",
    "p = X @ Theta.T\n",
    "my_predictions = p[:,0][:,np.newaxis] + Ymean\n",
    "\n",
    "df = pd.DataFrame(np.hstack((my_predictions, np.array(movieList)[:,np.newaxis])))\n",
    "df.sort_values(by=[0], ascending=False, inplace=True)\n",
    "df.reset_index(drop=True, inplace=True)\n",
    "\n",
    "print(\"Top recommendations for you:\\n\")\n",
    "for i in range(10):\n",
    "    print(\"Predicting rating\",round(float(df[0][i]),1),\" for index\",df[1][i])"
   ]
  },
  {
   "cell_type": "markdown",
   "metadata": {},
   "source": [
    "Not bad recommendations given my randomly assigned ratings."
   ]
  }
 ],
 "metadata": {
  "kernelspec": {
   "display_name": "Python 3",
   "language": "python",
   "name": "python3"
  },
  "language_info": {
   "codemirror_mode": {
    "name": "ipython",
    "version": 3
   },
   "file_extension": ".py",
   "mimetype": "text/x-python",
   "name": "python",
   "nbconvert_exporter": "python",
   "pygments_lexer": "ipython3",
   "version": "3.7.0"
  }
 },
 "nbformat": 4,
 "nbformat_minor": 2
}
