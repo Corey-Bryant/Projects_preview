{
 "cells": [
  {
   "cell_type": "markdown",
   "metadata": {},
   "source": [
    "# This is a sample of a web scrape\n",
    "\n",
    "#### Collecting data from a webpage\n",
    "\n",
    "This page contains a demonstration of grabbing data from a webpage and turning it into a dataframe for further analysis. The additional analysis is not conducted here, the focus is to demonstrate a web scraping program to collect data from an internet page."
   ]
  },
  {
   "cell_type": "code",
   "execution_count": 1,
   "metadata": {
    "collapsed": true
   },
   "outputs": [],
   "source": [
    "# Importing libraries\n",
    "\n",
    "from bs4 import BeautifulSoup\n",
    "from lxml import html\n",
    "import requests\n",
    "import urllib\n",
    "\n",
    "import pandas as pd\n",
    "from pandas import Series, DataFrame"
   ]
  },
  {
   "cell_type": "code",
   "execution_count": 2,
   "metadata": {
    "collapsed": true
   },
   "outputs": [],
   "source": [
    "# Retreiving data from the web page\n",
    "\n",
    "page = requests.get('http://econpy.pythonanywhere.com/ex/001.html')\n",
    "tree = html.fromstring(page.content)\n",
    "url = ('http://econpy.pythonanywhere.com/ex/001.html')"
   ]
  },
  {
   "cell_type": "code",
   "execution_count": 3,
   "metadata": {
    "collapsed": false
   },
   "outputs": [
    {
     "data": {
      "text/plain": [
       "'<!DOCTYPE html>\\n<html>\\n<head>\\n    <meta charset=\"utf-8\">\\n    <title>Items 1 to 20 -- Example Page 1</title>\\n    <script type=\"text/javascript\">\\n      var _gaq = _gaq || [];\\n      _gaq.push([\\'_setAccount\\', \\'UA-23648880-1\\']);\\n      _gaq.push([\\'_trackPageview\\']);\\n      _gaq.push([\\'_setDomainName\\', \\'econpy.org\\']);\\n    </script>\\n</head>\\n<body>\\n<div align=\"center\">1, <a href=\"http://econpy.pythonanywhere.com/ex/002.html\">[<font color=\"green\">2</font>]</a>, <a href=\"http://econpy.pythonanywhere.com/ex/003.html\">[<font color=\"green\">3</font>]</a>, <a href=\"http://econpy.pythonanywhere.com/ex/004.html\">[<font color=\"green\">4</font>]</a>, <a href=\"http://econpy.pythonanywhere.com/ex/005.html\">[<font color=\"green\">5</font>]</a></div>\\n<div title=\"buyer-info\">\\n  <div title=\"buyer-name\">Carson Busses</div>\\n  <span class=\"item-price\">$29.95</span><br>\\n</div>\\n<div title=\"buyer-info\">\\n  <div title=\"buyer-name\">Earl E. Byrd</div>\\n  <span class=\"item-price\">$8.37</span><br>\\n</div>\\n<div title=\"buyer-info\"'"
      ]
     },
     "execution_count": 3,
     "metadata": {},
     "output_type": "execute_result"
    }
   ],
   "source": [
    "# This is a look of the code behind the web page. We need to know\n",
    "# what the element tags are to grab the correct information.\n",
    "\n",
    "urllib.urlopen(url).read(1000)"
   ]
  },
  {
   "cell_type": "markdown",
   "metadata": {},
   "source": [
    "##### The information we want are the buyer and prices.\n",
    "\n",
    "##### These are under \"div title= \"buyer-name\" and\n",
    "##### \"span class= \"item-price\""
   ]
  },
  {
   "cell_type": "code",
   "execution_count": 4,
   "metadata": {
    "collapsed": false
   },
   "outputs": [],
   "source": [
    "# This will create a list of buyers:\n",
    "buyers = tree.xpath('//div[@title= \"buyer-name\"]/text()')\n",
    "\n",
    "# This will create a list of prices\n",
    "prices = tree.xpath('//span[@class= \"item-price\"]/text()')\n"
   ]
  },
  {
   "cell_type": "code",
   "execution_count": 5,
   "metadata": {
    "collapsed": false
   },
   "outputs": [
    {
     "name": "stdout",
     "output_type": "stream",
     "text": [
      "['Carson Busses', 'Earl E. Byrd', 'Patty Cakes', 'Derri Anne Connecticut', 'Moe Dess', 'Leda Doggslife', 'Dan Druff', 'Al Fresco', 'Ido Hoe', 'Howie Kisses', 'Len Lease', 'Phil Meup', 'Ira Pent', 'Ben D. Rules', 'Ave Sectomy', 'Gary Shattire', 'Bobbi Soks', 'Sheila Takya', 'Rose Tattoo', 'Moe Tell']\n"
     ]
    }
   ],
   "source": [
    "# Let's see the buyers\n",
    "\n",
    "print buyers"
   ]
  },
  {
   "cell_type": "code",
   "execution_count": 6,
   "metadata": {
    "collapsed": false
   },
   "outputs": [
    {
     "name": "stdout",
     "output_type": "stream",
     "text": [
      "['$29.95', '$8.37', '$15.26', '$19.25', '$19.25', '$13.99', '$31.57', '$8.49', '$14.47', '$15.86', '$11.11', '$15.98', '$16.27', '$7.50', '$50.85', '$14.26', '$5.68', '$15.00', '$114.07', '$10.09']\n"
     ]
    }
   ],
   "source": [
    "# Let's see the prices\n",
    "\n",
    "print prices"
   ]
  },
  {
   "cell_type": "markdown",
   "metadata": {},
   "source": [
    "###### Since the web scraper grabbed the data systemmatically, we know  the buyer and price matches up in the separate lists.\n",
    "###### Knowing that, we can combine it into a data frame so it's easier to view and for later analysis."
   ]
  },
  {
   "cell_type": "code",
   "execution_count": 7,
   "metadata": {
    "collapsed": false
   },
   "outputs": [
    {
     "data": {
      "text/html": [
       "<div>\n",
       "<table border=\"1\" class=\"dataframe\">\n",
       "  <thead>\n",
       "    <tr style=\"text-align: right;\">\n",
       "      <th></th>\n",
       "      <th>Buyer</th>\n",
       "      <th>Price</th>\n",
       "    </tr>\n",
       "  </thead>\n",
       "  <tbody>\n",
       "    <tr>\n",
       "      <th>0</th>\n",
       "      <td>Carson Busses</td>\n",
       "      <td>$29.95</td>\n",
       "    </tr>\n",
       "    <tr>\n",
       "      <th>1</th>\n",
       "      <td>Earl E. Byrd</td>\n",
       "      <td>$8.37</td>\n",
       "    </tr>\n",
       "    <tr>\n",
       "      <th>2</th>\n",
       "      <td>Patty Cakes</td>\n",
       "      <td>$15.26</td>\n",
       "    </tr>\n",
       "    <tr>\n",
       "      <th>3</th>\n",
       "      <td>Derri Anne Connecticut</td>\n",
       "      <td>$19.25</td>\n",
       "    </tr>\n",
       "    <tr>\n",
       "      <th>4</th>\n",
       "      <td>Moe Dess</td>\n",
       "      <td>$19.25</td>\n",
       "    </tr>\n",
       "    <tr>\n",
       "      <th>5</th>\n",
       "      <td>Leda Doggslife</td>\n",
       "      <td>$13.99</td>\n",
       "    </tr>\n",
       "    <tr>\n",
       "      <th>6</th>\n",
       "      <td>Dan Druff</td>\n",
       "      <td>$31.57</td>\n",
       "    </tr>\n",
       "    <tr>\n",
       "      <th>7</th>\n",
       "      <td>Al Fresco</td>\n",
       "      <td>$8.49</td>\n",
       "    </tr>\n",
       "    <tr>\n",
       "      <th>8</th>\n",
       "      <td>Ido Hoe</td>\n",
       "      <td>$14.47</td>\n",
       "    </tr>\n",
       "    <tr>\n",
       "      <th>9</th>\n",
       "      <td>Howie Kisses</td>\n",
       "      <td>$15.86</td>\n",
       "    </tr>\n",
       "    <tr>\n",
       "      <th>10</th>\n",
       "      <td>Len Lease</td>\n",
       "      <td>$11.11</td>\n",
       "    </tr>\n",
       "    <tr>\n",
       "      <th>11</th>\n",
       "      <td>Phil Meup</td>\n",
       "      <td>$15.98</td>\n",
       "    </tr>\n",
       "    <tr>\n",
       "      <th>12</th>\n",
       "      <td>Ira Pent</td>\n",
       "      <td>$16.27</td>\n",
       "    </tr>\n",
       "    <tr>\n",
       "      <th>13</th>\n",
       "      <td>Ben D. Rules</td>\n",
       "      <td>$7.50</td>\n",
       "    </tr>\n",
       "    <tr>\n",
       "      <th>14</th>\n",
       "      <td>Ave Sectomy</td>\n",
       "      <td>$50.85</td>\n",
       "    </tr>\n",
       "    <tr>\n",
       "      <th>15</th>\n",
       "      <td>Gary Shattire</td>\n",
       "      <td>$14.26</td>\n",
       "    </tr>\n",
       "    <tr>\n",
       "      <th>16</th>\n",
       "      <td>Bobbi Soks</td>\n",
       "      <td>$5.68</td>\n",
       "    </tr>\n",
       "    <tr>\n",
       "      <th>17</th>\n",
       "      <td>Sheila Takya</td>\n",
       "      <td>$15.00</td>\n",
       "    </tr>\n",
       "    <tr>\n",
       "      <th>18</th>\n",
       "      <td>Rose Tattoo</td>\n",
       "      <td>$114.07</td>\n",
       "    </tr>\n",
       "    <tr>\n",
       "      <th>19</th>\n",
       "      <td>Moe Tell</td>\n",
       "      <td>$10.09</td>\n",
       "    </tr>\n",
       "  </tbody>\n",
       "</table>\n",
       "</div>"
      ],
      "text/plain": [
       "                     Buyer    Price\n",
       "0            Carson Busses   $29.95\n",
       "1             Earl E. Byrd    $8.37\n",
       "2              Patty Cakes   $15.26\n",
       "3   Derri Anne Connecticut   $19.25\n",
       "4                 Moe Dess   $19.25\n",
       "5           Leda Doggslife   $13.99\n",
       "6                Dan Druff   $31.57\n",
       "7                Al Fresco    $8.49\n",
       "8                  Ido Hoe   $14.47\n",
       "9             Howie Kisses   $15.86\n",
       "10               Len Lease   $11.11\n",
       "11               Phil Meup   $15.98\n",
       "12                Ira Pent   $16.27\n",
       "13            Ben D. Rules    $7.50\n",
       "14             Ave Sectomy   $50.85\n",
       "15           Gary Shattire   $14.26\n",
       "16              Bobbi Soks    $5.68\n",
       "17            Sheila Takya   $15.00\n",
       "18             Rose Tattoo  $114.07\n",
       "19                Moe Tell   $10.09"
      ]
     },
     "execution_count": 7,
     "metadata": {},
     "output_type": "execute_result"
    }
   ],
   "source": [
    "# Combining the separate lists into a single dataframe\n",
    "\n",
    "buyer_price_df = DataFrame(zip(buyers,prices), \n",
    "                           columns = (\"Buyer\", \"Price\"))\n",
    "\n",
    "buyer_price_df"
   ]
  },
  {
   "cell_type": "code",
   "execution_count": null,
   "metadata": {
    "collapsed": true
   },
   "outputs": [],
   "source": []
  }
 ],
 "metadata": {
  "kernelspec": {
   "display_name": "Python 2",
   "language": "python",
   "name": "python2"
  },
  "language_info": {
   "codemirror_mode": {
    "name": "ipython",
    "version": 2
   },
   "file_extension": ".py",
   "mimetype": "text/x-python",
   "name": "python",
   "nbconvert_exporter": "python",
   "pygments_lexer": "ipython2",
   "version": "2.7.11"
  }
 },
 "nbformat": 4,
 "nbformat_minor": 0
}
