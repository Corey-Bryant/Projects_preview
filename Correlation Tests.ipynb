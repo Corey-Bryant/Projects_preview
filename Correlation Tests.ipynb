{
 "cells": [
  {
   "cell_type": "markdown",
   "metadata": {},
   "source": [
    "# This correlation analysis will be conducted with the Iris data set."
   ]
  },
  {
   "cell_type": "code",
   "execution_count": 1,
   "metadata": {
    "collapsed": false
   },
   "outputs": [],
   "source": [
    "# Importing libraries\n",
    "\n",
    "import numpy as np\n",
    "import pandas as pd\n",
    "from pandas import Series, DataFrame\n",
    "\n",
    "# Stats\n",
    "from scipy import stats\n",
    "from scipy.stats import pearsonr, linregress\n",
    "from statsmodels.formula.api import ols\n",
    "\n",
    "#plotting\n",
    "import matplotlib as mpl\n",
    "import matplotlib.pyplot as plt\n",
    "import seaborn as sns\n",
    "\n",
    "# allows plotting viewed in the notebook\n",
    "%matplotlib inline"
   ]
  },
  {
   "cell_type": "code",
   "execution_count": 2,
   "metadata": {
    "collapsed": false
   },
   "outputs": [
    {
     "data": {
      "text/html": [
       "<div>\n",
       "<table border=\"1\" class=\"dataframe\">\n",
       "  <thead>\n",
       "    <tr style=\"text-align: right;\">\n",
       "      <th></th>\n",
       "      <th>sepal_length</th>\n",
       "      <th>sepal_width</th>\n",
       "      <th>petal_length</th>\n",
       "      <th>petal_width</th>\n",
       "      <th>species</th>\n",
       "    </tr>\n",
       "  </thead>\n",
       "  <tbody>\n",
       "    <tr>\n",
       "      <th>0</th>\n",
       "      <td>5.1</td>\n",
       "      <td>3.5</td>\n",
       "      <td>1.4</td>\n",
       "      <td>0.2</td>\n",
       "      <td>setosa</td>\n",
       "    </tr>\n",
       "    <tr>\n",
       "      <th>1</th>\n",
       "      <td>4.9</td>\n",
       "      <td>3.0</td>\n",
       "      <td>1.4</td>\n",
       "      <td>0.2</td>\n",
       "      <td>setosa</td>\n",
       "    </tr>\n",
       "    <tr>\n",
       "      <th>2</th>\n",
       "      <td>4.7</td>\n",
       "      <td>3.2</td>\n",
       "      <td>1.3</td>\n",
       "      <td>0.2</td>\n",
       "      <td>setosa</td>\n",
       "    </tr>\n",
       "    <tr>\n",
       "      <th>3</th>\n",
       "      <td>4.6</td>\n",
       "      <td>3.1</td>\n",
       "      <td>1.5</td>\n",
       "      <td>0.2</td>\n",
       "      <td>setosa</td>\n",
       "    </tr>\n",
       "    <tr>\n",
       "      <th>4</th>\n",
       "      <td>5.0</td>\n",
       "      <td>3.6</td>\n",
       "      <td>1.4</td>\n",
       "      <td>0.2</td>\n",
       "      <td>setosa</td>\n",
       "    </tr>\n",
       "  </tbody>\n",
       "</table>\n",
       "</div>"
      ],
      "text/plain": [
       "   sepal_length  sepal_width  petal_length  petal_width species\n",
       "0           5.1          3.5           1.4          0.2  setosa\n",
       "1           4.9          3.0           1.4          0.2  setosa\n",
       "2           4.7          3.2           1.3          0.2  setosa\n",
       "3           4.6          3.1           1.5          0.2  setosa\n",
       "4           5.0          3.6           1.4          0.2  setosa"
      ]
     },
     "execution_count": 2,
     "metadata": {},
     "output_type": "execute_result"
    }
   ],
   "source": [
    "# Loading the data\n",
    "data = sns.load_dataset('iris')\n",
    "\n",
    "#Taking a peak at the data\n",
    "data.head()"
   ]
  },
  {
   "cell_type": "code",
   "execution_count": 3,
   "metadata": {
    "collapsed": false
   },
   "outputs": [
    {
     "data": {
      "text/html": [
       "<div>\n",
       "<table border=\"1\" class=\"dataframe\">\n",
       "  <thead>\n",
       "    <tr style=\"text-align: right;\">\n",
       "      <th></th>\n",
       "      <th>sepal_length</th>\n",
       "      <th>sepal_width</th>\n",
       "      <th>petal_length</th>\n",
       "      <th>petal_width</th>\n",
       "    </tr>\n",
       "  </thead>\n",
       "  <tbody>\n",
       "    <tr>\n",
       "      <th>sepal_length</th>\n",
       "      <td>1.000000</td>\n",
       "      <td>-0.117570</td>\n",
       "      <td>0.871754</td>\n",
       "      <td>0.817941</td>\n",
       "    </tr>\n",
       "    <tr>\n",
       "      <th>sepal_width</th>\n",
       "      <td>-0.117570</td>\n",
       "      <td>1.000000</td>\n",
       "      <td>-0.428440</td>\n",
       "      <td>-0.366126</td>\n",
       "    </tr>\n",
       "    <tr>\n",
       "      <th>petal_length</th>\n",
       "      <td>0.871754</td>\n",
       "      <td>-0.428440</td>\n",
       "      <td>1.000000</td>\n",
       "      <td>0.962865</td>\n",
       "    </tr>\n",
       "    <tr>\n",
       "      <th>petal_width</th>\n",
       "      <td>0.817941</td>\n",
       "      <td>-0.366126</td>\n",
       "      <td>0.962865</td>\n",
       "      <td>1.000000</td>\n",
       "    </tr>\n",
       "  </tbody>\n",
       "</table>\n",
       "</div>"
      ],
      "text/plain": [
       "              sepal_length  sepal_width  petal_length  petal_width\n",
       "sepal_length      1.000000    -0.117570      0.871754     0.817941\n",
       "sepal_width      -0.117570     1.000000     -0.428440    -0.366126\n",
       "petal_length      0.871754    -0.428440      1.000000     0.962865\n",
       "petal_width       0.817941    -0.366126      0.962865     1.000000"
      ]
     },
     "execution_count": 3,
     "metadata": {},
     "output_type": "execute_result"
    }
   ],
   "source": [
    "# Let's take a look at the correlation matrix to see if there are any correlations between any of the variables\n",
    "\n",
    "data.corr()"
   ]
  },
  {
   "cell_type": "markdown",
   "metadata": {},
   "source": [
    "#### Data shows correlations between the sepal_length and pedal_length, between the sepal_length and the petal_width, and between the petal_length and the petal_width. It'd be interesting to see if this correlation stands true when it's broken down by species type."
   ]
  },
  {
   "cell_type": "code",
   "execution_count": 4,
   "metadata": {
    "collapsed": false
   },
   "outputs": [
    {
     "data": {
      "text/html": [
       "<div>\n",
       "<table border=\"1\" class=\"dataframe\">\n",
       "  <thead>\n",
       "    <tr style=\"text-align: right;\">\n",
       "      <th></th>\n",
       "      <th></th>\n",
       "      <th>petal_length</th>\n",
       "      <th>petal_width</th>\n",
       "      <th>sepal_length</th>\n",
       "      <th>sepal_width</th>\n",
       "    </tr>\n",
       "    <tr>\n",
       "      <th>species</th>\n",
       "      <th></th>\n",
       "      <th></th>\n",
       "      <th></th>\n",
       "      <th></th>\n",
       "      <th></th>\n",
       "    </tr>\n",
       "  </thead>\n",
       "  <tbody>\n",
       "    <tr>\n",
       "      <th rowspan=\"4\" valign=\"top\">setosa</th>\n",
       "      <th>petal_length</th>\n",
       "      <td>1.000000</td>\n",
       "      <td>0.331630</td>\n",
       "      <td>0.267176</td>\n",
       "      <td>0.177700</td>\n",
       "    </tr>\n",
       "    <tr>\n",
       "      <th>petal_width</th>\n",
       "      <td>0.331630</td>\n",
       "      <td>1.000000</td>\n",
       "      <td>0.278098</td>\n",
       "      <td>0.232752</td>\n",
       "    </tr>\n",
       "    <tr>\n",
       "      <th>sepal_length</th>\n",
       "      <td>0.267176</td>\n",
       "      <td>0.278098</td>\n",
       "      <td>1.000000</td>\n",
       "      <td>0.742547</td>\n",
       "    </tr>\n",
       "    <tr>\n",
       "      <th>sepal_width</th>\n",
       "      <td>0.177700</td>\n",
       "      <td>0.232752</td>\n",
       "      <td>0.742547</td>\n",
       "      <td>1.000000</td>\n",
       "    </tr>\n",
       "    <tr>\n",
       "      <th rowspan=\"4\" valign=\"top\">versicolor</th>\n",
       "      <th>petal_length</th>\n",
       "      <td>1.000000</td>\n",
       "      <td>0.786668</td>\n",
       "      <td>0.754049</td>\n",
       "      <td>0.560522</td>\n",
       "    </tr>\n",
       "    <tr>\n",
       "      <th>petal_width</th>\n",
       "      <td>0.786668</td>\n",
       "      <td>1.000000</td>\n",
       "      <td>0.546461</td>\n",
       "      <td>0.663999</td>\n",
       "    </tr>\n",
       "    <tr>\n",
       "      <th>sepal_length</th>\n",
       "      <td>0.754049</td>\n",
       "      <td>0.546461</td>\n",
       "      <td>1.000000</td>\n",
       "      <td>0.525911</td>\n",
       "    </tr>\n",
       "    <tr>\n",
       "      <th>sepal_width</th>\n",
       "      <td>0.560522</td>\n",
       "      <td>0.663999</td>\n",
       "      <td>0.525911</td>\n",
       "      <td>1.000000</td>\n",
       "    </tr>\n",
       "    <tr>\n",
       "      <th rowspan=\"4\" valign=\"top\">virginica</th>\n",
       "      <th>petal_length</th>\n",
       "      <td>1.000000</td>\n",
       "      <td>0.322108</td>\n",
       "      <td>0.864225</td>\n",
       "      <td>0.401045</td>\n",
       "    </tr>\n",
       "    <tr>\n",
       "      <th>petal_width</th>\n",
       "      <td>0.322108</td>\n",
       "      <td>1.000000</td>\n",
       "      <td>0.281108</td>\n",
       "      <td>0.537728</td>\n",
       "    </tr>\n",
       "    <tr>\n",
       "      <th>sepal_length</th>\n",
       "      <td>0.864225</td>\n",
       "      <td>0.281108</td>\n",
       "      <td>1.000000</td>\n",
       "      <td>0.457228</td>\n",
       "    </tr>\n",
       "    <tr>\n",
       "      <th>sepal_width</th>\n",
       "      <td>0.401045</td>\n",
       "      <td>0.537728</td>\n",
       "      <td>0.457228</td>\n",
       "      <td>1.000000</td>\n",
       "    </tr>\n",
       "  </tbody>\n",
       "</table>\n",
       "</div>"
      ],
      "text/plain": [
       "                         petal_length  petal_width  sepal_length  sepal_width\n",
       "species                                                                      \n",
       "setosa     petal_length      1.000000     0.331630      0.267176     0.177700\n",
       "           petal_width       0.331630     1.000000      0.278098     0.232752\n",
       "           sepal_length      0.267176     0.278098      1.000000     0.742547\n",
       "           sepal_width       0.177700     0.232752      0.742547     1.000000\n",
       "versicolor petal_length      1.000000     0.786668      0.754049     0.560522\n",
       "           petal_width       0.786668     1.000000      0.546461     0.663999\n",
       "           sepal_length      0.754049     0.546461      1.000000     0.525911\n",
       "           sepal_width       0.560522     0.663999      0.525911     1.000000\n",
       "virginica  petal_length      1.000000     0.322108      0.864225     0.401045\n",
       "           petal_width       0.322108     1.000000      0.281108     0.537728\n",
       "           sepal_length      0.864225     0.281108      1.000000     0.457228\n",
       "           sepal_width       0.401045     0.537728      0.457228     1.000000"
      ]
     },
     "execution_count": 4,
     "metadata": {},
     "output_type": "execute_result"
    }
   ],
   "source": [
    "# This shows the correlations between the variables brokendown by the individual species type.\n",
    "\n",
    "data.groupby('species').corr()"
   ]
  },
  {
   "cell_type": "markdown",
   "metadata": {},
   "source": [
    "#### Here we can see the different correlations within each species type. It's worthy to note that this does not tell us if the correlations are signifacant or not. Let's test the significance of these next.\n",
    "\n",
    "\n",
    "\n",
    "\n",
    "# First, let's visualize what we just went over"
   ]
  },
  {
   "cell_type": "code",
   "execution_count": 5,
   "metadata": {
    "collapsed": false
   },
   "outputs": [
    {
     "data": {
      "text/plain": [
       "<seaborn.axisgrid.PairGrid at 0xbd269e8>"
      ]
     },
     "execution_count": 5,
     "metadata": {},
     "output_type": "execute_result"
    },
    {
     "data": {
      "image/png": "[encoded data removed]",
      "text/plain": [
       "<matplotlib.figure.Figure at 0xbc88a90>"
      ]
     },
     "metadata": {},
     "output_type": "display_data"
    }
   ],
   "source": [
    "# We could plot each of these individually, however let's go big this time!\n",
    "\n",
    "sns.pairplot(data, hue= 'species', markers=[\"o\",\"s\",\"D\"], size=3)"
   ]
  },
  {
   "cell_type": "code",
   "execution_count": 6,
   "metadata": {
    "collapsed": true
   },
   "outputs": [],
   "source": [
    "# Breaking down the matrix into smaller matrices to test for significance of the correlation values\n",
    "# So that it can be presented in a DataFrame for easier viewing\n",
    "setosa_df = data.ix[data.species == 'setosa']\n",
    "vers_df = data.ix[data.species == 'versicolor']\n",
    "vir_df = data.ix[data.species == 'virginica']"
   ]
  },
  {
   "cell_type": "code",
   "execution_count": 7,
   "metadata": {
    "collapsed": true
   },
   "outputs": [],
   "source": [
    "# Removing the name column for function purposes\n",
    "setosa_df=setosa_df.drop('species', axis=1)\n",
    "vers_df=vers_df.drop('species', axis=1)\n",
    "vir_df=vir_df.drop('species', axis=1)"
   ]
  },
  {
   "cell_type": "code",
   "execution_count": 8,
   "metadata": {
    "collapsed": false,
    "scrolled": true
   },
   "outputs": [
    {
     "name": "stdout",
     "output_type": "stream",
     "text": [
      "Correlation matrix for the Setosa species\n"
     ]
    },
    {
     "name": "stderr",
     "output_type": "stream",
     "text": [
      "C:\\Users\\CoreySSD\\Anaconda2\\lib\\site-packages\\IPython\\core\\interactiveshell.py:2885: FutureWarning: The pandas.stats.ols module is deprecated and will be removed in a future version. We refer to external packages like statsmodels, see some examples here: http://statsmodels.sourceforge.net/stable/regression.html\n",
      "  exec(code_obj, self.user_global_ns, self.user_ns)\n"
     ]
    },
    {
     "data": {
      "text/html": [
       "<div>\n",
       "<table border=\"1\" class=\"dataframe\">\n",
       "  <thead>\n",
       "    <tr style=\"text-align: right;\">\n",
       "      <th></th>\n",
       "      <th>sepal_length</th>\n",
       "      <th>sepal_width</th>\n",
       "      <th>petal_length</th>\n",
       "      <th>petal_width</th>\n",
       "    </tr>\n",
       "  </thead>\n",
       "  <tbody>\n",
       "    <tr>\n",
       "      <th>sepal_length</th>\n",
       "      <td>1.000000</td>\n",
       "      <td>0.742547</td>\n",
       "      <td>0.267176</td>\n",
       "      <td>0.278098</td>\n",
       "    </tr>\n",
       "    <tr>\n",
       "      <th>sepal_width</th>\n",
       "      <td>0.742547</td>\n",
       "      <td>1.000000</td>\n",
       "      <td>0.177700</td>\n",
       "      <td>0.232752</td>\n",
       "    </tr>\n",
       "    <tr>\n",
       "      <th>petal_length</th>\n",
       "      <td>0.267176</td>\n",
       "      <td>0.177700</td>\n",
       "      <td>1.000000</td>\n",
       "      <td>0.331630</td>\n",
       "    </tr>\n",
       "    <tr>\n",
       "      <th>petal_width</th>\n",
       "      <td>0.278098</td>\n",
       "      <td>0.232752</td>\n",
       "      <td>0.331630</td>\n",
       "      <td>1.000000</td>\n",
       "    </tr>\n",
       "  </tbody>\n",
       "</table>\n",
       "</div>"
      ],
      "text/plain": [
       "              sepal_length  sepal_width  petal_length  petal_width\n",
       "sepal_length      1.000000     0.742547      0.267176     0.278098\n",
       "sepal_width       0.742547     1.000000      0.177700     0.232752\n",
       "petal_length      0.267176     0.177700      1.000000     0.331630\n",
       "petal_width       0.278098     0.232752      0.331630     1.000000"
      ]
     },
     "execution_count": 8,
     "metadata": {},
     "output_type": "execute_result"
    }
   ],
   "source": [
    "# Let's see the correlation and signifance of the setosa species\n",
    "\n",
    "df = setosa_df\n",
    "rho = df.corr()\n",
    "pval = np.zeros([df.shape[1],df.shape[1]])\n",
    "\n",
    "for i in range(df.shape[1]): # rows are the number of rows in the matrix.\n",
    "    for j in range(df.shape[1]):\n",
    "        JonI        = pd.ols(y=df.iloc[:,i], x=df.iloc[:,j], intercept=True)\n",
    "        pval[i,j]  = JonI.f_stat['p-value']\n",
    "\n",
    "print \"Correlation matrix for the Setosa species\"\n",
    "rho\n"
   ]
  },
  {
   "cell_type": "code",
   "execution_count": 9,
   "metadata": {
    "collapsed": false
   },
   "outputs": [
    {
     "name": "stdout",
     "output_type": "stream",
     "text": [
      "Significance values of the correlation matrix for the Setosa species\n"
     ]
    },
    {
     "data": {
      "text/html": [
       "<div>\n",
       "<table border=\"1\" class=\"dataframe\">\n",
       "  <thead>\n",
       "    <tr style=\"text-align: right;\">\n",
       "      <th></th>\n",
       "      <th>sepal_length</th>\n",
       "      <th>sepal_width</th>\n",
       "      <th>petal_length</th>\n",
       "      <th>petal_width</th>\n",
       "    </tr>\n",
       "  </thead>\n",
       "  <tbody>\n",
       "    <tr>\n",
       "      <th>sepal_length</th>\n",
       "      <td>0.000000e+00</td>\n",
       "      <td>6.709843e-10</td>\n",
       "      <td>0.060698</td>\n",
       "      <td>0.050526</td>\n",
       "    </tr>\n",
       "    <tr>\n",
       "      <th>sepal_width</th>\n",
       "      <td>6.709843e-10</td>\n",
       "      <td>0.000000e+00</td>\n",
       "      <td>0.216979</td>\n",
       "      <td>0.103821</td>\n",
       "    </tr>\n",
       "    <tr>\n",
       "      <th>petal_length</th>\n",
       "      <td>6.069778e-02</td>\n",
       "      <td>2.169789e-01</td>\n",
       "      <td>0.000000</td>\n",
       "      <td>0.018639</td>\n",
       "    </tr>\n",
       "    <tr>\n",
       "      <th>petal_width</th>\n",
       "      <td>5.052644e-02</td>\n",
       "      <td>1.038211e-01</td>\n",
       "      <td>0.018639</td>\n",
       "      <td>0.000000</td>\n",
       "    </tr>\n",
       "  </tbody>\n",
       "</table>\n",
       "</div>"
      ],
      "text/plain": [
       "              sepal_length   sepal_width  petal_length  petal_width\n",
       "sepal_length  0.000000e+00  6.709843e-10      0.060698     0.050526\n",
       "sepal_width   6.709843e-10  0.000000e+00      0.216979     0.103821\n",
       "petal_length  6.069778e-02  2.169789e-01      0.000000     0.018639\n",
       "petal_width   5.052644e-02  1.038211e-01      0.018639     0.000000"
      ]
     },
     "execution_count": 9,
     "metadata": {},
     "output_type": "execute_result"
    }
   ],
   "source": [
    "print \"Significance values of the correlation matrix for the Setosa species\"\n",
    "DataFrame(pval, index= rho.index, columns= rho.columns)"
   ]
  },
  {
   "cell_type": "markdown",
   "metadata": {},
   "source": [
    "#### You can see the correlation matrix has some significant findings between the correlation of several values."
   ]
  },
  {
   "cell_type": "code",
   "execution_count": 10,
   "metadata": {
    "collapsed": false
   },
   "outputs": [
    {
     "name": "stdout",
     "output_type": "stream",
     "text": [
      "Correlation matrix for the Versicolor species\n"
     ]
    },
    {
     "data": {
      "text/html": [
       "<div>\n",
       "<table border=\"1\" class=\"dataframe\">\n",
       "  <thead>\n",
       "    <tr style=\"text-align: right;\">\n",
       "      <th></th>\n",
       "      <th>sepal_length</th>\n",
       "      <th>sepal_width</th>\n",
       "      <th>petal_length</th>\n",
       "      <th>petal_width</th>\n",
       "    </tr>\n",
       "  </thead>\n",
       "  <tbody>\n",
       "    <tr>\n",
       "      <th>sepal_length</th>\n",
       "      <td>1.000000</td>\n",
       "      <td>0.525911</td>\n",
       "      <td>0.754049</td>\n",
       "      <td>0.546461</td>\n",
       "    </tr>\n",
       "    <tr>\n",
       "      <th>sepal_width</th>\n",
       "      <td>0.525911</td>\n",
       "      <td>1.000000</td>\n",
       "      <td>0.560522</td>\n",
       "      <td>0.663999</td>\n",
       "    </tr>\n",
       "    <tr>\n",
       "      <th>petal_length</th>\n",
       "      <td>0.754049</td>\n",
       "      <td>0.560522</td>\n",
       "      <td>1.000000</td>\n",
       "      <td>0.786668</td>\n",
       "    </tr>\n",
       "    <tr>\n",
       "      <th>petal_width</th>\n",
       "      <td>0.546461</td>\n",
       "      <td>0.663999</td>\n",
       "      <td>0.786668</td>\n",
       "      <td>1.000000</td>\n",
       "    </tr>\n",
       "  </tbody>\n",
       "</table>\n",
       "</div>"
      ],
      "text/plain": [
       "              sepal_length  sepal_width  petal_length  petal_width\n",
       "sepal_length      1.000000     0.525911      0.754049     0.546461\n",
       "sepal_width       0.525911     1.000000      0.560522     0.663999\n",
       "petal_length      0.754049     0.560522      1.000000     0.786668\n",
       "petal_width       0.546461     0.663999      0.786668     1.000000"
      ]
     },
     "execution_count": 10,
     "metadata": {},
     "output_type": "execute_result"
    }
   ],
   "source": [
    "df= vers_df\n",
    "rho = df.corr()\n",
    "pval = np.zeros([df.shape[1],df.shape[1]])\n",
    "\n",
    "for i in range(df.shape[1]): # rows are the number of rows in the matrix.\n",
    "    for j in range(df.shape[1]):\n",
    "        JonI        = pd.ols(y=df.iloc[:,i], x=df.iloc[:,j], intercept=True)\n",
    "        pval[i,j]  = JonI.f_stat['p-value']\n",
    "\n",
    "print \"Correlation matrix for the Versicolor species\"\n",
    "rho"
   ]
  },
  {
   "cell_type": "code",
   "execution_count": 11,
   "metadata": {
    "collapsed": false
   },
   "outputs": [
    {
     "name": "stdout",
     "output_type": "stream",
     "text": [
      "Signifance values of the correlation matrix for the Versicolor species\n"
     ]
    },
    {
     "data": {
      "text/html": [
       "<div>\n",
       "<table border=\"1\" class=\"dataframe\">\n",
       "  <thead>\n",
       "    <tr style=\"text-align: right;\">\n",
       "      <th></th>\n",
       "      <th>sepal_length</th>\n",
       "      <th>sepal_width</th>\n",
       "      <th>petal_length</th>\n",
       "      <th>petal_width</th>\n",
       "    </tr>\n",
       "  </thead>\n",
       "  <tbody>\n",
       "    <tr>\n",
       "      <th>sepal_length</th>\n",
       "      <td>0.000000e+00</td>\n",
       "      <td>8.771860e-05</td>\n",
       "      <td>2.586189e-10</td>\n",
       "      <td>4.035422e-05</td>\n",
       "    </tr>\n",
       "    <tr>\n",
       "      <th>sepal_width</th>\n",
       "      <td>8.771860e-05</td>\n",
       "      <td>0.000000e+00</td>\n",
       "      <td>2.302168e-05</td>\n",
       "      <td>1.466661e-07</td>\n",
       "    </tr>\n",
       "    <tr>\n",
       "      <th>petal_length</th>\n",
       "      <td>2.586189e-10</td>\n",
       "      <td>2.302168e-05</td>\n",
       "      <td>0.000000e+00</td>\n",
       "      <td>1.271916e-11</td>\n",
       "    </tr>\n",
       "    <tr>\n",
       "      <th>petal_width</th>\n",
       "      <td>4.035422e-05</td>\n",
       "      <td>1.466661e-07</td>\n",
       "      <td>1.271916e-11</td>\n",
       "      <td>0.000000e+00</td>\n",
       "    </tr>\n",
       "  </tbody>\n",
       "</table>\n",
       "</div>"
      ],
      "text/plain": [
       "              sepal_length   sepal_width  petal_length   petal_width\n",
       "sepal_length  0.000000e+00  8.771860e-05  2.586189e-10  4.035422e-05\n",
       "sepal_width   8.771860e-05  0.000000e+00  2.302168e-05  1.466661e-07\n",
       "petal_length  2.586189e-10  2.302168e-05  0.000000e+00  1.271916e-11\n",
       "petal_width   4.035422e-05  1.466661e-07  1.271916e-11  0.000000e+00"
      ]
     },
     "execution_count": 11,
     "metadata": {},
     "output_type": "execute_result"
    }
   ],
   "source": [
    "print \"Signifance values of the correlation matrix for the Versicolor species\"\n",
    "DataFrame(pval, index= rho.index, columns= rho.columns)"
   ]
  },
  {
   "cell_type": "markdown",
   "metadata": {},
   "source": [
    "#### Unlike like the Setosa species, all the variables that were measured were signficantly correlated."
   ]
  },
  {
   "cell_type": "code",
   "execution_count": 12,
   "metadata": {
    "collapsed": false
   },
   "outputs": [
    {
     "name": "stdout",
     "output_type": "stream",
     "text": [
      "Correlation matrix for the Virginica species\n"
     ]
    },
    {
     "data": {
      "text/html": [
       "<div>\n",
       "<table border=\"1\" class=\"dataframe\">\n",
       "  <thead>\n",
       "    <tr style=\"text-align: right;\">\n",
       "      <th></th>\n",
       "      <th>sepal_length</th>\n",
       "      <th>sepal_width</th>\n",
       "      <th>petal_length</th>\n",
       "      <th>petal_width</th>\n",
       "    </tr>\n",
       "  </thead>\n",
       "  <tbody>\n",
       "    <tr>\n",
       "      <th>sepal_length</th>\n",
       "      <td>1.000000</td>\n",
       "      <td>0.457228</td>\n",
       "      <td>0.864225</td>\n",
       "      <td>0.281108</td>\n",
       "    </tr>\n",
       "    <tr>\n",
       "      <th>sepal_width</th>\n",
       "      <td>0.457228</td>\n",
       "      <td>1.000000</td>\n",
       "      <td>0.401045</td>\n",
       "      <td>0.537728</td>\n",
       "    </tr>\n",
       "    <tr>\n",
       "      <th>petal_length</th>\n",
       "      <td>0.864225</td>\n",
       "      <td>0.401045</td>\n",
       "      <td>1.000000</td>\n",
       "      <td>0.322108</td>\n",
       "    </tr>\n",
       "    <tr>\n",
       "      <th>petal_width</th>\n",
       "      <td>0.281108</td>\n",
       "      <td>0.537728</td>\n",
       "      <td>0.322108</td>\n",
       "      <td>1.000000</td>\n",
       "    </tr>\n",
       "  </tbody>\n",
       "</table>\n",
       "</div>"
      ],
      "text/plain": [
       "              sepal_length  sepal_width  petal_length  petal_width\n",
       "sepal_length      1.000000     0.457228      0.864225     0.281108\n",
       "sepal_width       0.457228     1.000000      0.401045     0.537728\n",
       "petal_length      0.864225     0.401045      1.000000     0.322108\n",
       "petal_width       0.281108     0.537728      0.322108     1.000000"
      ]
     },
     "execution_count": 12,
     "metadata": {},
     "output_type": "execute_result"
    }
   ],
   "source": [
    "df= vir_df\n",
    "rho = df.corr()\n",
    "pval = np.zeros([df.shape[1],df.shape[1]])\n",
    "\n",
    "for i in range(df.shape[1]): # rows are the number of rows in the matrix.\n",
    "    for j in range(df.shape[1]):\n",
    "        JonI        = pd.ols(y=df.iloc[:,i], x=df.iloc[:,j], intercept=True)\n",
    "        pval[i,j]  = JonI.f_stat['p-value']\n",
    "\n",
    "print \"Correlation matrix for the Virginica species\"\n",
    "rho"
   ]
  },
  {
   "cell_type": "code",
   "execution_count": 13,
   "metadata": {
    "collapsed": false
   },
   "outputs": [
    {
     "name": "stdout",
     "output_type": "stream",
     "text": [
      "Signifance values of the correlation matrix for the Verginica species\n"
     ]
    },
    {
     "data": {
      "text/html": [
       "<div>\n",
       "<table border=\"1\" class=\"dataframe\">\n",
       "  <thead>\n",
       "    <tr style=\"text-align: right;\">\n",
       "      <th></th>\n",
       "      <th>sepal_length</th>\n",
       "      <th>sepal_width</th>\n",
       "      <th>petal_length</th>\n",
       "      <th>petal_width</th>\n",
       "    </tr>\n",
       "  </thead>\n",
       "  <tbody>\n",
       "    <tr>\n",
       "      <th>sepal_length</th>\n",
       "      <td>0.000000e+00</td>\n",
       "      <td>0.000843</td>\n",
       "      <td>6.661338e-16</td>\n",
       "      <td>0.047981</td>\n",
       "    </tr>\n",
       "    <tr>\n",
       "      <th>sepal_width</th>\n",
       "      <td>8.434625e-04</td>\n",
       "      <td>0.000000</td>\n",
       "      <td>3.897704e-03</td>\n",
       "      <td>0.000056</td>\n",
       "    </tr>\n",
       "    <tr>\n",
       "      <th>petal_length</th>\n",
       "      <td>6.661338e-16</td>\n",
       "      <td>0.003898</td>\n",
       "      <td>0.000000e+00</td>\n",
       "      <td>0.022536</td>\n",
       "    </tr>\n",
       "    <tr>\n",
       "      <th>petal_width</th>\n",
       "      <td>4.798149e-02</td>\n",
       "      <td>0.000056</td>\n",
       "      <td>2.253577e-02</td>\n",
       "      <td>0.000000</td>\n",
       "    </tr>\n",
       "  </tbody>\n",
       "</table>\n",
       "</div>"
      ],
      "text/plain": [
       "              sepal_length  sepal_width  petal_length  petal_width\n",
       "sepal_length  0.000000e+00     0.000843  6.661338e-16     0.047981\n",
       "sepal_width   8.434625e-04     0.000000  3.897704e-03     0.000056\n",
       "petal_length  6.661338e-16     0.003898  0.000000e+00     0.022536\n",
       "petal_width   4.798149e-02     0.000056  2.253577e-02     0.000000"
      ]
     },
     "execution_count": 13,
     "metadata": {},
     "output_type": "execute_result"
    }
   ],
   "source": [
    "print \"Signifance values of the correlation matrix for the Verginica species\"\n",
    "DataFrame(pval, index= rho.index, columns= rho.columns)"
   ]
  },
  {
   "cell_type": "markdown",
   "metadata": {},
   "source": [
    "#### Just like Versicolor species, all the variables that were measured were signficantly correlated."
   ]
  }
 ],
 "metadata": {
  "kernelspec": {
   "display_name": "Python 2",
   "language": "python",
   "name": "python2"
  },
  "language_info": {
   "codemirror_mode": {
    "name": "ipython",
    "version": 2
   },
   "file_extension": ".py",
   "mimetype": "text/x-python",
   "name": "python",
   "nbconvert_exporter": "python",
   "pygments_lexer": "ipython2",
   "version": "2.7.12"
  }
 },
 "nbformat": 4,
 "nbformat_minor": 0
}
